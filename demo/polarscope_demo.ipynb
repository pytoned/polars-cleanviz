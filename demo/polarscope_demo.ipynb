{
  "cells": [
    {
      "cell_type": "markdown",
      "metadata": {},
      "source": [
        "# 🔬 Polarscope v1.0.0 - Comprehensive Demo\n",
        "\n",
        "**Professional data inspection and visualization toolkit for Polars**\n",
        "\n",
        "This notebook demonstrates all functions and features of Polarscope with comprehensive testing of arguments and backends.\n"
      ]
    },
    {
      "cell_type": "code",
      "execution_count": 1,
      "metadata": {},
      "outputs": [
        {
          "name": "stdout",
          "output_type": "stream",
          "text": [
            "🔬 POLARSCOPE v1.0.0 - COMPREHENSIVE DEMO\n",
            "=============================================\n",
            "📦 Package: polarscope\n",
            "🔢 Version: 1.0.0\n",
            "📝 Description: 🔬 Professional data inspection and visualization toolkit for Polars\n",
            "\n",
            "📊 Loaded Titanic dataset: (156, 12)\n",
            "📋 Columns: ['PassengerId', 'Survived', 'Pclass', 'Name', 'Sex', 'Age', 'SibSp', 'Parch', 'Ticket', 'Fare', 'Cabin', 'Embarked']\n",
            "💾 Memory usage: 0.01 MB\n",
            "\n"
          ]
        },
        {
          "data": {
            "text/html": [
              "<div><style>\n",
              ".dataframe > thead > tr,\n",
              ".dataframe > tbody > tr {\n",
              "  text-align: right;\n",
              "  white-space: pre-wrap;\n",
              "}\n",
              "</style>\n",
              "<small>shape: (5, 12)</small><table border=\"1\" class=\"dataframe\"><thead><tr><th>PassengerId</th><th>Survived</th><th>Pclass</th><th>Name</th><th>Sex</th><th>Age</th><th>SibSp</th><th>Parch</th><th>Ticket</th><th>Fare</th><th>Cabin</th><th>Embarked</th></tr><tr><td>i64</td><td>i64</td><td>i64</td><td>str</td><td>str</td><td>f64</td><td>i64</td><td>i64</td><td>str</td><td>f64</td><td>str</td><td>str</td></tr></thead><tbody><tr><td>1</td><td>0</td><td>3</td><td>&quot;Braund, Mr. Owen Harris&quot;</td><td>&quot;male&quot;</td><td>22.0</td><td>1</td><td>0</td><td>&quot;A/5 21171&quot;</td><td>7.25</td><td>null</td><td>&quot;S&quot;</td></tr><tr><td>2</td><td>1</td><td>1</td><td>&quot;Cumings, Mrs. John Bradley (Fl…</td><td>&quot;female&quot;</td><td>38.0</td><td>1</td><td>0</td><td>&quot;PC 17599&quot;</td><td>71.2833</td><td>&quot;C85&quot;</td><td>&quot;C&quot;</td></tr><tr><td>3</td><td>1</td><td>3</td><td>&quot;Heikkinen, Miss. Laina&quot;</td><td>&quot;female&quot;</td><td>26.0</td><td>0</td><td>0</td><td>&quot;STON/O2. 3101282&quot;</td><td>7.925</td><td>null</td><td>&quot;S&quot;</td></tr><tr><td>4</td><td>1</td><td>1</td><td>&quot;Futrelle, Mrs. Jacques Heath (…</td><td>&quot;female&quot;</td><td>35.0</td><td>1</td><td>0</td><td>&quot;113803&quot;</td><td>53.1</td><td>&quot;C123&quot;</td><td>&quot;S&quot;</td></tr><tr><td>5</td><td>0</td><td>3</td><td>&quot;Allen, Mr. William Henry&quot;</td><td>&quot;male&quot;</td><td>35.0</td><td>0</td><td>0</td><td>&quot;373450&quot;</td><td>8.05</td><td>null</td><td>&quot;S&quot;</td></tr></tbody></table></div>"
            ],
            "text/plain": [
              "shape: (5, 12)\n",
              "┌─────────────┬──────────┬────────┬───────────────────┬───┬───────────┬─────────┬───────┬──────────┐\n",
              "│ PassengerId ┆ Survived ┆ Pclass ┆ Name              ┆ … ┆ Ticket    ┆ Fare    ┆ Cabin ┆ Embarked │\n",
              "│ ---         ┆ ---      ┆ ---    ┆ ---               ┆   ┆ ---       ┆ ---     ┆ ---   ┆ ---      │\n",
              "│ i64         ┆ i64      ┆ i64    ┆ str               ┆   ┆ str       ┆ f64     ┆ str   ┆ str      │\n",
              "╞═════════════╪══════════╪════════╪═══════════════════╪═══╪═══════════╪═════════╪═══════╪══════════╡\n",
              "│ 1           ┆ 0        ┆ 3      ┆ Braund, Mr. Owen  ┆ … ┆ A/5 21171 ┆ 7.25    ┆ null  ┆ S        │\n",
              "│             ┆          ┆        ┆ Harris            ┆   ┆           ┆         ┆       ┆          │\n",
              "│ 2           ┆ 1        ┆ 1      ┆ Cumings, Mrs.     ┆ … ┆ PC 17599  ┆ 71.2833 ┆ C85   ┆ C        │\n",
              "│             ┆          ┆        ┆ John Bradley (Fl… ┆   ┆           ┆         ┆       ┆          │\n",
              "│ 3           ┆ 1        ┆ 3      ┆ Heikkinen, Miss.  ┆ … ┆ STON/O2.  ┆ 7.925   ┆ null  ┆ S        │\n",
              "│             ┆          ┆        ┆ Laina             ┆   ┆ 3101282   ┆         ┆       ┆          │\n",
              "│ 4           ┆ 1        ┆ 1      ┆ Futrelle, Mrs.    ┆ … ┆ 113803    ┆ 53.1    ┆ C123  ┆ S        │\n",
              "│             ┆          ┆        ┆ Jacques Heath (…  ┆   ┆           ┆         ┆       ┆          │\n",
              "│ 5           ┆ 0        ┆ 3      ┆ Allen, Mr.        ┆ … ┆ 373450    ┆ 8.05    ┆ null  ┆ S        │\n",
              "│             ┆          ┆        ┆ William Henry     ┆   ┆           ┆         ┆       ┆          │\n",
              "└─────────────┴──────────┴────────┴───────────────────┴───┴───────────┴─────────┴───────┴──────────┘"
            ]
          },
          "execution_count": 1,
          "metadata": {},
          "output_type": "execute_result"
        }
      ],
      "source": [
        "# Import libraries\n",
        "import polars as pl\n",
        "import polarscope as ps\n",
        "\n",
        "print('🔬 POLARSCOPE v1.0.0 - COMPREHENSIVE DEMO')\n",
        "print('=' * 45)\n",
        "print(f'📦 Package: {getattr(ps, \"__title__\", \"polarscope\")}')\n",
        "print(f'🔢 Version: {getattr(ps, \"__version__\", \"1.0.0\")}')\n",
        "print(f'📝 Description: {getattr(ps, \"__description__\", \"Professional toolkit\")}')\n",
        "print()\n",
        "\n",
        "# Load the built-in Titanic dataset\n",
        "from polarscope.datasets import titanic\n",
        "df = titanic()\n",
        "\n",
        "print(f'📊 Loaded Titanic dataset: {df.shape}')\n",
        "print(f'📋 Columns: {df.columns}')\n",
        "try:\n",
        "    memory_mb = df.estimated_size(\"bytes\") / 1024 / 1024\n",
        "except:\n",
        "    memory_mb = df.shape[0] * df.shape[1] * 8 / 1024 / 1024  # Rough estimate\n",
        "print(f'💾 Memory usage: {memory_mb:.2f} MB')\n",
        "print()\n",
        "\n",
        "# Show first few rows\n",
        "df.head()"
      ]
    },
    {
      "cell_type": "code",
      "execution_count": 37,
      "metadata": {},
      "outputs": [
        {
          "data": {
            "text/plain": [
              "['__all__',\n",
              " '__author__',\n",
              " '__builtins__',\n",
              " '__cached__',\n",
              " '__description__',\n",
              " '__doc__',\n",
              " '__file__',\n",
              " '__loader__',\n",
              " '__name__',\n",
              " '__package__',\n",
              " '__path__',\n",
              " '__spec__',\n",
              " '__title__',\n",
              " '__version__',\n",
              " 'cat_plot',\n",
              " 'clean',\n",
              " 'clean_column_names',\n",
              " 'convert_datatypes',\n",
              " 'corr_heatmap',\n",
              " 'corr_plot',\n",
              " 'data_cleaning',\n",
              " 'datasets',\n",
              " 'dist_plot',\n",
              " 'drop_missing',\n",
              " 'missingval_plot',\n",
              " 'plots',\n",
              " 'save_fig',\n",
              " 'utils',\n",
              " 'xray']"
            ]
          },
          "execution_count": 37,
          "metadata": {},
          "output_type": "execute_result"
        }
      ],
      "source": [
        "dir(ps)"
      ]
    },
    {
      "cell_type": "code",
      "execution_count": 2,
      "metadata": {},
      "outputs": [
        {
          "data": {
            "text/html": [
              "<div id=\"pkwmlcqcgr\" style=\"padding-left:0px;padding-right:0px;padding-top:10px;padding-bottom:10px;overflow-x:auto;overflow-y:auto;width:auto;height:auto;\">\n",
              "<style>\n",
              "#pkwmlcqcgr table {\n",
              "          font-family: -apple-system, BlinkMacSystemFont, 'Segoe UI', Roboto, Oxygen, Ubuntu, Cantarell, 'Helvetica Neue', 'Fira Sans', 'Droid Sans', Arial, sans-serif;\n",
              "          -webkit-font-smoothing: antialiased;\n",
              "          -moz-osx-font-smoothing: grayscale;\n",
              "        }\n",
              "\n",
              "#pkwmlcqcgr thead, tbody, tfoot, tr, td, th { border-style: none !important; }\n",
              " tr { background-color: transparent !important; }\n",
              "#pkwmlcqcgr p { margin: 0 !important; padding: 0 !important; }\n",
              " #pkwmlcqcgr .gt_table { display: table !important; border-collapse: collapse !important; line-height: normal !important; margin-left: auto !important; margin-right: auto !important; color: #333333 !important; font-size: 13px !important; font-weight: normal !important; font-style: normal !important; background-color: #FFFFFF !important; width: auto !important; border-top-style: solid !important; border-top-width: 2px !important; border-top-color: #A8A8A8 !important; border-right-style: none !important; border-right-width: 2px !important; border-right-color: #D3D3D3 !important; border-bottom-style: solid !important; border-bottom-width: 2px !important; border-bottom-color: #A8A8A8 !important; border-left-style: none !important; border-left-width: 2px !important; border-left-color: #D3D3D3 !important; }\n",
              " #pkwmlcqcgr .gt_caption { padding-top: 4px !important; padding-bottom: 4px !important; }\n",
              " #pkwmlcqcgr .gt_title { color: #333333 !important; font-size: 125% !important; font-weight: initial !important; padding-top: 4px !important; padding-bottom: 4px !important; padding-left: 5px !important; padding-right: 5px !important; border-bottom-color: #FFFFFF !important; border-bottom-width: 0 !important; }\n",
              " #pkwmlcqcgr .gt_subtitle { color: #333333 !important; font-size: 85% !important; font-weight: initial !important; padding-top: 3px !important; padding-bottom: 5px !important; padding-left: 5px !important; padding-right: 5px !important; border-top-color: #FFFFFF !important; border-top-width: 0 !important; }\n",
              " #pkwmlcqcgr .gt_heading { background-color: #f8f9fa !important; text-align: center !important; border-bottom-color: #FFFFFF !important; border-left-style: none !important; border-left-width: 1px !important; border-left-color: #D3D3D3 !important; border-right-style: none !important; border-right-width: 1px !important; border-right-color: #D3D3D3 !important; }\n",
              " #pkwmlcqcgr .gt_bottom_border { border-bottom-style: solid !important; border-bottom-width: 2px !important; border-bottom-color: #D3D3D3 !important; }\n",
              " #pkwmlcqcgr .gt_col_headings { border-top-style: solid !important; border-top-width: 2px !important; border-top-color: #D3D3D3 !important; border-bottom-style: solid !important; border-bottom-width: 2px !important; border-bottom-color: #D3D3D3 !important; border-left-style: none !important; border-left-width: 1px !important; border-left-color: #D3D3D3 !important; border-right-style: none !important; border-right-width: 1px !important; border-right-color: #D3D3D3 !important; }\n",
              " #pkwmlcqcgr .gt_col_heading { color: #333333 !important; background-color: #e9ecef !important; font-size: 100% !important; font-weight: normal !important; text-transform: inherit !important; border-left-style: none !important; border-left-width: 1px !important; border-left-color: #D3D3D3 !important; border-right-style: none !important; border-right-width: 1px !important; border-right-color: #D3D3D3 !important; vertical-align: bottom !important; padding-top: 5px !important; padding-bottom: 5px !important; padding-left: 5px !important; padding-right: 5px !important; overflow-x: hidden !important; }\n",
              " #pkwmlcqcgr .gt_column_spanner_outer { color: #333333 !important; background-color: #e9ecef !important; font-size: 100% !important; font-weight: normal !important; text-transform: inherit !important; padding-top: 0 !important; padding-bottom: 0 !important; padding-left: 4px !important; padding-right: 4px !important; }\n",
              " #pkwmlcqcgr .gt_column_spanner_outer:first-child { padding-left: 0 !important; }\n",
              " #pkwmlcqcgr .gt_column_spanner_outer:last-child { padding-right: 0 !important; }\n",
              " #pkwmlcqcgr .gt_column_spanner { border-bottom-style: solid !important; border-bottom-width: 2px !important; border-bottom-color: #D3D3D3 !important; vertical-align: bottom !important; padding-top: 5px !important; padding-bottom: 5px !important; overflow-x: hidden !important; display: inline-block !important; width: 100% !important; }\n",
              " #pkwmlcqcgr .gt_spanner_row { border-bottom-style: hidden !important; }\n",
              " #pkwmlcqcgr .gt_group_heading { padding-top: 8px !important; padding-bottom: 8px !important; padding-left: 5px !important; padding-right: 5px !important; color: #333333 !important; background-color: #FFFFFF !important; font-size: 100% !important; font-weight: initial !important; text-transform: inherit !important; border-top-style: solid !important; border-top-width: 2px !important; border-top-color: #D3D3D3 !important; border-bottom-style: solid !important; border-bottom-width: 2px !important; border-bottom-color: #D3D3D3 !important; border-left-style: none !important; border-left-width: 1px !important; border-left-color: #D3D3D3 !important; border-right-style: none !important; border-right-width: 1px !important; border-right-color: #D3D3D3 !important; vertical-align: middle !important; text-align: left !important; }\n",
              " #pkwmlcqcgr .gt_empty_group_heading { padding: 0.5px !important; color: #333333 !important; background-color: #FFFFFF !important; font-size: 100% !important; font-weight: initial !important; border-top-style: solid !important; border-top-width: 2px !important; border-top-color: #D3D3D3 !important; border-bottom-style: solid !important; border-bottom-width: 2px !important; border-bottom-color: #D3D3D3 !important; vertical-align: middle !important; }\n",
              " #pkwmlcqcgr .gt_from_md> :first-child { margin-top: 0 !important; }\n",
              " #pkwmlcqcgr .gt_from_md> :last-child { margin-bottom: 0 !important; }\n",
              " #pkwmlcqcgr .gt_row { padding-top: 8px !important; padding-bottom: 8px !important; padding-left: 5px !important; padding-right: 5px !important; margin: 10px !important; border-top-style: solid !important; border-top-width: 1px !important; border-top-color: #D3D3D3 !important; border-left-style: none !important; border-left-width: 1px !important; border-left-color: #D3D3D3 !important; border-right-style: none !important; border-right-width: 1px !important; border-right-color: #D3D3D3 !important; vertical-align: middle !important; overflow-x: hidden !important; }\n",
              " #pkwmlcqcgr .gt_stub { color: #333333 !important; background-color: #FFFFFF !important; font-size: 100% !important; font-weight: initial !important; text-transform: inherit !important; border-right-style: solid !important; border-right-width: 2px !important; border-right-color: #D3D3D3 !important; padding-left: 5px !important; padding-right: 5px !important; }\n",
              " #pkwmlcqcgr .gt_stub_row_group { color: #333333 !important; background-color: #FFFFFF !important; font-size: 100% !important; font-weight: initial !important; text-transform: inherit !important; border-right-style: solid !important; border-right-width: 2px !important; border-right-color: #D3D3D3 !important; padding-left: 5px !important; padding-right: 5px !important; vertical-align: top !important; }\n",
              " #pkwmlcqcgr .gt_row_group_first td { border-top-width: 2px !important; }\n",
              " #pkwmlcqcgr .gt_row_group_first th { border-top-width: 2px !important; }\n",
              " #pkwmlcqcgr .gt_striped { background-color: rgba(128,128,128,0.05) !important; }\n",
              " #pkwmlcqcgr .gt_table_body { border-top-style: solid !important; border-top-width: 2px !important; border-top-color: #D3D3D3 !important; border-bottom-style: solid !important; border-bottom-width: 2px !important; border-bottom-color: #D3D3D3 !important; }\n",
              " #pkwmlcqcgr .gt_sourcenotes { color: #333333 !important; background-color: #FFFFFF !important; border-bottom-style: none !important; border-bottom-width: 2px !important; border-bottom-color: #D3D3D3 !important; border-left-style: none !important; border-left-width: 2px !important; border-left-color: #D3D3D3 !important; border-right-style: none !important; border-right-width: 2px !important; border-right-color: #D3D3D3 !important; }\n",
              " #pkwmlcqcgr .gt_sourcenote { font-size: 90% !important; padding-top: 4px !important; padding-bottom: 4px !important; padding-left: 5px !important; padding-right: 5px !important; text-align: left !important; }\n",
              " #pkwmlcqcgr .gt_left { text-align: left !important; }\n",
              " #pkwmlcqcgr .gt_center { text-align: center !important; }\n",
              " #pkwmlcqcgr .gt_right { text-align: right !important; font-variant-numeric: tabular-nums !important; }\n",
              " #pkwmlcqcgr .gt_font_normal { font-weight: normal !important; }\n",
              " #pkwmlcqcgr .gt_font_bold { font-weight: bold !important; }\n",
              " #pkwmlcqcgr .gt_font_italic { font-style: italic !important; }\n",
              " #pkwmlcqcgr .gt_super { font-size: 65% !important; }\n",
              " #pkwmlcqcgr .gt_footnote_marks { font-size: 75% !important; vertical-align: 0.4em !important; position: initial !important; }\n",
              " #pkwmlcqcgr .gt_asterisk { font-size: 100% !important; vertical-align: 0 !important; }\n",
              " \n",
              "</style>\n",
              "<table class=\"gt_table\" data-quarto-disable-processing=\"false\" data-quarto-bootstrap=\"false\">\n",
              "<thead>\n",
              "\n",
              "  <tr class=\"gt_heading\">\n",
              "    <td colspan=\"13\" class=\"gt_heading gt_title gt_font_normal\">🔬 DataFrame X-ray</td>\n",
              "  </tr>\n",
              "  <tr class=\"gt_heading\">\n",
              "    <td colspan=\"13\" class=\"gt_heading gt_subtitle gt_font_normal gt_bottom_border\">Dataset: 156 rows × 12 columns (14.7 KB in memory) - X-rayed in 7 ms</td>\n",
              "  </tr>\n",
              "<tr class=\"gt_col_headings gt_spanner_row\">\n",
              "  <th class=\"gt_col_heading gt_columns_bottom_border gt_left\" rowspan=\"2\" colspan=\"1\" scope=\"col\" id=\"Column\">Column</th>\n",
              "  <th class=\"gt_center gt_columns_top_border gt_column_spanner_outer\" rowspan=\"1\" colspan=\"8\" scope=\"colgroup\" id=\"Basic-Statistics\">\n",
              "    <span class=\"gt_column_spanner\">Basic Statistics</span>\n",
              "  </th>\n",
              "  <th class=\"gt_center gt_columns_top_border gt_column_spanner_outer\" rowspan=\"1\" colspan=\"3\" scope=\"colgroup\" id=\"Key-Metrics\">\n",
              "    <span class=\"gt_column_spanner\">Key Metrics</span>\n",
              "  </th>\n",
              "  <th class=\"gt_center gt_columns_top_border gt_column_spanner_outer\" rowspan=\"1\" colspan=\"1\" scope=\"col\" id=\"Quality\">\n",
              "    <span class=\"gt_column_spanner\">Quality</span>\n",
              "  </th>\n",
              "</tr>\n",
              "<tr class=\"gt_col_headings\">\n",
              "  <th class=\"gt_col_heading gt_columns_bottom_border gt_center\" rowspan=\"1\" colspan=\"1\" scope=\"col\" id=\"Dtype\">Dtype</th>\n",
              "  <th class=\"gt_col_heading gt_columns_bottom_border gt_center\" rowspan=\"1\" colspan=\"1\" scope=\"col\" id=\"Count\">Count</th>\n",
              "  <th class=\"gt_col_heading gt_columns_bottom_border gt_center\" rowspan=\"1\" colspan=\"1\" scope=\"col\" id=\"Mean\">Mean</th>\n",
              "  <th class=\"gt_col_heading gt_columns_bottom_border gt_center\" rowspan=\"1\" colspan=\"1\" scope=\"col\" id=\"Min\">Min</th>\n",
              "  <th class=\"gt_col_heading gt_columns_bottom_border gt_center\" rowspan=\"1\" colspan=\"1\" scope=\"col\" id=\"Q25\">Q25</th>\n",
              "  <th class=\"gt_col_heading gt_columns_bottom_border gt_center\" rowspan=\"1\" colspan=\"1\" scope=\"col\" id=\"Median\">Median</th>\n",
              "  <th class=\"gt_col_heading gt_columns_bottom_border gt_center\" rowspan=\"1\" colspan=\"1\" scope=\"col\" id=\"Q75\">Q75</th>\n",
              "  <th class=\"gt_col_heading gt_columns_bottom_border gt_center\" rowspan=\"1\" colspan=\"1\" scope=\"col\" id=\"Max\">Max</th>\n",
              "  <th class=\"gt_col_heading gt_columns_bottom_border gt_center\" rowspan=\"1\" colspan=\"1\" scope=\"col\" id=\"IQR\">IQR</th>\n",
              "  <th class=\"gt_col_heading gt_columns_bottom_border gt_center\" rowspan=\"1\" colspan=\"1\" scope=\"col\" id=\"Pct_Missing\">Pct_Missing</th>\n",
              "  <th class=\"gt_col_heading gt_columns_bottom_border gt_center\" rowspan=\"1\" colspan=\"1\" scope=\"col\" id=\"N_Outliers\">N_Outliers</th>\n",
              "  <th class=\"gt_col_heading gt_columns_bottom_border gt_center\" rowspan=\"1\" colspan=\"1\" scope=\"col\" id=\"Quality_Flag\">Quality_Flag</th>\n",
              "</tr>\n",
              "</thead>\n",
              "<tbody class=\"gt_table_body\">\n",
              "  <tr>\n",
              "    <td class=\"gt_row gt_left\">PassengerId</td>\n",
              "    <td class=\"gt_row gt_center\">Int64</td>\n",
              "    <td class=\"gt_row gt_center\">156</td>\n",
              "    <td class=\"gt_row gt_center\">78.50</td>\n",
              "    <td class=\"gt_row gt_center\">1.00</td>\n",
              "    <td class=\"gt_row gt_center\">40.00</td>\n",
              "    <td class=\"gt_row gt_center\">79.00</td>\n",
              "    <td class=\"gt_row gt_center\">117.00</td>\n",
              "    <td class=\"gt_row gt_center\">156.00</td>\n",
              "    <td class=\"gt_row gt_center\">77.00</td>\n",
              "    <td class=\"gt_row gt_center\">0.0</td>\n",
              "    <td class=\"gt_row gt_center\">0</td>\n",
              "    <td class=\"gt_row gt_center\">✓ OK</td>\n",
              "  </tr>\n",
              "  <tr>\n",
              "    <td class=\"gt_row gt_left\">Survived</td>\n",
              "    <td class=\"gt_row gt_center\">Int64</td>\n",
              "    <td class=\"gt_row gt_center\">156</td>\n",
              "    <td class=\"gt_row gt_center\">0.35</td>\n",
              "    <td class=\"gt_row gt_center\">0.00</td>\n",
              "    <td class=\"gt_row gt_center\">0.00</td>\n",
              "    <td class=\"gt_row gt_center\">0.00</td>\n",
              "    <td class=\"gt_row gt_center\">1.00</td>\n",
              "    <td class=\"gt_row gt_center\">1.00</td>\n",
              "    <td class=\"gt_row gt_center\">1.00</td>\n",
              "    <td class=\"gt_row gt_center\">0.0</td>\n",
              "    <td class=\"gt_row gt_center\">0</td>\n",
              "    <td class=\"gt_row gt_center\">✓ OK</td>\n",
              "  </tr>\n",
              "  <tr>\n",
              "    <td class=\"gt_row gt_left\">Pclass</td>\n",
              "    <td class=\"gt_row gt_center\">Int64</td>\n",
              "    <td class=\"gt_row gt_center\">156</td>\n",
              "    <td class=\"gt_row gt_center\">2.42</td>\n",
              "    <td class=\"gt_row gt_center\">1.00</td>\n",
              "    <td class=\"gt_row gt_center\">2.00</td>\n",
              "    <td class=\"gt_row gt_center\">3.00</td>\n",
              "    <td class=\"gt_row gt_center\">3.00</td>\n",
              "    <td class=\"gt_row gt_center\">3.00</td>\n",
              "    <td class=\"gt_row gt_center\">1.00</td>\n",
              "    <td class=\"gt_row gt_center\">0.0</td>\n",
              "    <td class=\"gt_row gt_center\">0</td>\n",
              "    <td class=\"gt_row gt_center\">✓ OK</td>\n",
              "  </tr>\n",
              "  <tr>\n",
              "    <td class=\"gt_row gt_left\">Age</td>\n",
              "    <td class=\"gt_row gt_center\">Float64</td>\n",
              "    <td class=\"gt_row gt_center\">126</td>\n",
              "    <td class=\"gt_row gt_center\">28.14</td>\n",
              "    <td class=\"gt_row gt_center\">0.83</td>\n",
              "    <td class=\"gt_row gt_center\">19.00</td>\n",
              "    <td class=\"gt_row gt_center\">26.00</td>\n",
              "    <td class=\"gt_row gt_center\">35.00</td>\n",
              "    <td class=\"gt_row gt_center\">71.00</td>\n",
              "    <td class=\"gt_row gt_center\">16.00</td>\n",
              "    <td class=\"gt_row gt_center\">19.2</td>\n",
              "    <td class=\"gt_row gt_center\">4</td>\n",
              "    <td class=\"gt_row gt_center\">✓ OK</td>\n",
              "  </tr>\n",
              "  <tr>\n",
              "    <td class=\"gt_row gt_left\">SibSp</td>\n",
              "    <td class=\"gt_row gt_center\">Int64</td>\n",
              "    <td class=\"gt_row gt_center\">156</td>\n",
              "    <td class=\"gt_row gt_center\">0.61</td>\n",
              "    <td class=\"gt_row gt_center\">0.00</td>\n",
              "    <td class=\"gt_row gt_center\">0.00</td>\n",
              "    <td class=\"gt_row gt_center\">0.00</td>\n",
              "    <td class=\"gt_row gt_center\">1.00</td>\n",
              "    <td class=\"gt_row gt_center\">5.00</td>\n",
              "    <td class=\"gt_row gt_center\">1.00</td>\n",
              "    <td class=\"gt_row gt_center\">0.0</td>\n",
              "    <td class=\"gt_row gt_center\">12</td>\n",
              "    <td class=\"gt_row gt_center\">✓ OK</td>\n",
              "  </tr>\n",
              "  <tr>\n",
              "    <td class=\"gt_row gt_left\">Parch</td>\n",
              "    <td class=\"gt_row gt_center\">Int64</td>\n",
              "    <td class=\"gt_row gt_center\">156</td>\n",
              "    <td class=\"gt_row gt_center\">0.40</td>\n",
              "    <td class=\"gt_row gt_center\">0.00</td>\n",
              "    <td class=\"gt_row gt_center\">0.00</td>\n",
              "    <td class=\"gt_row gt_center\">0.00</td>\n",
              "    <td class=\"gt_row gt_center\">0.00</td>\n",
              "    <td class=\"gt_row gt_center\">5.00</td>\n",
              "    <td class=\"gt_row gt_center\">0.00</td>\n",
              "    <td class=\"gt_row gt_center\">0.0</td>\n",
              "    <td class=\"gt_row gt_center\">35</td>\n",
              "    <td class=\"gt_row gt_center\">✓ OK</td>\n",
              "  </tr>\n",
              "  <tr>\n",
              "    <td class=\"gt_row gt_left\">Fare</td>\n",
              "    <td class=\"gt_row gt_center\">Float64</td>\n",
              "    <td class=\"gt_row gt_center\">156</td>\n",
              "    <td class=\"gt_row gt_center\">28.11</td>\n",
              "    <td class=\"gt_row gt_center\">6.75</td>\n",
              "    <td class=\"gt_row gt_center\">8.03</td>\n",
              "    <td class=\"gt_row gt_center\">14.45</td>\n",
              "    <td class=\"gt_row gt_center\">30.07</td>\n",
              "    <td class=\"gt_row gt_center\">263.00</td>\n",
              "    <td class=\"gt_row gt_center\">22.04</td>\n",
              "    <td class=\"gt_row gt_center\">0.0</td>\n",
              "    <td class=\"gt_row gt_center\">16</td>\n",
              "    <td class=\"gt_row gt_center\">✓ OK</td>\n",
              "  </tr>\n",
              "</tbody>\n",
              "\n",
              "\n",
              "</table>\n",
              "\n",
              "</div>\n",
              "        "
            ],
            "text/plain": [
              "GT(_tbl_data=shape: (7, 13)\n",
              "┌─────────────┬─────────┬───────┬────────┬───┬────────────┬──────────────┬───────┬────────┐\n",
              "│ Column      ┆ Dtype   ┆ Count ┆ Mean   ┆ … ┆ N_Outliers ┆ Quality_Flag ┆ Q25   ┆ Q75    │\n",
              "│ ---         ┆ ---     ┆ ---   ┆ ---    ┆   ┆ ---        ┆ ---          ┆ ---   ┆ ---    │\n",
              "│ str         ┆ str     ┆ i64   ┆ f64    ┆   ┆ i64        ┆ str          ┆ f64   ┆ f64    │\n",
              "╞═════════════╪═════════╪═══════╪════════╪═══╪════════════╪══════════════╪═══════╪════════╡\n",
              "│ PassengerId ┆ Int64   ┆ 156   ┆ 78.5   ┆ … ┆ 0          ┆ ✓ OK         ┆ 40.0  ┆ 117.0  │\n",
              "│ Survived    ┆ Int64   ┆ 156   ┆ 0.346  ┆ … ┆ 0          ┆ ✓ OK         ┆ 0.0   ┆ 1.0    │\n",
              "│ Pclass      ┆ Int64   ┆ 156   ┆ 2.423  ┆ … ┆ 0          ┆ ✓ OK         ┆ 2.0   ┆ 3.0    │\n",
              "│ Age         ┆ Float64 ┆ 126   ┆ 28.142 ┆ … ┆ 4          ┆ ✓ OK         ┆ 19.0  ┆ 35.0   │\n",
              "│ SibSp       ┆ Int64   ┆ 156   ┆ 0.615  ┆ … ┆ 12         ┆ ✓ OK         ┆ 0.0   ┆ 1.0    │\n",
              "│ Parch       ┆ Int64   ┆ 156   ┆ 0.397  ┆ … ┆ 35         ┆ ✓ OK         ┆ 0.0   ┆ 0.0    │\n",
              "│ Fare        ┆ Float64 ┆ 156   ┆ 28.11  ┆ … ┆ 16         ┆ ✓ OK         ┆ 8.029 ┆ 30.071 │\n",
              "└─────────────┴─────────┴───────┴────────┴───┴────────────┴──────────────┴───────┴────────┘, _body=<great_tables._gt_data.Body object at 0x10c3aeb30>, _boxhead=Boxhead([ColInfo(var='Column', type=<ColInfoTypeEnum.default: 1>, column_label='Column', column_align='left', column_width=None), ColInfo(var='Dtype', type=<ColInfoTypeEnum.default: 1>, column_label='Dtype', column_align='center', column_width=None), ColInfo(var='Count', type=<ColInfoTypeEnum.default: 1>, column_label='Count', column_align='center', column_width=None), ColInfo(var='Mean', type=<ColInfoTypeEnum.default: 1>, column_label='Mean', column_align='center', column_width=None), ColInfo(var='Min', type=<ColInfoTypeEnum.default: 1>, column_label='Min', column_align='center', column_width=None), ColInfo(var='Q25', type=<ColInfoTypeEnum.default: 1>, column_label='Q25', column_align='center', column_width=None), ColInfo(var='Median', type=<ColInfoTypeEnum.default: 1>, column_label='Median', column_align='center', column_width=None), ColInfo(var='Q75', type=<ColInfoTypeEnum.default: 1>, column_label='Q75', column_align='center', column_width=None), ColInfo(var='Max', type=<ColInfoTypeEnum.default: 1>, column_label='Max', column_align='center', column_width=None), ColInfo(var='IQR', type=<ColInfoTypeEnum.default: 1>, column_label='IQR', column_align='center', column_width=None), ColInfo(var='Pct_Missing', type=<ColInfoTypeEnum.default: 1>, column_label='Pct_Missing', column_align='center', column_width=None), ColInfo(var='N_Outliers', type=<ColInfoTypeEnum.default: 1>, column_label='N_Outliers', column_align='center', column_width=None), ColInfo(var='Quality_Flag', type=<ColInfoTypeEnum.default: 1>, column_label='Quality_Flag', column_align='center', column_width=None)]), _stub=<great_tables._gt_data.Stub object at 0x10c3ae7a0>, _spanners=Spanners([SpannerInfo(spanner_id='Basic Statistics', spanner_level=0, spanner_label='Basic Statistics', spanner_units=None, spanner_pattern=None, vars=['Dtype', 'Count', 'Mean', 'Min', 'Q25', 'Median', 'Q75', 'Max'], built=None), SpannerInfo(spanner_id='Key Metrics', spanner_level=0, spanner_label='Key Metrics', spanner_units=None, spanner_pattern=None, vars=['IQR', 'Pct_Missing', 'N_Outliers'], built=None), SpannerInfo(spanner_id='Quality', spanner_level=0, spanner_label='Quality', spanner_units=None, spanner_pattern=None, vars=['Quality_Flag'], built=None)]), _heading=Heading(title='🔬 DataFrame X-ray', subtitle='Dataset: 156 rows × 12 columns (14.7 KB in memory) - X-rayed in 7 ms', preheader=None), _stubhead=None, _source_notes=[], _footnotes=[], _styles=[], _locale=<great_tables._gt_data.Locale object at 0x10c3afd90>, _formats=[<great_tables._gt_data.FormatInfo object at 0x10c3afc10>, <great_tables._gt_data.FormatInfo object at 0x10c3af5b0>, <great_tables._gt_data.FormatInfo object at 0x10c3af880>], _substitutions=[], _options=Options(table_id=OptionsInfo(scss=False, category='table', type='value', value=None), table_caption=OptionsInfo(scss=False, category='table', type='value', value=None), table_width=OptionsInfo(scss=True, category='table', type='px', value='auto'), table_layout=OptionsInfo(scss=True, category='table', type='value', value='fixed'), table_margin_left=OptionsInfo(scss=True, category='table', type='px', value='auto'), table_margin_right=OptionsInfo(scss=True, category='table', type='px', value='auto'), table_background_color=OptionsInfo(scss=True, category='table', type='value', value='#FFFFFF'), table_additional_css=OptionsInfo(scss=False, category='table', type='values', value=[]), table_font_names=OptionsInfo(scss=False, category='table', type='values', value=['-apple-system', 'BlinkMacSystemFont', 'Segoe UI', 'Roboto', 'Oxygen', 'Ubuntu', 'Cantarell', 'Helvetica Neue', 'Fira Sans', 'Droid Sans', 'Arial', 'sans-serif']), table_font_size=OptionsInfo(scss=True, category='table', type='px', value='13px'), table_font_weight=OptionsInfo(scss=True, category='table', type='value', value='normal'), table_font_style=OptionsInfo(scss=True, category='table', type='value', value='normal'), table_font_color=OptionsInfo(scss=True, category='table', type='value', value='#333333'), table_font_color_light=OptionsInfo(scss=True, category='table', type='value', value='#FFFFFF'), table_border_top_include=OptionsInfo(scss=False, category='table', type='boolean', value=True), table_border_top_style=OptionsInfo(scss=True, category='table', type='value', value='solid'), table_border_top_width=OptionsInfo(scss=True, category='table', type='px', value='2px'), table_border_top_color=OptionsInfo(scss=True, category='table', type='value', value='#A8A8A8'), table_border_right_style=OptionsInfo(scss=True, category='table', type='value', value='none'), table_border_right_width=OptionsInfo(scss=True, category='table', type='px', value='2px'), table_border_right_color=OptionsInfo(scss=True, category='table', type='value', value='#D3D3D3'), table_border_bottom_include=OptionsInfo(scss=False, category='table', type='boolean', value=True), table_border_bottom_style=OptionsInfo(scss=True, category='table', type='value', value='solid'), table_border_bottom_width=OptionsInfo(scss=True, category='table', type='px', value='2px'), table_border_bottom_color=OptionsInfo(scss=True, category='table', type='value', value='#A8A8A8'), table_border_left_style=OptionsInfo(scss=True, category='table', type='value', value='none'), table_border_left_width=OptionsInfo(scss=True, category='table', type='px', value='2px'), table_border_left_color=OptionsInfo(scss=True, category='table', type='value', value='#D3D3D3'), heading_background_color=OptionsInfo(scss=True, category='heading', type='value', value='#f8f9fa'), heading_align=OptionsInfo(scss=True, category='heading', type='value', value='center'), heading_title_font_size=OptionsInfo(scss=True, category='heading', type='px', value='125%'), heading_title_font_weight=OptionsInfo(scss=True, category='heading', type='value', value='initial'), heading_subtitle_font_size=OptionsInfo(scss=True, category='heading', type='px', value='85%'), heading_subtitle_font_weight=OptionsInfo(scss=True, category='heading', type='value', value='initial'), heading_padding=OptionsInfo(scss=True, category='heading', type='px', value='4px'), heading_padding_horizontal=OptionsInfo(scss=True, category='heading', type='px', value='5px'), heading_border_bottom_style=OptionsInfo(scss=True, category='heading', type='value', value='solid'), heading_border_bottom_width=OptionsInfo(scss=True, category='heading', type='px', value='2px'), heading_border_bottom_color=OptionsInfo(scss=True, category='heading', type='value', value='#D3D3D3'), heading_border_lr_style=OptionsInfo(scss=True, category='heading', type='value', value='none'), heading_border_lr_width=OptionsInfo(scss=True, category='heading', type='px', value='1px'), heading_border_lr_color=OptionsInfo(scss=True, category='heading', type='value', value='#D3D3D3'), column_labels_background_color=OptionsInfo(scss=True, category='column_labels', type='value', value='#e9ecef'), column_labels_font_size=OptionsInfo(scss=True, category='column_labels', type='px', value='100%'), column_labels_font_weight=OptionsInfo(scss=True, category='column_labels', type='value', value='normal'), column_labels_text_transform=OptionsInfo(scss=True, category='column_labels', type='value', value='inherit'), column_labels_padding=OptionsInfo(scss=True, category='column_labels', type='px', value='5px'), column_labels_padding_horizontal=OptionsInfo(scss=True, category='column_labels', type='px', value='5px'), column_labels_vlines_style=OptionsInfo(scss=True, category='table_body', type='value', value='none'), column_labels_vlines_width=OptionsInfo(scss=True, category='table_body', type='px', value='1px'), column_labels_vlines_color=OptionsInfo(scss=True, category='table_body', type='value', value='#D3D3D3'), column_labels_border_top_style=OptionsInfo(scss=True, category='column_labels', type='value', value='solid'), column_labels_border_top_width=OptionsInfo(scss=True, category='column_labels', type='px', value='2px'), column_labels_border_top_color=OptionsInfo(scss=True, category='column_labels', type='value', value='#D3D3D3'), column_labels_border_bottom_style=OptionsInfo(scss=True, category='column_labels', type='value', value='solid'), column_labels_border_bottom_width=OptionsInfo(scss=True, category='column_labels', type='px', value='2px'), column_labels_border_bottom_color=OptionsInfo(scss=True, category='column_labels', type='value', value='#D3D3D3'), column_labels_border_lr_style=OptionsInfo(scss=True, category='column_labels', type='value', value='none'), column_labels_border_lr_width=OptionsInfo(scss=True, category='column_labels', type='px', value='1px'), column_labels_border_lr_color=OptionsInfo(scss=True, category='column_labels', type='value', value='#D3D3D3'), column_labels_hidden=OptionsInfo(scss=False, category='column_labels', type='boolean', value=False), row_group_background_color=OptionsInfo(scss=True, category='row_group', type='value', value=None), row_group_font_size=OptionsInfo(scss=True, category='row_group', type='px', value='100%'), row_group_font_weight=OptionsInfo(scss=True, category='row_group', type='value', value='initial'), row_group_text_transform=OptionsInfo(scss=True, category='row_group', type='value', value='inherit'), row_group_padding=OptionsInfo(scss=True, category='row_group', type='px', value='8px'), row_group_padding_horizontal=OptionsInfo(scss=True, category='row_group', type='px', value='5px'), row_group_border_top_style=OptionsInfo(scss=True, category='row_group', type='value', value='solid'), row_group_border_top_width=OptionsInfo(scss=True, category='row_group', type='px', value='2px'), row_group_border_top_color=OptionsInfo(scss=True, category='row_group', type='value', value='#D3D3D3'), row_group_border_right_style=OptionsInfo(scss=True, category='row_group', type='value', value='none'), row_group_border_right_width=OptionsInfo(scss=True, category='row_group', type='px', value='1px'), row_group_border_right_color=OptionsInfo(scss=True, category='row_group', type='value', value='#D3D3D3'), row_group_border_bottom_style=OptionsInfo(scss=True, category='row_group', type='value', value='solid'), row_group_border_bottom_width=OptionsInfo(scss=True, category='row_group', type='px', value='2px'), row_group_border_bottom_color=OptionsInfo(scss=True, category='row_group', type='value', value='#D3D3D3'), row_group_border_left_style=OptionsInfo(scss=True, category='row_group', type='value', value='none'), row_group_border_left_width=OptionsInfo(scss=True, category='row_group', type='px', value='1px'), row_group_border_left_color=OptionsInfo(scss=True, category='row_group', type='value', value='#D3D3D3'), row_group_as_column=OptionsInfo(scss=False, category='row_group', type='boolean', value=False), table_body_hlines_style=OptionsInfo(scss=True, category='table_body', type='value', value='solid'), table_body_hlines_width=OptionsInfo(scss=True, category='table_body', type='px', value='1px'), table_body_hlines_color=OptionsInfo(scss=True, category='table_body', type='value', value='#D3D3D3'), table_body_vlines_style=OptionsInfo(scss=True, category='table_body', type='value', value='none'), table_body_vlines_width=OptionsInfo(scss=True, category='table_body', type='px', value='1px'), table_body_vlines_color=OptionsInfo(scss=True, category='table_body', type='value', value='#D3D3D3'), table_body_border_top_style=OptionsInfo(scss=True, category='table_body', type='value', value='solid'), table_body_border_top_width=OptionsInfo(scss=True, category='table_body', type='px', value='2px'), table_body_border_top_color=OptionsInfo(scss=True, category='table_body', type='value', value='#D3D3D3'), table_body_border_bottom_style=OptionsInfo(scss=True, category='table_body', type='value', value='solid'), table_body_border_bottom_width=OptionsInfo(scss=True, category='table_body', type='px', value='2px'), table_body_border_bottom_color=OptionsInfo(scss=True, category='table_body', type='value', value='#D3D3D3'), data_row_padding=OptionsInfo(scss=True, category='data_row', type='px', value='8px'), data_row_padding_horizontal=OptionsInfo(scss=True, category='data_row', type='px', value='5px'), stub_background_color=OptionsInfo(scss=True, category='stub', type='value', value=None), stub_font_size=OptionsInfo(scss=True, category='stub', type='px', value='100%'), stub_font_weight=OptionsInfo(scss=True, category='stub', type='value', value='initial'), stub_text_transform=OptionsInfo(scss=True, category='stub', type='value', value='inherit'), stub_border_style=OptionsInfo(scss=True, category='stub', type='value', value='solid'), stub_border_width=OptionsInfo(scss=True, category='stub', type='px', value='2px'), stub_border_color=OptionsInfo(scss=True, category='stub', type='value', value='#D3D3D3'), stub_row_group_background_color=OptionsInfo(scss=True, category='stub', type='value', value=None), stub_row_group_font_size=OptionsInfo(scss=True, category='stub', type='px', value='100%'), stub_row_group_font_weight=OptionsInfo(scss=True, category='stub', type='value', value='initial'), stub_row_group_text_transform=OptionsInfo(scss=True, category='stub', type='value', value='inherit'), stub_row_group_border_style=OptionsInfo(scss=True, category='stub', type='value', value='solid'), stub_row_group_border_width=OptionsInfo(scss=True, category='stub', type='px', value='2px'), stub_row_group_border_color=OptionsInfo(scss=True, category='stub', type='value', value='#D3D3D3'), source_notes_padding=OptionsInfo(scss=True, category='source_notes', type='px', value='4px'), source_notes_padding_horizontal=OptionsInfo(scss=True, category='source_notes', type='px', value='5px'), source_notes_background_color=OptionsInfo(scss=True, category='source_notes', type='value', value=None), source_notes_font_size=OptionsInfo(scss=True, category='source_notes', type='px', value='90%'), source_notes_border_bottom_style=OptionsInfo(scss=True, category='source_notes', type='value', value='none'), source_notes_border_bottom_width=OptionsInfo(scss=True, category='source_notes', type='px', value='2px'), source_notes_border_bottom_color=OptionsInfo(scss=True, category='source_notes', type='value', value='#D3D3D3'), source_notes_border_lr_style=OptionsInfo(scss=True, category='source_notes', type='value', value='none'), source_notes_border_lr_width=OptionsInfo(scss=True, category='source_notes', type='px', value='2px'), source_notes_border_lr_color=OptionsInfo(scss=True, category='source_notes', type='value', value='#D3D3D3'), source_notes_multiline=OptionsInfo(scss=False, category='source_notes', type='boolean', value=True), source_notes_sep=OptionsInfo(scss=False, category='source_notes', type='value', value=' '), row_striping_background_color=OptionsInfo(scss=True, category='row', type='value', value='rgba(128,128,128,0.05)'), row_striping_include_stub=OptionsInfo(scss=False, category='row', type='boolean', value=False), row_striping_include_table_body=OptionsInfo(scss=False, category='row', type='boolean', value=False), container_width=OptionsInfo(scss=False, category='container', type='px', value='auto'), container_height=OptionsInfo(scss=False, category='container', type='px', value='auto'), container_padding_x=OptionsInfo(scss=False, category='container', type='px', value='0px'), container_padding_y=OptionsInfo(scss=False, category='container', type='px', value='10px'), container_overflow_x=OptionsInfo(scss=False, category='container', type='overflow', value='auto'), container_overflow_y=OptionsInfo(scss=False, category='container', type='overflow', value='auto'), quarto_disable_processing=OptionsInfo(scss=False, category='quarto', type='logical', value=False), quarto_use_bootstrap=OptionsInfo(scss=False, category='quarto', type='logical', value=False)), _google_font_imports=GoogleFontImports(imports=frozenset()), _has_built=False)"
            ]
          },
          "execution_count": 2,
          "metadata": {},
          "output_type": "execute_result"
        }
      ],
      "source": [
        "# Basic X-ray with performance metrics\n",
        "ps.xray(df)\n",
        "\n",
        "# and without great_tables:\n",
        "#ps.xray(df, great_tables=False)"
      ]
    },
    {
      "cell_type": "code",
      "execution_count": 3,
      "metadata": {},
      "outputs": [
        {
          "data": {
            "text/html": [
              "<div id=\"oivsirmqhl\" style=\"padding-left:0px;padding-right:0px;padding-top:10px;padding-bottom:10px;overflow-x:auto;overflow-y:auto;width:auto;height:auto;\">\n",
              "<style>\n",
              "#oivsirmqhl table {\n",
              "          font-family: -apple-system, BlinkMacSystemFont, 'Segoe UI', Roboto, Oxygen, Ubuntu, Cantarell, 'Helvetica Neue', 'Fira Sans', 'Droid Sans', Arial, sans-serif;\n",
              "          -webkit-font-smoothing: antialiased;\n",
              "          -moz-osx-font-smoothing: grayscale;\n",
              "        }\n",
              "\n",
              "#oivsirmqhl thead, tbody, tfoot, tr, td, th { border-style: none !important; }\n",
              " tr { background-color: transparent !important; }\n",
              "#oivsirmqhl p { margin: 0 !important; padding: 0 !important; }\n",
              " #oivsirmqhl .gt_table { display: table !important; border-collapse: collapse !important; line-height: normal !important; margin-left: auto !important; margin-right: auto !important; color: #333333 !important; font-size: 12px !important; font-weight: normal !important; font-style: normal !important; background-color: #FFFFFF !important; width: auto !important; border-top-style: solid !important; border-top-width: 2px !important; border-top-color: #A8A8A8 !important; border-right-style: none !important; border-right-width: 2px !important; border-right-color: #D3D3D3 !important; border-bottom-style: solid !important; border-bottom-width: 2px !important; border-bottom-color: #A8A8A8 !important; border-left-style: none !important; border-left-width: 2px !important; border-left-color: #D3D3D3 !important; }\n",
              " #oivsirmqhl .gt_caption { padding-top: 4px !important; padding-bottom: 4px !important; }\n",
              " #oivsirmqhl .gt_title { color: #333333 !important; font-size: 125% !important; font-weight: initial !important; padding-top: 4px !important; padding-bottom: 4px !important; padding-left: 5px !important; padding-right: 5px !important; border-bottom-color: #FFFFFF !important; border-bottom-width: 0 !important; }\n",
              " #oivsirmqhl .gt_subtitle { color: #333333 !important; font-size: 85% !important; font-weight: initial !important; padding-top: 3px !important; padding-bottom: 5px !important; padding-left: 5px !important; padding-right: 5px !important; border-top-color: #FFFFFF !important; border-top-width: 0 !important; }\n",
              " #oivsirmqhl .gt_heading { background-color: #f8f9fa !important; text-align: center !important; border-bottom-color: #FFFFFF !important; border-left-style: none !important; border-left-width: 1px !important; border-left-color: #D3D3D3 !important; border-right-style: none !important; border-right-width: 1px !important; border-right-color: #D3D3D3 !important; }\n",
              " #oivsirmqhl .gt_bottom_border { border-bottom-style: solid !important; border-bottom-width: 2px !important; border-bottom-color: #D3D3D3 !important; }\n",
              " #oivsirmqhl .gt_col_headings { border-top-style: solid !important; border-top-width: 2px !important; border-top-color: #D3D3D3 !important; border-bottom-style: solid !important; border-bottom-width: 2px !important; border-bottom-color: #D3D3D3 !important; border-left-style: none !important; border-left-width: 1px !important; border-left-color: #D3D3D3 !important; border-right-style: none !important; border-right-width: 1px !important; border-right-color: #D3D3D3 !important; }\n",
              " #oivsirmqhl .gt_col_heading { color: #333333 !important; background-color: #e9ecef !important; font-size: 100% !important; font-weight: normal !important; text-transform: inherit !important; border-left-style: none !important; border-left-width: 1px !important; border-left-color: #D3D3D3 !important; border-right-style: none !important; border-right-width: 1px !important; border-right-color: #D3D3D3 !important; vertical-align: bottom !important; padding-top: 5px !important; padding-bottom: 5px !important; padding-left: 5px !important; padding-right: 5px !important; overflow-x: hidden !important; }\n",
              " #oivsirmqhl .gt_column_spanner_outer { color: #333333 !important; background-color: #e9ecef !important; font-size: 100% !important; font-weight: normal !important; text-transform: inherit !important; padding-top: 0 !important; padding-bottom: 0 !important; padding-left: 4px !important; padding-right: 4px !important; }\n",
              " #oivsirmqhl .gt_column_spanner_outer:first-child { padding-left: 0 !important; }\n",
              " #oivsirmqhl .gt_column_spanner_outer:last-child { padding-right: 0 !important; }\n",
              " #oivsirmqhl .gt_column_spanner { border-bottom-style: solid !important; border-bottom-width: 2px !important; border-bottom-color: #D3D3D3 !important; vertical-align: bottom !important; padding-top: 5px !important; padding-bottom: 5px !important; overflow-x: hidden !important; display: inline-block !important; width: 100% !important; }\n",
              " #oivsirmqhl .gt_spanner_row { border-bottom-style: hidden !important; }\n",
              " #oivsirmqhl .gt_group_heading { padding-top: 8px !important; padding-bottom: 8px !important; padding-left: 5px !important; padding-right: 5px !important; color: #333333 !important; background-color: #FFFFFF !important; font-size: 100% !important; font-weight: initial !important; text-transform: inherit !important; border-top-style: solid !important; border-top-width: 2px !important; border-top-color: #D3D3D3 !important; border-bottom-style: solid !important; border-bottom-width: 2px !important; border-bottom-color: #D3D3D3 !important; border-left-style: none !important; border-left-width: 1px !important; border-left-color: #D3D3D3 !important; border-right-style: none !important; border-right-width: 1px !important; border-right-color: #D3D3D3 !important; vertical-align: middle !important; text-align: left !important; }\n",
              " #oivsirmqhl .gt_empty_group_heading { padding: 0.5px !important; color: #333333 !important; background-color: #FFFFFF !important; font-size: 100% !important; font-weight: initial !important; border-top-style: solid !important; border-top-width: 2px !important; border-top-color: #D3D3D3 !important; border-bottom-style: solid !important; border-bottom-width: 2px !important; border-bottom-color: #D3D3D3 !important; vertical-align: middle !important; }\n",
              " #oivsirmqhl .gt_from_md> :first-child { margin-top: 0 !important; }\n",
              " #oivsirmqhl .gt_from_md> :last-child { margin-bottom: 0 !important; }\n",
              " #oivsirmqhl .gt_row { padding-top: 8px !important; padding-bottom: 8px !important; padding-left: 5px !important; padding-right: 5px !important; margin: 10px !important; border-top-style: solid !important; border-top-width: 1px !important; border-top-color: #D3D3D3 !important; border-left-style: none !important; border-left-width: 1px !important; border-left-color: #D3D3D3 !important; border-right-style: none !important; border-right-width: 1px !important; border-right-color: #D3D3D3 !important; vertical-align: middle !important; overflow-x: hidden !important; }\n",
              " #oivsirmqhl .gt_stub { color: #333333 !important; background-color: #FFFFFF !important; font-size: 100% !important; font-weight: initial !important; text-transform: inherit !important; border-right-style: solid !important; border-right-width: 2px !important; border-right-color: #D3D3D3 !important; padding-left: 5px !important; padding-right: 5px !important; }\n",
              " #oivsirmqhl .gt_stub_row_group { color: #333333 !important; background-color: #FFFFFF !important; font-size: 100% !important; font-weight: initial !important; text-transform: inherit !important; border-right-style: solid !important; border-right-width: 2px !important; border-right-color: #D3D3D3 !important; padding-left: 5px !important; padding-right: 5px !important; vertical-align: top !important; }\n",
              " #oivsirmqhl .gt_row_group_first td { border-top-width: 2px !important; }\n",
              " #oivsirmqhl .gt_row_group_first th { border-top-width: 2px !important; }\n",
              " #oivsirmqhl .gt_striped { background-color: rgba(128,128,128,0.05) !important; }\n",
              " #oivsirmqhl .gt_table_body { border-top-style: solid !important; border-top-width: 2px !important; border-top-color: #D3D3D3 !important; border-bottom-style: solid !important; border-bottom-width: 2px !important; border-bottom-color: #D3D3D3 !important; }\n",
              " #oivsirmqhl .gt_sourcenotes { color: #333333 !important; background-color: #FFFFFF !important; border-bottom-style: none !important; border-bottom-width: 2px !important; border-bottom-color: #D3D3D3 !important; border-left-style: none !important; border-left-width: 2px !important; border-left-color: #D3D3D3 !important; border-right-style: none !important; border-right-width: 2px !important; border-right-color: #D3D3D3 !important; }\n",
              " #oivsirmqhl .gt_sourcenote { font-size: 90% !important; padding-top: 4px !important; padding-bottom: 4px !important; padding-left: 5px !important; padding-right: 5px !important; text-align: left !important; }\n",
              " #oivsirmqhl .gt_left { text-align: left !important; }\n",
              " #oivsirmqhl .gt_center { text-align: center !important; }\n",
              " #oivsirmqhl .gt_right { text-align: right !important; font-variant-numeric: tabular-nums !important; }\n",
              " #oivsirmqhl .gt_font_normal { font-weight: normal !important; }\n",
              " #oivsirmqhl .gt_font_bold { font-weight: bold !important; }\n",
              " #oivsirmqhl .gt_font_italic { font-style: italic !important; }\n",
              " #oivsirmqhl .gt_super { font-size: 65% !important; }\n",
              " #oivsirmqhl .gt_footnote_marks { font-size: 75% !important; vertical-align: 0.4em !important; position: initial !important; }\n",
              " #oivsirmqhl .gt_asterisk { font-size: 100% !important; vertical-align: 0 !important; }\n",
              " \n",
              "</style>\n",
              "<table class=\"gt_table\" data-quarto-disable-processing=\"false\" data-quarto-bootstrap=\"false\">\n",
              "<thead>\n",
              "\n",
              "  <tr class=\"gt_heading\">\n",
              "    <td colspan=\"30\" class=\"gt_heading gt_title gt_font_normal\">🔬 Comprehensive DataFrame X-ray</td>\n",
              "  </tr>\n",
              "  <tr class=\"gt_heading\">\n",
              "    <td colspan=\"30\" class=\"gt_heading gt_subtitle gt_font_normal gt_bottom_border\">Dataset: 156 rows × 12 columns (14.7 KB in memory) - X-rayed in 703 ms</td>\n",
              "  </tr>\n",
              "<tr class=\"gt_col_headings gt_spanner_row\">\n",
              "  <th class=\"gt_col_heading gt_columns_bottom_border gt_left\" rowspan=\"2\" colspan=\"1\" scope=\"col\" id=\"Column\">Column</th>\n",
              "  <th class=\"gt_center gt_columns_top_border gt_column_spanner_outer\" rowspan=\"1\" colspan=\"6\" scope=\"colgroup\" id=\"Basic-Statistics\">\n",
              "    <span class=\"gt_column_spanner\">Basic Statistics</span>\n",
              "  </th>\n",
              "  <th class=\"gt_center gt_columns_top_border gt_column_spanner_outer\" rowspan=\"1\" colspan=\"8\" scope=\"colgroup\" id=\"Counts-&amp;amp;-Ratios\">\n",
              "    <span class=\"gt_column_spanner\">Counts &amp; Ratios</span>\n",
              "  </th>\n",
              "  <th class=\"gt_center gt_columns_top_border gt_column_spanner_outer\" rowspan=\"1\" colspan=\"3\" scope=\"colgroup\" id=\"Quantiles\">\n",
              "    <span class=\"gt_column_spanner\">Quantiles</span>\n",
              "  </th>\n",
              "  <th class=\"gt_center gt_columns_top_border gt_column_spanner_outer\" rowspan=\"1\" colspan=\"4\" scope=\"colgroup\" id=\"Distribution\">\n",
              "    <span class=\"gt_column_spanner\">Distribution</span>\n",
              "  </th>\n",
              "  <th class=\"gt_center gt_columns_top_border gt_column_spanner_outer\" rowspan=\"1\" colspan=\"3\" scope=\"colgroup\" id=\"Quality-Assessment\">\n",
              "    <span class=\"gt_column_spanner\">Quality Assessment</span>\n",
              "  </th>\n",
              "  <th class=\"gt_center gt_columns_top_border gt_column_spanner_outer\" rowspan=\"1\" colspan=\"2\" scope=\"colgroup\" id=\"Statistical-Tests\">\n",
              "    <span class=\"gt_column_spanner\">Statistical Tests</span>\n",
              "  </th>\n",
              "  <th class=\"gt_center gt_columns_top_border gt_column_spanner_outer\" rowspan=\"1\" colspan=\"2\" scope=\"colgroup\" id=\"Outliers\">\n",
              "    <span class=\"gt_column_spanner\">Outliers</span>\n",
              "  </th>\n",
              "  <th class=\"gt_center gt_columns_top_border gt_column_spanner_outer\" rowspan=\"1\" colspan=\"1\" scope=\"col\" id=\"Correlation-with-&amp;#x27;Survived&amp;#x27;\">\n",
              "    <span class=\"gt_column_spanner\">Correlation with &#x27;Survived&#x27;</span>\n",
              "  </th>\n",
              "</tr>\n",
              "<tr class=\"gt_col_headings\">\n",
              "  <th class=\"gt_col_heading gt_columns_bottom_border gt_center\" rowspan=\"1\" colspan=\"1\" scope=\"col\" id=\"Dtype\">Dtype</th>\n",
              "  <th class=\"gt_col_heading gt_columns_bottom_border gt_center\" rowspan=\"1\" colspan=\"1\" scope=\"col\" id=\"Count\">Count</th>\n",
              "  <th class=\"gt_col_heading gt_columns_bottom_border gt_center\" rowspan=\"1\" colspan=\"1\" scope=\"col\" id=\"Mean\">Mean</th>\n",
              "  <th class=\"gt_col_heading gt_columns_bottom_border gt_center\" rowspan=\"1\" colspan=\"1\" scope=\"col\" id=\"Std\">Std</th>\n",
              "  <th class=\"gt_col_heading gt_columns_bottom_border gt_center\" rowspan=\"1\" colspan=\"1\" scope=\"col\" id=\"Min\">Min</th>\n",
              "  <th class=\"gt_col_heading gt_columns_bottom_border gt_center\" rowspan=\"1\" colspan=\"1\" scope=\"col\" id=\"Max\">Max</th>\n",
              "  <th class=\"gt_col_heading gt_columns_bottom_border gt_center\" rowspan=\"1\" colspan=\"1\" scope=\"col\" id=\"N_Missing\">N_Missing</th>\n",
              "  <th class=\"gt_col_heading gt_columns_bottom_border gt_center\" rowspan=\"1\" colspan=\"1\" scope=\"col\" id=\"Pct_Missing\">Pct_Missing</th>\n",
              "  <th class=\"gt_col_heading gt_columns_bottom_border gt_center\" rowspan=\"1\" colspan=\"1\" scope=\"col\" id=\"N_Unique\">N_Unique</th>\n",
              "  <th class=\"gt_col_heading gt_columns_bottom_border gt_center\" rowspan=\"1\" colspan=\"1\" scope=\"col\" id=\"Uniqueness_Ratio\">Uniqueness_Ratio</th>\n",
              "  <th class=\"gt_col_heading gt_columns_bottom_border gt_center\" rowspan=\"1\" colspan=\"1\" scope=\"col\" id=\"N_Zero\">N_Zero</th>\n",
              "  <th class=\"gt_col_heading gt_columns_bottom_border gt_center\" rowspan=\"1\" colspan=\"1\" scope=\"col\" id=\"Pct_Zero\">Pct_Zero</th>\n",
              "  <th class=\"gt_col_heading gt_columns_bottom_border gt_center\" rowspan=\"1\" colspan=\"1\" scope=\"col\" id=\"Pct_Pos\">Pct_Pos</th>\n",
              "  <th class=\"gt_col_heading gt_columns_bottom_border gt_center\" rowspan=\"1\" colspan=\"1\" scope=\"col\" id=\"Pct_Neg\">Pct_Neg</th>\n",
              "  <th class=\"gt_col_heading gt_columns_bottom_border gt_center\" rowspan=\"1\" colspan=\"1\" scope=\"col\" id=\"Q25\">Q25</th>\n",
              "  <th class=\"gt_col_heading gt_columns_bottom_border gt_center\" rowspan=\"1\" colspan=\"1\" scope=\"col\" id=\"Median\">Median</th>\n",
              "  <th class=\"gt_col_heading gt_columns_bottom_border gt_center\" rowspan=\"1\" colspan=\"1\" scope=\"col\" id=\"Q75\">Q75</th>\n",
              "  <th class=\"gt_col_heading gt_columns_bottom_border gt_center\" rowspan=\"1\" colspan=\"1\" scope=\"col\" id=\"IQR\">IQR</th>\n",
              "  <th class=\"gt_col_heading gt_columns_bottom_border gt_center\" rowspan=\"1\" colspan=\"1\" scope=\"col\" id=\"Skewness\">Skewness</th>\n",
              "  <th class=\"gt_col_heading gt_columns_bottom_border gt_center\" rowspan=\"1\" colspan=\"1\" scope=\"col\" id=\"Kurtosis\">Kurtosis</th>\n",
              "  <th class=\"gt_col_heading gt_columns_bottom_border gt_center\" rowspan=\"1\" colspan=\"1\" scope=\"col\" id=\"MAD\">MAD</th>\n",
              "  <th class=\"gt_col_heading gt_columns_bottom_border gt_left\" rowspan=\"1\" colspan=\"1\" scope=\"col\" id=\"Opt_Dtype\">Opt_Dtype</th>\n",
              "  <th class=\"gt_col_heading gt_columns_bottom_border gt_center\" rowspan=\"1\" colspan=\"1\" scope=\"col\" id=\"Shakiness_Score\">Shakiness_Score</th>\n",
              "  <th class=\"gt_col_heading gt_columns_bottom_border gt_left\" rowspan=\"1\" colspan=\"1\" scope=\"col\" id=\"Quality_Flag\">Quality_Flag</th>\n",
              "  <th class=\"gt_col_heading gt_columns_bottom_border gt_left\" rowspan=\"1\" colspan=\"1\" scope=\"col\" id=\"Normality_Test\">Normality_Test</th>\n",
              "  <th class=\"gt_col_heading gt_columns_bottom_border gt_left\" rowspan=\"1\" colspan=\"1\" scope=\"col\" id=\"Uniformity_Test\">Uniformity_Test</th>\n",
              "  <th class=\"gt_col_heading gt_columns_bottom_border gt_center\" rowspan=\"1\" colspan=\"1\" scope=\"col\" id=\"N_Outliers\">N_Outliers</th>\n",
              "  <th class=\"gt_col_heading gt_columns_bottom_border gt_center\" rowspan=\"1\" colspan=\"1\" scope=\"col\" id=\"Pct_Outliers\">Pct_Outliers</th>\n",
              "  <th class=\"gt_col_heading gt_columns_bottom_border gt_center\" rowspan=\"1\" colspan=\"1\" scope=\"col\" id=\"Correlation\">Correlation</th>\n",
              "</tr>\n",
              "</thead>\n",
              "<tbody class=\"gt_table_body\">\n",
              "  <tr>\n",
              "    <td class=\"gt_row gt_left\">PassengerId</td>\n",
              "    <td class=\"gt_row gt_center\">Int64</td>\n",
              "    <td class=\"gt_row gt_center\">156</td>\n",
              "    <td class=\"gt_row gt_center\">78</td>\n",
              "    <td class=\"gt_row gt_center\">45</td>\n",
              "    <td class=\"gt_row gt_center\">1</td>\n",
              "    <td class=\"gt_row gt_center\">156</td>\n",
              "    <td class=\"gt_row gt_center\">0</td>\n",
              "    <td class=\"gt_row gt_center\">0.0</td>\n",
              "    <td class=\"gt_row gt_center\">156</td>\n",
              "    <td class=\"gt_row gt_center\">1.0000</td>\n",
              "    <td class=\"gt_row gt_center\">0</td>\n",
              "    <td class=\"gt_row gt_center\">0.0</td>\n",
              "    <td class=\"gt_row gt_center\">100.0</td>\n",
              "    <td class=\"gt_row gt_center\">0.0</td>\n",
              "    <td class=\"gt_row gt_center\">40</td>\n",
              "    <td class=\"gt_row gt_center\">79</td>\n",
              "    <td class=\"gt_row gt_center\">117</td>\n",
              "    <td class=\"gt_row gt_center\">77</td>\n",
              "    <td class=\"gt_row gt_center\">0.000</td>\n",
              "    <td class=\"gt_row gt_center\">−1.223</td>\n",
              "    <td class=\"gt_row gt_center\">39</td>\n",
              "    <td class=\"gt_row gt_left\">Int16</td>\n",
              "    <td class=\"gt_row gt_center\">2</td>\n",
              "    <td class=\"gt_row gt_left\">⚠ SHAKY</td>\n",
              "    <td class=\"gt_row gt_left\">NON-NORMAL (p=0.000)</td>\n",
              "    <td class=\"gt_row gt_left\">UNIFORM (p=1.000)</td>\n",
              "    <td class=\"gt_row gt_center\">0</td>\n",
              "    <td class=\"gt_row gt_center\">0.0</td>\n",
              "    <td class=\"gt_row gt_center\">−0.193</td>\n",
              "  </tr>\n",
              "  <tr>\n",
              "    <td class=\"gt_row gt_left\">Survived</td>\n",
              "    <td class=\"gt_row gt_center\">Int64</td>\n",
              "    <td class=\"gt_row gt_center\">156</td>\n",
              "    <td class=\"gt_row gt_center\">0</td>\n",
              "    <td class=\"gt_row gt_center\">0</td>\n",
              "    <td class=\"gt_row gt_center\">0</td>\n",
              "    <td class=\"gt_row gt_center\">1</td>\n",
              "    <td class=\"gt_row gt_center\">0</td>\n",
              "    <td class=\"gt_row gt_center\">0.0</td>\n",
              "    <td class=\"gt_row gt_center\">2</td>\n",
              "    <td class=\"gt_row gt_center\">0.0128</td>\n",
              "    <td class=\"gt_row gt_center\">102</td>\n",
              "    <td class=\"gt_row gt_center\">65.4</td>\n",
              "    <td class=\"gt_row gt_center\">34.6</td>\n",
              "    <td class=\"gt_row gt_center\">0.0</td>\n",
              "    <td class=\"gt_row gt_center\">0</td>\n",
              "    <td class=\"gt_row gt_center\">0</td>\n",
              "    <td class=\"gt_row gt_center\">1</td>\n",
              "    <td class=\"gt_row gt_center\">1</td>\n",
              "    <td class=\"gt_row gt_center\">0.647</td>\n",
              "    <td class=\"gt_row gt_center\">−1.600</td>\n",
              "    <td class=\"gt_row gt_center\">0</td>\n",
              "    <td class=\"gt_row gt_left\">Bool</td>\n",
              "    <td class=\"gt_row gt_center\">1</td>\n",
              "    <td class=\"gt_row gt_left\">✓ OK</td>\n",
              "    <td class=\"gt_row gt_left\">NON-NORMAL (p=0.000)</td>\n",
              "    <td class=\"gt_row gt_left\">NON-UNIFORM (p=0.000)</td>\n",
              "    <td class=\"gt_row gt_center\">0</td>\n",
              "    <td class=\"gt_row gt_center\">0.0</td>\n",
              "    <td class=\"gt_row gt_center\">None</td>\n",
              "  </tr>\n",
              "  <tr>\n",
              "    <td class=\"gt_row gt_left\">Pclass</td>\n",
              "    <td class=\"gt_row gt_center\">Int64</td>\n",
              "    <td class=\"gt_row gt_center\">156</td>\n",
              "    <td class=\"gt_row gt_center\">2</td>\n",
              "    <td class=\"gt_row gt_center\">1</td>\n",
              "    <td class=\"gt_row gt_center\">1</td>\n",
              "    <td class=\"gt_row gt_center\">3</td>\n",
              "    <td class=\"gt_row gt_center\">0</td>\n",
              "    <td class=\"gt_row gt_center\">0.0</td>\n",
              "    <td class=\"gt_row gt_center\">3</td>\n",
              "    <td class=\"gt_row gt_center\">0.0192</td>\n",
              "    <td class=\"gt_row gt_center\">0</td>\n",
              "    <td class=\"gt_row gt_center\">0.0</td>\n",
              "    <td class=\"gt_row gt_center\">100.0</td>\n",
              "    <td class=\"gt_row gt_center\">0.0</td>\n",
              "    <td class=\"gt_row gt_center\">2</td>\n",
              "    <td class=\"gt_row gt_center\">3</td>\n",
              "    <td class=\"gt_row gt_center\">3</td>\n",
              "    <td class=\"gt_row gt_center\">1</td>\n",
              "    <td class=\"gt_row gt_center\">−0.904</td>\n",
              "    <td class=\"gt_row gt_center\">−0.844</td>\n",
              "    <td class=\"gt_row gt_center\">0</td>\n",
              "    <td class=\"gt_row gt_left\">Int8</td>\n",
              "    <td class=\"gt_row gt_center\">1</td>\n",
              "    <td class=\"gt_row gt_left\">✓ OK</td>\n",
              "    <td class=\"gt_row gt_left\">NON-NORMAL (p=0.000)</td>\n",
              "    <td class=\"gt_row gt_left\">NON-UNIFORM (p=0.000)</td>\n",
              "    <td class=\"gt_row gt_center\">0</td>\n",
              "    <td class=\"gt_row gt_center\">0.0</td>\n",
              "    <td class=\"gt_row gt_center\">−0.116</td>\n",
              "  </tr>\n",
              "  <tr>\n",
              "    <td class=\"gt_row gt_left\">Age</td>\n",
              "    <td class=\"gt_row gt_center\">Float64</td>\n",
              "    <td class=\"gt_row gt_center\">126</td>\n",
              "    <td class=\"gt_row gt_center\">28</td>\n",
              "    <td class=\"gt_row gt_center\">15</td>\n",
              "    <td class=\"gt_row gt_center\">1</td>\n",
              "    <td class=\"gt_row gt_center\">71</td>\n",
              "    <td class=\"gt_row gt_center\">30</td>\n",
              "    <td class=\"gt_row gt_center\">19.2</td>\n",
              "    <td class=\"gt_row gt_center\">57</td>\n",
              "    <td class=\"gt_row gt_center\">0.3654</td>\n",
              "    <td class=\"gt_row gt_center\">0</td>\n",
              "    <td class=\"gt_row gt_center\">0.0</td>\n",
              "    <td class=\"gt_row gt_center\">100.0</td>\n",
              "    <td class=\"gt_row gt_center\">0.0</td>\n",
              "    <td class=\"gt_row gt_center\">19</td>\n",
              "    <td class=\"gt_row gt_center\">26</td>\n",
              "    <td class=\"gt_row gt_center\">35</td>\n",
              "    <td class=\"gt_row gt_center\">16</td>\n",
              "    <td class=\"gt_row gt_center\">0.692</td>\n",
              "    <td class=\"gt_row gt_center\">0.486</td>\n",
              "    <td class=\"gt_row gt_center\">8</td>\n",
              "    <td class=\"gt_row gt_left\">Float32</td>\n",
              "    <td class=\"gt_row gt_center\">1</td>\n",
              "    <td class=\"gt_row gt_left\">✓ OK</td>\n",
              "    <td class=\"gt_row gt_left\">NON-NORMAL (p=0.001)</td>\n",
              "    <td class=\"gt_row gt_left\">NON-UNIFORM (p=0.000)</td>\n",
              "    <td class=\"gt_row gt_center\">4</td>\n",
              "    <td class=\"gt_row gt_center\">3.2</td>\n",
              "    <td class=\"gt_row gt_center\">−0.120</td>\n",
              "  </tr>\n",
              "  <tr>\n",
              "    <td class=\"gt_row gt_left\">SibSp</td>\n",
              "    <td class=\"gt_row gt_center\">Int64</td>\n",
              "    <td class=\"gt_row gt_center\">156</td>\n",
              "    <td class=\"gt_row gt_center\">1</td>\n",
              "    <td class=\"gt_row gt_center\">1</td>\n",
              "    <td class=\"gt_row gt_center\">0</td>\n",
              "    <td class=\"gt_row gt_center\">5</td>\n",
              "    <td class=\"gt_row gt_center\">0</td>\n",
              "    <td class=\"gt_row gt_center\">0.0</td>\n",
              "    <td class=\"gt_row gt_center\">6</td>\n",
              "    <td class=\"gt_row gt_center\">0.0385</td>\n",
              "    <td class=\"gt_row gt_center\">98</td>\n",
              "    <td class=\"gt_row gt_center\">62.8</td>\n",
              "    <td class=\"gt_row gt_center\">37.2</td>\n",
              "    <td class=\"gt_row gt_center\">0.0</td>\n",
              "    <td class=\"gt_row gt_center\">0</td>\n",
              "    <td class=\"gt_row gt_center\">0</td>\n",
              "    <td class=\"gt_row gt_center\">1</td>\n",
              "    <td class=\"gt_row gt_center\">1</td>\n",
              "    <td class=\"gt_row gt_center\">2.199</td>\n",
              "    <td class=\"gt_row gt_center\">4.700</td>\n",
              "    <td class=\"gt_row gt_center\">0</td>\n",
              "    <td class=\"gt_row gt_left\">Int8</td>\n",
              "    <td class=\"gt_row gt_center\">3</td>\n",
              "    <td class=\"gt_row gt_left\">⚠ SHAKY</td>\n",
              "    <td class=\"gt_row gt_left\">NON-NORMAL (p=0.000)</td>\n",
              "    <td class=\"gt_row gt_left\">NON-UNIFORM (p=0.000)</td>\n",
              "    <td class=\"gt_row gt_center\">12</td>\n",
              "    <td class=\"gt_row gt_center\">7.7</td>\n",
              "    <td class=\"gt_row gt_center\">−0.067</td>\n",
              "  </tr>\n",
              "  <tr>\n",
              "    <td class=\"gt_row gt_left\">Parch</td>\n",
              "    <td class=\"gt_row gt_center\">Int64</td>\n",
              "    <td class=\"gt_row gt_center\">156</td>\n",
              "    <td class=\"gt_row gt_center\">0</td>\n",
              "    <td class=\"gt_row gt_center\">1</td>\n",
              "    <td class=\"gt_row gt_center\">0</td>\n",
              "    <td class=\"gt_row gt_center\">5</td>\n",
              "    <td class=\"gt_row gt_center\">0</td>\n",
              "    <td class=\"gt_row gt_center\">0.0</td>\n",
              "    <td class=\"gt_row gt_center\">5</td>\n",
              "    <td class=\"gt_row gt_center\">0.0321</td>\n",
              "    <td class=\"gt_row gt_center\">121</td>\n",
              "    <td class=\"gt_row gt_center\">77.6</td>\n",
              "    <td class=\"gt_row gt_center\">22.4</td>\n",
              "    <td class=\"gt_row gt_center\">0.0</td>\n",
              "    <td class=\"gt_row gt_center\">0</td>\n",
              "    <td class=\"gt_row gt_center\">0</td>\n",
              "    <td class=\"gt_row gt_center\">0</td>\n",
              "    <td class=\"gt_row gt_center\">0</td>\n",
              "    <td class=\"gt_row gt_center\">2.734</td>\n",
              "    <td class=\"gt_row gt_center\">8.858</td>\n",
              "    <td class=\"gt_row gt_center\">0</td>\n",
              "    <td class=\"gt_row gt_left\">Int8</td>\n",
              "    <td class=\"gt_row gt_center\">4</td>\n",
              "    <td class=\"gt_row gt_left\">⚠ SHAKY</td>\n",
              "    <td class=\"gt_row gt_left\">NON-NORMAL (p=0.000)</td>\n",
              "    <td class=\"gt_row gt_left\">NON-UNIFORM (p=0.000)</td>\n",
              "    <td class=\"gt_row gt_center\">35</td>\n",
              "    <td class=\"gt_row gt_center\">22.4</td>\n",
              "    <td class=\"gt_row gt_center\">0.039</td>\n",
              "  </tr>\n",
              "  <tr>\n",
              "    <td class=\"gt_row gt_left\">Fare</td>\n",
              "    <td class=\"gt_row gt_center\">Float64</td>\n",
              "    <td class=\"gt_row gt_center\">156</td>\n",
              "    <td class=\"gt_row gt_center\">28</td>\n",
              "    <td class=\"gt_row gt_center\">39</td>\n",
              "    <td class=\"gt_row gt_center\">7</td>\n",
              "    <td class=\"gt_row gt_center\">263</td>\n",
              "    <td class=\"gt_row gt_center\">0</td>\n",
              "    <td class=\"gt_row gt_center\">0.0</td>\n",
              "    <td class=\"gt_row gt_center\">93</td>\n",
              "    <td class=\"gt_row gt_center\">0.5962</td>\n",
              "    <td class=\"gt_row gt_center\">0</td>\n",
              "    <td class=\"gt_row gt_center\">0.0</td>\n",
              "    <td class=\"gt_row gt_center\">100.0</td>\n",
              "    <td class=\"gt_row gt_center\">0.0</td>\n",
              "    <td class=\"gt_row gt_center\">8</td>\n",
              "    <td class=\"gt_row gt_center\">14</td>\n",
              "    <td class=\"gt_row gt_center\">30</td>\n",
              "    <td class=\"gt_row gt_center\">22</td>\n",
              "    <td class=\"gt_row gt_center\">4.136</td>\n",
              "    <td class=\"gt_row gt_center\">20.102</td>\n",
              "    <td class=\"gt_row gt_center\">7</td>\n",
              "    <td class=\"gt_row gt_left\">Float32</td>\n",
              "    <td class=\"gt_row gt_center\">4</td>\n",
              "    <td class=\"gt_row gt_left\">⚠ SHAKY</td>\n",
              "    <td class=\"gt_row gt_left\">NON-NORMAL (p=0.000)</td>\n",
              "    <td class=\"gt_row gt_left\">NON-UNIFORM (p=0.000)</td>\n",
              "    <td class=\"gt_row gt_center\">16</td>\n",
              "    <td class=\"gt_row gt_center\">10.3</td>\n",
              "    <td class=\"gt_row gt_center\">0.029</td>\n",
              "  </tr>\n",
              "</tbody>\n",
              "\n",
              "\n",
              "</table>\n",
              "\n",
              "</div>\n",
              "        "
            ],
            "text/plain": [
              "GT(_tbl_data=shape: (7, 30)\n",
              "┌────────────┬─────────┬───────┬───────────┬───┬────────────┬────────────┬────────────┬────────────┐\n",
              "│ Column     ┆ Dtype   ┆ Count ┆ N_Missing ┆ … ┆ Pct_Outlie ┆ Correlatio ┆ Shakiness_ ┆ Quality_Fl │\n",
              "│ ---        ┆ ---     ┆ ---   ┆ ---       ┆   ┆ rs         ┆ n          ┆ Score      ┆ ag         │\n",
              "│ str        ┆ str     ┆ i64   ┆ i64       ┆   ┆ ---        ┆ ---        ┆ ---        ┆ ---        │\n",
              "│            ┆         ┆       ┆           ┆   ┆ f64        ┆ f64        ┆ i64        ┆ str        │\n",
              "╞════════════╪═════════╪═══════╪═══════════╪═══╪════════════╪════════════╪════════════╪════════════╡\n",
              "│ PassengerI ┆ Int64   ┆ 156   ┆ 0         ┆ … ┆ 0.0        ┆ -0.193     ┆ 2          ┆ ⚠ SHAKY    │\n",
              "│ d          ┆         ┆       ┆           ┆   ┆            ┆            ┆            ┆            │\n",
              "│ Survived   ┆ Int64   ┆ 156   ┆ 0         ┆ … ┆ 0.0        ┆ null       ┆ 1          ┆ ✓ OK       │\n",
              "│ Pclass     ┆ Int64   ┆ 156   ┆ 0         ┆ … ┆ 0.0        ┆ -0.116     ┆ 1          ┆ ✓ OK       │\n",
              "│ Age        ┆ Float64 ┆ 126   ┆ 30        ┆ … ┆ 3.17       ┆ -0.12      ┆ 1          ┆ ✓ OK       │\n",
              "│ SibSp      ┆ Int64   ┆ 156   ┆ 0         ┆ … ┆ 7.69       ┆ -0.067     ┆ 3          ┆ ⚠ SHAKY    │\n",
              "│ Parch      ┆ Int64   ┆ 156   ┆ 0         ┆ … ┆ 22.44      ┆ 0.039      ┆ 4          ┆ ⚠ SHAKY    │\n",
              "│ Fare       ┆ Float64 ┆ 156   ┆ 0         ┆ … ┆ 10.26      ┆ 0.029      ┆ 4          ┆ ⚠ SHAKY    │\n",
              "└────────────┴─────────┴───────┴───────────┴───┴────────────┴────────────┴────────────┴────────────┘, _body=<great_tables._gt_data.Body object at 0x1197f2cb0>, _boxhead=Boxhead([ColInfo(var='Column', type=<ColInfoTypeEnum.default: 1>, column_label='Column', column_align='left', column_width=None), ColInfo(var='Dtype', type=<ColInfoTypeEnum.default: 1>, column_label='Dtype', column_align='center', column_width=None), ColInfo(var='Count', type=<ColInfoTypeEnum.default: 1>, column_label='Count', column_align='center', column_width=None), ColInfo(var='Mean', type=<ColInfoTypeEnum.default: 1>, column_label='Mean', column_align='center', column_width=None), ColInfo(var='Std', type=<ColInfoTypeEnum.default: 1>, column_label='Std', column_align='center', column_width=None), ColInfo(var='Min', type=<ColInfoTypeEnum.default: 1>, column_label='Min', column_align='center', column_width=None), ColInfo(var='Max', type=<ColInfoTypeEnum.default: 1>, column_label='Max', column_align='center', column_width=None), ColInfo(var='N_Missing', type=<ColInfoTypeEnum.default: 1>, column_label='N_Missing', column_align='center', column_width=None), ColInfo(var='Pct_Missing', type=<ColInfoTypeEnum.default: 1>, column_label='Pct_Missing', column_align='center', column_width=None), ColInfo(var='N_Unique', type=<ColInfoTypeEnum.default: 1>, column_label='N_Unique', column_align='center', column_width=None), ColInfo(var='Uniqueness_Ratio', type=<ColInfoTypeEnum.default: 1>, column_label='Uniqueness_Ratio', column_align='center', column_width=None), ColInfo(var='N_Zero', type=<ColInfoTypeEnum.default: 1>, column_label='N_Zero', column_align='center', column_width=None), ColInfo(var='Pct_Zero', type=<ColInfoTypeEnum.default: 1>, column_label='Pct_Zero', column_align='center', column_width=None), ColInfo(var='Pct_Pos', type=<ColInfoTypeEnum.default: 1>, column_label='Pct_Pos', column_align='center', column_width=None), ColInfo(var='Pct_Neg', type=<ColInfoTypeEnum.default: 1>, column_label='Pct_Neg', column_align='center', column_width=None), ColInfo(var='Q25', type=<ColInfoTypeEnum.default: 1>, column_label='Q25', column_align='center', column_width=None), ColInfo(var='Median', type=<ColInfoTypeEnum.default: 1>, column_label='Median', column_align='center', column_width=None), ColInfo(var='Q75', type=<ColInfoTypeEnum.default: 1>, column_label='Q75', column_align='center', column_width=None), ColInfo(var='IQR', type=<ColInfoTypeEnum.default: 1>, column_label='IQR', column_align='center', column_width=None), ColInfo(var='Skewness', type=<ColInfoTypeEnum.default: 1>, column_label='Skewness', column_align='center', column_width=None), ColInfo(var='Kurtosis', type=<ColInfoTypeEnum.default: 1>, column_label='Kurtosis', column_align='center', column_width=None), ColInfo(var='MAD', type=<ColInfoTypeEnum.default: 1>, column_label='MAD', column_align='center', column_width=None), ColInfo(var='Opt_Dtype', type=<ColInfoTypeEnum.default: 1>, column_label='Opt_Dtype', column_align='left', column_width=None), ColInfo(var='Shakiness_Score', type=<ColInfoTypeEnum.default: 1>, column_label='Shakiness_Score', column_align='center', column_width=None), ColInfo(var='Quality_Flag', type=<ColInfoTypeEnum.default: 1>, column_label='Quality_Flag', column_align='left', column_width=None), ColInfo(var='Normality_Test', type=<ColInfoTypeEnum.default: 1>, column_label='Normality_Test', column_align='left', column_width=None), ColInfo(var='Uniformity_Test', type=<ColInfoTypeEnum.default: 1>, column_label='Uniformity_Test', column_align='left', column_width=None), ColInfo(var='N_Outliers', type=<ColInfoTypeEnum.default: 1>, column_label='N_Outliers', column_align='center', column_width=None), ColInfo(var='Pct_Outliers', type=<ColInfoTypeEnum.default: 1>, column_label='Pct_Outliers', column_align='center', column_width=None), ColInfo(var='Correlation', type=<ColInfoTypeEnum.default: 1>, column_label='Correlation', column_align='center', column_width=None)]), _stub=<great_tables._gt_data.Stub object at 0x10dac8d60>, _spanners=Spanners([SpannerInfo(spanner_id='Basic Statistics', spanner_level=0, spanner_label='Basic Statistics', spanner_units=None, spanner_pattern=None, vars=['Dtype', 'Count', 'Mean', 'Std', 'Min', 'Max'], built=None), SpannerInfo(spanner_id='Quantiles', spanner_level=0, spanner_label='Quantiles', spanner_units=None, spanner_pattern=None, vars=['Q25', 'Median', 'Q75'], built=None), SpannerInfo(spanner_id='Distribution', spanner_level=0, spanner_label='Distribution', spanner_units=None, spanner_pattern=None, vars=['IQR', 'Skewness', 'Kurtosis', 'MAD'], built=None), SpannerInfo(spanner_id='Counts & Ratios', spanner_level=0, spanner_label='Counts & Ratios', spanner_units=None, spanner_pattern=None, vars=['N_Missing', 'Pct_Missing', 'N_Unique', 'Uniqueness_Ratio', 'N_Zero', 'Pct_Zero', 'Pct_Pos', 'Pct_Neg'], built=None), SpannerInfo(spanner_id='Outliers', spanner_level=0, spanner_label='Outliers', spanner_units=None, spanner_pattern=None, vars=['N_Outliers', 'Pct_Outliers'], built=None), SpannerInfo(spanner_id='Statistical Tests', spanner_level=0, spanner_label='Statistical Tests', spanner_units=None, spanner_pattern=None, vars=['Normality_Test', 'Uniformity_Test'], built=None), SpannerInfo(spanner_id='Quality Assessment', spanner_level=0, spanner_label='Quality Assessment', spanner_units=None, spanner_pattern=None, vars=['Opt_Dtype', 'Shakiness_Score', 'Quality_Flag'], built=None), SpannerInfo(spanner_id=\"Correlation with 'Survived'\", spanner_level=0, spanner_label=\"Correlation with 'Survived'\", spanner_units=None, spanner_pattern=None, vars=['Correlation'], built=None)]), _heading=Heading(title='🔬 Comprehensive DataFrame X-ray', subtitle='Dataset: 156 rows × 12 columns (14.7 KB in memory) - X-rayed in 703 ms', preheader=None), _stubhead=None, _source_notes=[], _footnotes=[], _styles=[], _locale=<great_tables._gt_data.Locale object at 0x1197f26b0>, _formats=[<great_tables._gt_data.FormatInfo object at 0x1197f29b0>, <great_tables._gt_data.FormatInfo object at 0x1197f2bc0>, <great_tables._gt_data.FormatInfo object at 0x119991630>, <great_tables._gt_data.FormatInfo object at 0x119991690>, <great_tables._gt_data.FormatInfo object at 0x1199915d0>, <great_tables._gt_data.FormatInfo object at 0x119991ab0>], _substitutions=[], _options=Options(table_id=OptionsInfo(scss=False, category='table', type='value', value=None), table_caption=OptionsInfo(scss=False, category='table', type='value', value=None), table_width=OptionsInfo(scss=True, category='table', type='px', value='auto'), table_layout=OptionsInfo(scss=True, category='table', type='value', value='fixed'), table_margin_left=OptionsInfo(scss=True, category='table', type='px', value='auto'), table_margin_right=OptionsInfo(scss=True, category='table', type='px', value='auto'), table_background_color=OptionsInfo(scss=True, category='table', type='value', value='#FFFFFF'), table_additional_css=OptionsInfo(scss=False, category='table', type='values', value=[]), table_font_names=OptionsInfo(scss=False, category='table', type='values', value=['-apple-system', 'BlinkMacSystemFont', 'Segoe UI', 'Roboto', 'Oxygen', 'Ubuntu', 'Cantarell', 'Helvetica Neue', 'Fira Sans', 'Droid Sans', 'Arial', 'sans-serif']), table_font_size=OptionsInfo(scss=True, category='table', type='px', value='12px'), table_font_weight=OptionsInfo(scss=True, category='table', type='value', value='normal'), table_font_style=OptionsInfo(scss=True, category='table', type='value', value='normal'), table_font_color=OptionsInfo(scss=True, category='table', type='value', value='#333333'), table_font_color_light=OptionsInfo(scss=True, category='table', type='value', value='#FFFFFF'), table_border_top_include=OptionsInfo(scss=False, category='table', type='boolean', value=True), table_border_top_style=OptionsInfo(scss=True, category='table', type='value', value='solid'), table_border_top_width=OptionsInfo(scss=True, category='table', type='px', value='2px'), table_border_top_color=OptionsInfo(scss=True, category='table', type='value', value='#A8A8A8'), table_border_right_style=OptionsInfo(scss=True, category='table', type='value', value='none'), table_border_right_width=OptionsInfo(scss=True, category='table', type='px', value='2px'), table_border_right_color=OptionsInfo(scss=True, category='table', type='value', value='#D3D3D3'), table_border_bottom_include=OptionsInfo(scss=False, category='table', type='boolean', value=True), table_border_bottom_style=OptionsInfo(scss=True, category='table', type='value', value='solid'), table_border_bottom_width=OptionsInfo(scss=True, category='table', type='px', value='2px'), table_border_bottom_color=OptionsInfo(scss=True, category='table', type='value', value='#A8A8A8'), table_border_left_style=OptionsInfo(scss=True, category='table', type='value', value='none'), table_border_left_width=OptionsInfo(scss=True, category='table', type='px', value='2px'), table_border_left_color=OptionsInfo(scss=True, category='table', type='value', value='#D3D3D3'), heading_background_color=OptionsInfo(scss=True, category='heading', type='value', value='#f8f9fa'), heading_align=OptionsInfo(scss=True, category='heading', type='value', value='center'), heading_title_font_size=OptionsInfo(scss=True, category='heading', type='px', value='125%'), heading_title_font_weight=OptionsInfo(scss=True, category='heading', type='value', value='initial'), heading_subtitle_font_size=OptionsInfo(scss=True, category='heading', type='px', value='85%'), heading_subtitle_font_weight=OptionsInfo(scss=True, category='heading', type='value', value='initial'), heading_padding=OptionsInfo(scss=True, category='heading', type='px', value='4px'), heading_padding_horizontal=OptionsInfo(scss=True, category='heading', type='px', value='5px'), heading_border_bottom_style=OptionsInfo(scss=True, category='heading', type='value', value='solid'), heading_border_bottom_width=OptionsInfo(scss=True, category='heading', type='px', value='2px'), heading_border_bottom_color=OptionsInfo(scss=True, category='heading', type='value', value='#D3D3D3'), heading_border_lr_style=OptionsInfo(scss=True, category='heading', type='value', value='none'), heading_border_lr_width=OptionsInfo(scss=True, category='heading', type='px', value='1px'), heading_border_lr_color=OptionsInfo(scss=True, category='heading', type='value', value='#D3D3D3'), column_labels_background_color=OptionsInfo(scss=True, category='column_labels', type='value', value='#e9ecef'), column_labels_font_size=OptionsInfo(scss=True, category='column_labels', type='px', value='100%'), column_labels_font_weight=OptionsInfo(scss=True, category='column_labels', type='value', value='normal'), column_labels_text_transform=OptionsInfo(scss=True, category='column_labels', type='value', value='inherit'), column_labels_padding=OptionsInfo(scss=True, category='column_labels', type='px', value='5px'), column_labels_padding_horizontal=OptionsInfo(scss=True, category='column_labels', type='px', value='5px'), column_labels_vlines_style=OptionsInfo(scss=True, category='table_body', type='value', value='none'), column_labels_vlines_width=OptionsInfo(scss=True, category='table_body', type='px', value='1px'), column_labels_vlines_color=OptionsInfo(scss=True, category='table_body', type='value', value='#D3D3D3'), column_labels_border_top_style=OptionsInfo(scss=True, category='column_labels', type='value', value='solid'), column_labels_border_top_width=OptionsInfo(scss=True, category='column_labels', type='px', value='2px'), column_labels_border_top_color=OptionsInfo(scss=True, category='column_labels', type='value', value='#D3D3D3'), column_labels_border_bottom_style=OptionsInfo(scss=True, category='column_labels', type='value', value='solid'), column_labels_border_bottom_width=OptionsInfo(scss=True, category='column_labels', type='px', value='2px'), column_labels_border_bottom_color=OptionsInfo(scss=True, category='column_labels', type='value', value='#D3D3D3'), column_labels_border_lr_style=OptionsInfo(scss=True, category='column_labels', type='value', value='none'), column_labels_border_lr_width=OptionsInfo(scss=True, category='column_labels', type='px', value='1px'), column_labels_border_lr_color=OptionsInfo(scss=True, category='column_labels', type='value', value='#D3D3D3'), column_labels_hidden=OptionsInfo(scss=False, category='column_labels', type='boolean', value=False), row_group_background_color=OptionsInfo(scss=True, category='row_group', type='value', value=None), row_group_font_size=OptionsInfo(scss=True, category='row_group', type='px', value='100%'), row_group_font_weight=OptionsInfo(scss=True, category='row_group', type='value', value='initial'), row_group_text_transform=OptionsInfo(scss=True, category='row_group', type='value', value='inherit'), row_group_padding=OptionsInfo(scss=True, category='row_group', type='px', value='8px'), row_group_padding_horizontal=OptionsInfo(scss=True, category='row_group', type='px', value='5px'), row_group_border_top_style=OptionsInfo(scss=True, category='row_group', type='value', value='solid'), row_group_border_top_width=OptionsInfo(scss=True, category='row_group', type='px', value='2px'), row_group_border_top_color=OptionsInfo(scss=True, category='row_group', type='value', value='#D3D3D3'), row_group_border_right_style=OptionsInfo(scss=True, category='row_group', type='value', value='none'), row_group_border_right_width=OptionsInfo(scss=True, category='row_group', type='px', value='1px'), row_group_border_right_color=OptionsInfo(scss=True, category='row_group', type='value', value='#D3D3D3'), row_group_border_bottom_style=OptionsInfo(scss=True, category='row_group', type='value', value='solid'), row_group_border_bottom_width=OptionsInfo(scss=True, category='row_group', type='px', value='2px'), row_group_border_bottom_color=OptionsInfo(scss=True, category='row_group', type='value', value='#D3D3D3'), row_group_border_left_style=OptionsInfo(scss=True, category='row_group', type='value', value='none'), row_group_border_left_width=OptionsInfo(scss=True, category='row_group', type='px', value='1px'), row_group_border_left_color=OptionsInfo(scss=True, category='row_group', type='value', value='#D3D3D3'), row_group_as_column=OptionsInfo(scss=False, category='row_group', type='boolean', value=False), table_body_hlines_style=OptionsInfo(scss=True, category='table_body', type='value', value='solid'), table_body_hlines_width=OptionsInfo(scss=True, category='table_body', type='px', value='1px'), table_body_hlines_color=OptionsInfo(scss=True, category='table_body', type='value', value='#D3D3D3'), table_body_vlines_style=OptionsInfo(scss=True, category='table_body', type='value', value='none'), table_body_vlines_width=OptionsInfo(scss=True, category='table_body', type='px', value='1px'), table_body_vlines_color=OptionsInfo(scss=True, category='table_body', type='value', value='#D3D3D3'), table_body_border_top_style=OptionsInfo(scss=True, category='table_body', type='value', value='solid'), table_body_border_top_width=OptionsInfo(scss=True, category='table_body', type='px', value='2px'), table_body_border_top_color=OptionsInfo(scss=True, category='table_body', type='value', value='#D3D3D3'), table_body_border_bottom_style=OptionsInfo(scss=True, category='table_body', type='value', value='solid'), table_body_border_bottom_width=OptionsInfo(scss=True, category='table_body', type='px', value='2px'), table_body_border_bottom_color=OptionsInfo(scss=True, category='table_body', type='value', value='#D3D3D3'), data_row_padding=OptionsInfo(scss=True, category='data_row', type='px', value='8px'), data_row_padding_horizontal=OptionsInfo(scss=True, category='data_row', type='px', value='5px'), stub_background_color=OptionsInfo(scss=True, category='stub', type='value', value=None), stub_font_size=OptionsInfo(scss=True, category='stub', type='px', value='100%'), stub_font_weight=OptionsInfo(scss=True, category='stub', type='value', value='initial'), stub_text_transform=OptionsInfo(scss=True, category='stub', type='value', value='inherit'), stub_border_style=OptionsInfo(scss=True, category='stub', type='value', value='solid'), stub_border_width=OptionsInfo(scss=True, category='stub', type='px', value='2px'), stub_border_color=OptionsInfo(scss=True, category='stub', type='value', value='#D3D3D3'), stub_row_group_background_color=OptionsInfo(scss=True, category='stub', type='value', value=None), stub_row_group_font_size=OptionsInfo(scss=True, category='stub', type='px', value='100%'), stub_row_group_font_weight=OptionsInfo(scss=True, category='stub', type='value', value='initial'), stub_row_group_text_transform=OptionsInfo(scss=True, category='stub', type='value', value='inherit'), stub_row_group_border_style=OptionsInfo(scss=True, category='stub', type='value', value='solid'), stub_row_group_border_width=OptionsInfo(scss=True, category='stub', type='px', value='2px'), stub_row_group_border_color=OptionsInfo(scss=True, category='stub', type='value', value='#D3D3D3'), source_notes_padding=OptionsInfo(scss=True, category='source_notes', type='px', value='4px'), source_notes_padding_horizontal=OptionsInfo(scss=True, category='source_notes', type='px', value='5px'), source_notes_background_color=OptionsInfo(scss=True, category='source_notes', type='value', value=None), source_notes_font_size=OptionsInfo(scss=True, category='source_notes', type='px', value='90%'), source_notes_border_bottom_style=OptionsInfo(scss=True, category='source_notes', type='value', value='none'), source_notes_border_bottom_width=OptionsInfo(scss=True, category='source_notes', type='px', value='2px'), source_notes_border_bottom_color=OptionsInfo(scss=True, category='source_notes', type='value', value='#D3D3D3'), source_notes_border_lr_style=OptionsInfo(scss=True, category='source_notes', type='value', value='none'), source_notes_border_lr_width=OptionsInfo(scss=True, category='source_notes', type='px', value='2px'), source_notes_border_lr_color=OptionsInfo(scss=True, category='source_notes', type='value', value='#D3D3D3'), source_notes_multiline=OptionsInfo(scss=False, category='source_notes', type='boolean', value=True), source_notes_sep=OptionsInfo(scss=False, category='source_notes', type='value', value=' '), row_striping_background_color=OptionsInfo(scss=True, category='row', type='value', value='rgba(128,128,128,0.05)'), row_striping_include_stub=OptionsInfo(scss=False, category='row', type='boolean', value=False), row_striping_include_table_body=OptionsInfo(scss=False, category='row', type='boolean', value=False), container_width=OptionsInfo(scss=False, category='container', type='px', value='auto'), container_height=OptionsInfo(scss=False, category='container', type='px', value='auto'), container_padding_x=OptionsInfo(scss=False, category='container', type='px', value='0px'), container_padding_y=OptionsInfo(scss=False, category='container', type='px', value='10px'), container_overflow_x=OptionsInfo(scss=False, category='container', type='overflow', value='auto'), container_overflow_y=OptionsInfo(scss=False, category='container', type='overflow', value='auto'), quarto_disable_processing=OptionsInfo(scss=False, category='quarto', type='logical', value=False), quarto_use_bootstrap=OptionsInfo(scss=False, category='quarto', type='logical', value=False)), _google_font_imports=GoogleFontImports(imports=frozenset()), _has_built=False)"
            ]
          },
          "execution_count": 3,
          "metadata": {},
          "output_type": "execute_result"
        }
      ],
      "source": [
        "# Expanded X-ray\n",
        "ps.xray(df, expanded=True, great_tables=True, decimals=0, corr_target='Survived')"
      ]
    },
    {
      "cell_type": "code",
      "execution_count": 6,
      "metadata": {},
      "outputs": [
        {
          "name": "stdout",
          "output_type": "stream",
          "text": [
            "🔬 X-RAY WITH CORRELATION TARGET & CUSTOM FORMATTING\n"
          ]
        },
        {
          "data": {
            "text/html": [
              "<div id=\"rqzqxdgnls\" style=\"padding-left:0px;padding-right:0px;padding-top:10px;padding-bottom:10px;overflow-x:auto;overflow-y:auto;width:auto;height:auto;\">\n",
              "<style>\n",
              "#rqzqxdgnls table {\n",
              "          font-family: -apple-system, BlinkMacSystemFont, 'Segoe UI', Roboto, Oxygen, Ubuntu, Cantarell, 'Helvetica Neue', 'Fira Sans', 'Droid Sans', Arial, sans-serif;\n",
              "          -webkit-font-smoothing: antialiased;\n",
              "          -moz-osx-font-smoothing: grayscale;\n",
              "        }\n",
              "\n",
              "#rqzqxdgnls thead, tbody, tfoot, tr, td, th { border-style: none !important; }\n",
              " tr { background-color: transparent !important; }\n",
              "#rqzqxdgnls p { margin: 0 !important; padding: 0 !important; }\n",
              " #rqzqxdgnls .gt_table { display: table !important; border-collapse: collapse !important; line-height: normal !important; margin-left: auto !important; margin-right: auto !important; color: #333333 !important; font-size: 13px !important; font-weight: normal !important; font-style: normal !important; background-color: #FFFFFF !important; width: auto !important; border-top-style: solid !important; border-top-width: 2px !important; border-top-color: #A8A8A8 !important; border-right-style: none !important; border-right-width: 2px !important; border-right-color: #D3D3D3 !important; border-bottom-style: solid !important; border-bottom-width: 2px !important; border-bottom-color: #A8A8A8 !important; border-left-style: none !important; border-left-width: 2px !important; border-left-color: #D3D3D3 !important; }\n",
              " #rqzqxdgnls .gt_caption { padding-top: 4px !important; padding-bottom: 4px !important; }\n",
              " #rqzqxdgnls .gt_title { color: #333333 !important; font-size: 125% !important; font-weight: initial !important; padding-top: 4px !important; padding-bottom: 4px !important; padding-left: 5px !important; padding-right: 5px !important; border-bottom-color: #FFFFFF !important; border-bottom-width: 0 !important; }\n",
              " #rqzqxdgnls .gt_subtitle { color: #333333 !important; font-size: 85% !important; font-weight: initial !important; padding-top: 3px !important; padding-bottom: 5px !important; padding-left: 5px !important; padding-right: 5px !important; border-top-color: #FFFFFF !important; border-top-width: 0 !important; }\n",
              " #rqzqxdgnls .gt_heading { background-color: #f8f9fa !important; text-align: center !important; border-bottom-color: #FFFFFF !important; border-left-style: none !important; border-left-width: 1px !important; border-left-color: #D3D3D3 !important; border-right-style: none !important; border-right-width: 1px !important; border-right-color: #D3D3D3 !important; }\n",
              " #rqzqxdgnls .gt_bottom_border { border-bottom-style: solid !important; border-bottom-width: 2px !important; border-bottom-color: #D3D3D3 !important; }\n",
              " #rqzqxdgnls .gt_col_headings { border-top-style: solid !important; border-top-width: 2px !important; border-top-color: #D3D3D3 !important; border-bottom-style: solid !important; border-bottom-width: 2px !important; border-bottom-color: #D3D3D3 !important; border-left-style: none !important; border-left-width: 1px !important; border-left-color: #D3D3D3 !important; border-right-style: none !important; border-right-width: 1px !important; border-right-color: #D3D3D3 !important; }\n",
              " #rqzqxdgnls .gt_col_heading { color: #333333 !important; background-color: #e9ecef !important; font-size: 100% !important; font-weight: normal !important; text-transform: inherit !important; border-left-style: none !important; border-left-width: 1px !important; border-left-color: #D3D3D3 !important; border-right-style: none !important; border-right-width: 1px !important; border-right-color: #D3D3D3 !important; vertical-align: bottom !important; padding-top: 5px !important; padding-bottom: 5px !important; padding-left: 5px !important; padding-right: 5px !important; overflow-x: hidden !important; }\n",
              " #rqzqxdgnls .gt_column_spanner_outer { color: #333333 !important; background-color: #e9ecef !important; font-size: 100% !important; font-weight: normal !important; text-transform: inherit !important; padding-top: 0 !important; padding-bottom: 0 !important; padding-left: 4px !important; padding-right: 4px !important; }\n",
              " #rqzqxdgnls .gt_column_spanner_outer:first-child { padding-left: 0 !important; }\n",
              " #rqzqxdgnls .gt_column_spanner_outer:last-child { padding-right: 0 !important; }\n",
              " #rqzqxdgnls .gt_column_spanner { border-bottom-style: solid !important; border-bottom-width: 2px !important; border-bottom-color: #D3D3D3 !important; vertical-align: bottom !important; padding-top: 5px !important; padding-bottom: 5px !important; overflow-x: hidden !important; display: inline-block !important; width: 100% !important; }\n",
              " #rqzqxdgnls .gt_spanner_row { border-bottom-style: hidden !important; }\n",
              " #rqzqxdgnls .gt_group_heading { padding-top: 8px !important; padding-bottom: 8px !important; padding-left: 5px !important; padding-right: 5px !important; color: #333333 !important; background-color: #FFFFFF !important; font-size: 100% !important; font-weight: initial !important; text-transform: inherit !important; border-top-style: solid !important; border-top-width: 2px !important; border-top-color: #D3D3D3 !important; border-bottom-style: solid !important; border-bottom-width: 2px !important; border-bottom-color: #D3D3D3 !important; border-left-style: none !important; border-left-width: 1px !important; border-left-color: #D3D3D3 !important; border-right-style: none !important; border-right-width: 1px !important; border-right-color: #D3D3D3 !important; vertical-align: middle !important; text-align: left !important; }\n",
              " #rqzqxdgnls .gt_empty_group_heading { padding: 0.5px !important; color: #333333 !important; background-color: #FFFFFF !important; font-size: 100% !important; font-weight: initial !important; border-top-style: solid !important; border-top-width: 2px !important; border-top-color: #D3D3D3 !important; border-bottom-style: solid !important; border-bottom-width: 2px !important; border-bottom-color: #D3D3D3 !important; vertical-align: middle !important; }\n",
              " #rqzqxdgnls .gt_from_md> :first-child { margin-top: 0 !important; }\n",
              " #rqzqxdgnls .gt_from_md> :last-child { margin-bottom: 0 !important; }\n",
              " #rqzqxdgnls .gt_row { padding-top: 8px !important; padding-bottom: 8px !important; padding-left: 5px !important; padding-right: 5px !important; margin: 10px !important; border-top-style: solid !important; border-top-width: 1px !important; border-top-color: #D3D3D3 !important; border-left-style: none !important; border-left-width: 1px !important; border-left-color: #D3D3D3 !important; border-right-style: none !important; border-right-width: 1px !important; border-right-color: #D3D3D3 !important; vertical-align: middle !important; overflow-x: hidden !important; }\n",
              " #rqzqxdgnls .gt_stub { color: #333333 !important; background-color: #FFFFFF !important; font-size: 100% !important; font-weight: initial !important; text-transform: inherit !important; border-right-style: solid !important; border-right-width: 2px !important; border-right-color: #D3D3D3 !important; padding-left: 5px !important; padding-right: 5px !important; }\n",
              " #rqzqxdgnls .gt_stub_row_group { color: #333333 !important; background-color: #FFFFFF !important; font-size: 100% !important; font-weight: initial !important; text-transform: inherit !important; border-right-style: solid !important; border-right-width: 2px !important; border-right-color: #D3D3D3 !important; padding-left: 5px !important; padding-right: 5px !important; vertical-align: top !important; }\n",
              " #rqzqxdgnls .gt_row_group_first td { border-top-width: 2px !important; }\n",
              " #rqzqxdgnls .gt_row_group_first th { border-top-width: 2px !important; }\n",
              " #rqzqxdgnls .gt_striped { background-color: rgba(128,128,128,0.05) !important; }\n",
              " #rqzqxdgnls .gt_table_body { border-top-style: solid !important; border-top-width: 2px !important; border-top-color: #D3D3D3 !important; border-bottom-style: solid !important; border-bottom-width: 2px !important; border-bottom-color: #D3D3D3 !important; }\n",
              " #rqzqxdgnls .gt_sourcenotes { color: #333333 !important; background-color: #FFFFFF !important; border-bottom-style: none !important; border-bottom-width: 2px !important; border-bottom-color: #D3D3D3 !important; border-left-style: none !important; border-left-width: 2px !important; border-left-color: #D3D3D3 !important; border-right-style: none !important; border-right-width: 2px !important; border-right-color: #D3D3D3 !important; }\n",
              " #rqzqxdgnls .gt_sourcenote { font-size: 90% !important; padding-top: 4px !important; padding-bottom: 4px !important; padding-left: 5px !important; padding-right: 5px !important; text-align: left !important; }\n",
              " #rqzqxdgnls .gt_left { text-align: left !important; }\n",
              " #rqzqxdgnls .gt_center { text-align: center !important; }\n",
              " #rqzqxdgnls .gt_right { text-align: right !important; font-variant-numeric: tabular-nums !important; }\n",
              " #rqzqxdgnls .gt_font_normal { font-weight: normal !important; }\n",
              " #rqzqxdgnls .gt_font_bold { font-weight: bold !important; }\n",
              " #rqzqxdgnls .gt_font_italic { font-style: italic !important; }\n",
              " #rqzqxdgnls .gt_super { font-size: 65% !important; }\n",
              " #rqzqxdgnls .gt_footnote_marks { font-size: 75% !important; vertical-align: 0.4em !important; position: initial !important; }\n",
              " #rqzqxdgnls .gt_asterisk { font-size: 100% !important; vertical-align: 0 !important; }\n",
              " \n",
              "</style>\n",
              "<table class=\"gt_table\" data-quarto-disable-processing=\"false\" data-quarto-bootstrap=\"false\">\n",
              "<thead>\n",
              "\n",
              "  <tr class=\"gt_heading\">\n",
              "    <td colspan=\"16\" class=\"gt_heading gt_title gt_font_normal\">🔬 DataFrame X-ray</td>\n",
              "  </tr>\n",
              "  <tr class=\"gt_heading\">\n",
              "    <td colspan=\"16\" class=\"gt_heading gt_subtitle gt_font_normal gt_bottom_border\">Dataset: 156 rows × 12 columns (14.7 KB in memory) - X-rayed in 6 ms</td>\n",
              "  </tr>\n",
              "<tr class=\"gt_col_headings gt_spanner_row\">\n",
              "  <th class=\"gt_col_heading gt_columns_bottom_border gt_left\" rowspan=\"2\" colspan=\"1\" scope=\"col\" id=\"Column\">Column</th>\n",
              "  <th class=\"gt_center gt_columns_top_border gt_column_spanner_outer\" rowspan=\"1\" colspan=\"8\" scope=\"colgroup\" id=\"Basic-Statistics\">\n",
              "    <span class=\"gt_column_spanner\">Basic Statistics</span>\n",
              "  </th>\n",
              "  <th class=\"gt_center gt_columns_top_border gt_column_spanner_outer\" rowspan=\"1\" colspan=\"3\" scope=\"colgroup\" id=\"Key-Metrics\">\n",
              "    <span class=\"gt_column_spanner\">Key Metrics</span>\n",
              "  </th>\n",
              "  <th class=\"gt_center gt_columns_top_border gt_column_spanner_outer\" rowspan=\"1\" colspan=\"1\" scope=\"col\" id=\"Quality\">\n",
              "    <span class=\"gt_column_spanner\">Quality</span>\n",
              "  </th>\n",
              "  <th class=\"gt_center gt_columns_top_border gt_column_spanner_outer\" rowspan=\"1\" colspan=\"1\" scope=\"col\" id=\"Correlation-with-&amp;#x27;Survived&amp;#x27;\">\n",
              "    <span class=\"gt_column_spanner\">Correlation with &#x27;Survived&#x27;</span>\n",
              "  </th>\n",
              "  <th class=\"gt_col_heading gt_columns_bottom_border gt_right\" rowspan=\"2\" colspan=\"1\" scope=\"col\" id=\"P10\">P10</th>\n",
              "  <th class=\"gt_col_heading gt_columns_bottom_border gt_right\" rowspan=\"2\" colspan=\"1\" scope=\"col\" id=\"P90\">P90</th>\n",
              "</tr>\n",
              "<tr class=\"gt_col_headings\">\n",
              "  <th class=\"gt_col_heading gt_columns_bottom_border gt_center\" rowspan=\"1\" colspan=\"1\" scope=\"col\" id=\"Dtype\">Dtype</th>\n",
              "  <th class=\"gt_col_heading gt_columns_bottom_border gt_center\" rowspan=\"1\" colspan=\"1\" scope=\"col\" id=\"Count\">Count</th>\n",
              "  <th class=\"gt_col_heading gt_columns_bottom_border gt_center\" rowspan=\"1\" colspan=\"1\" scope=\"col\" id=\"Mean\">Mean</th>\n",
              "  <th class=\"gt_col_heading gt_columns_bottom_border gt_center\" rowspan=\"1\" colspan=\"1\" scope=\"col\" id=\"Min\">Min</th>\n",
              "  <th class=\"gt_col_heading gt_columns_bottom_border gt_center\" rowspan=\"1\" colspan=\"1\" scope=\"col\" id=\"Q25\">Q25</th>\n",
              "  <th class=\"gt_col_heading gt_columns_bottom_border gt_center\" rowspan=\"1\" colspan=\"1\" scope=\"col\" id=\"Median\">Median</th>\n",
              "  <th class=\"gt_col_heading gt_columns_bottom_border gt_center\" rowspan=\"1\" colspan=\"1\" scope=\"col\" id=\"Q75\">Q75</th>\n",
              "  <th class=\"gt_col_heading gt_columns_bottom_border gt_center\" rowspan=\"1\" colspan=\"1\" scope=\"col\" id=\"Max\">Max</th>\n",
              "  <th class=\"gt_col_heading gt_columns_bottom_border gt_center\" rowspan=\"1\" colspan=\"1\" scope=\"col\" id=\"IQR\">IQR</th>\n",
              "  <th class=\"gt_col_heading gt_columns_bottom_border gt_center\" rowspan=\"1\" colspan=\"1\" scope=\"col\" id=\"Pct_Missing\">Pct_Missing</th>\n",
              "  <th class=\"gt_col_heading gt_columns_bottom_border gt_center\" rowspan=\"1\" colspan=\"1\" scope=\"col\" id=\"N_Outliers\">N_Outliers</th>\n",
              "  <th class=\"gt_col_heading gt_columns_bottom_border gt_center\" rowspan=\"1\" colspan=\"1\" scope=\"col\" id=\"Quality_Flag\">Quality_Flag</th>\n",
              "  <th class=\"gt_col_heading gt_columns_bottom_border gt_center\" rowspan=\"1\" colspan=\"1\" scope=\"col\" id=\"Correlation\">Correlation</th>\n",
              "</tr>\n",
              "</thead>\n",
              "<tbody class=\"gt_table_body\">\n",
              "  <tr>\n",
              "    <td class=\"gt_row gt_left\">PassengerId</td>\n",
              "    <td class=\"gt_row gt_center\">Int64</td>\n",
              "    <td class=\"gt_row gt_center\">156</td>\n",
              "    <td class=\"gt_row gt_center\">78.5</td>\n",
              "    <td class=\"gt_row gt_center\">1.0</td>\n",
              "    <td class=\"gt_row gt_center\">40.0</td>\n",
              "    <td class=\"gt_row gt_center\">79.0</td>\n",
              "    <td class=\"gt_row gt_center\">117.0</td>\n",
              "    <td class=\"gt_row gt_center\">156.0</td>\n",
              "    <td class=\"gt_row gt_center\">77.0</td>\n",
              "    <td class=\"gt_row gt_center\">0.0</td>\n",
              "    <td class=\"gt_row gt_center\">0</td>\n",
              "    <td class=\"gt_row gt_center\">✓ OK</td>\n",
              "    <td class=\"gt_row gt_center\">−0.193</td>\n",
              "    <td class=\"gt_row gt_right\">17.0</td>\n",
              "    <td class=\"gt_row gt_right\">141.0</td>\n",
              "  </tr>\n",
              "  <tr>\n",
              "    <td class=\"gt_row gt_left\">Survived</td>\n",
              "    <td class=\"gt_row gt_center\">Int64</td>\n",
              "    <td class=\"gt_row gt_center\">156</td>\n",
              "    <td class=\"gt_row gt_center\">0.3</td>\n",
              "    <td class=\"gt_row gt_center\">0</td>\n",
              "    <td class=\"gt_row gt_center\">0</td>\n",
              "    <td class=\"gt_row gt_center\">0</td>\n",
              "    <td class=\"gt_row gt_center\">1.0</td>\n",
              "    <td class=\"gt_row gt_center\">1.0</td>\n",
              "    <td class=\"gt_row gt_center\">1.0</td>\n",
              "    <td class=\"gt_row gt_center\">0.0</td>\n",
              "    <td class=\"gt_row gt_center\">0</td>\n",
              "    <td class=\"gt_row gt_center\">✓ OK</td>\n",
              "    <td class=\"gt_row gt_center\">None</td>\n",
              "    <td class=\"gt_row gt_right\">0.0</td>\n",
              "    <td class=\"gt_row gt_right\">1.0</td>\n",
              "  </tr>\n",
              "  <tr>\n",
              "    <td class=\"gt_row gt_left\">Pclass</td>\n",
              "    <td class=\"gt_row gt_center\">Int64</td>\n",
              "    <td class=\"gt_row gt_center\">156</td>\n",
              "    <td class=\"gt_row gt_center\">2.4</td>\n",
              "    <td class=\"gt_row gt_center\">1.0</td>\n",
              "    <td class=\"gt_row gt_center\">2.0</td>\n",
              "    <td class=\"gt_row gt_center\">3.0</td>\n",
              "    <td class=\"gt_row gt_center\">3.0</td>\n",
              "    <td class=\"gt_row gt_center\">3.0</td>\n",
              "    <td class=\"gt_row gt_center\">1.0</td>\n",
              "    <td class=\"gt_row gt_center\">0.0</td>\n",
              "    <td class=\"gt_row gt_center\">0</td>\n",
              "    <td class=\"gt_row gt_center\">✓ OK</td>\n",
              "    <td class=\"gt_row gt_center\">−0.116</td>\n",
              "    <td class=\"gt_row gt_right\">1.0</td>\n",
              "    <td class=\"gt_row gt_right\">3.0</td>\n",
              "  </tr>\n",
              "  <tr>\n",
              "    <td class=\"gt_row gt_left\">Age</td>\n",
              "    <td class=\"gt_row gt_center\">Float64</td>\n",
              "    <td class=\"gt_row gt_center\">126</td>\n",
              "    <td class=\"gt_row gt_center\">28.1</td>\n",
              "    <td class=\"gt_row gt_center\">0.8</td>\n",
              "    <td class=\"gt_row gt_center\">19.0</td>\n",
              "    <td class=\"gt_row gt_center\">26.0</td>\n",
              "    <td class=\"gt_row gt_center\">35.0</td>\n",
              "    <td class=\"gt_row gt_center\">71.0</td>\n",
              "    <td class=\"gt_row gt_center\">16.0</td>\n",
              "    <td class=\"gt_row gt_center\">19.2</td>\n",
              "    <td class=\"gt_row gt_center\">4</td>\n",
              "    <td class=\"gt_row gt_center\">✓ OK</td>\n",
              "    <td class=\"gt_row gt_center\">−0.120</td>\n",
              "    <td class=\"gt_row gt_right\">14.0</td>\n",
              "    <td class=\"gt_row gt_right\">49.0</td>\n",
              "  </tr>\n",
              "  <tr>\n",
              "    <td class=\"gt_row gt_left\">SibSp</td>\n",
              "    <td class=\"gt_row gt_center\">Int64</td>\n",
              "    <td class=\"gt_row gt_center\">156</td>\n",
              "    <td class=\"gt_row gt_center\">0.6</td>\n",
              "    <td class=\"gt_row gt_center\">0</td>\n",
              "    <td class=\"gt_row gt_center\">0</td>\n",
              "    <td class=\"gt_row gt_center\">0</td>\n",
              "    <td class=\"gt_row gt_center\">1.0</td>\n",
              "    <td class=\"gt_row gt_center\">5.0</td>\n",
              "    <td class=\"gt_row gt_center\">1.0</td>\n",
              "    <td class=\"gt_row gt_center\">0.0</td>\n",
              "    <td class=\"gt_row gt_center\">12</td>\n",
              "    <td class=\"gt_row gt_center\">✓ OK</td>\n",
              "    <td class=\"gt_row gt_center\">−0.067</td>\n",
              "    <td class=\"gt_row gt_right\">0.0</td>\n",
              "    <td class=\"gt_row gt_right\">2.0</td>\n",
              "  </tr>\n",
              "  <tr>\n",
              "    <td class=\"gt_row gt_left\">Parch</td>\n",
              "    <td class=\"gt_row gt_center\">Int64</td>\n",
              "    <td class=\"gt_row gt_center\">156</td>\n",
              "    <td class=\"gt_row gt_center\">0.4</td>\n",
              "    <td class=\"gt_row gt_center\">0</td>\n",
              "    <td class=\"gt_row gt_center\">0</td>\n",
              "    <td class=\"gt_row gt_center\">0</td>\n",
              "    <td class=\"gt_row gt_center\">0</td>\n",
              "    <td class=\"gt_row gt_center\">5.0</td>\n",
              "    <td class=\"gt_row gt_center\">0</td>\n",
              "    <td class=\"gt_row gt_center\">0.0</td>\n",
              "    <td class=\"gt_row gt_center\">35</td>\n",
              "    <td class=\"gt_row gt_center\">✓ OK</td>\n",
              "    <td class=\"gt_row gt_center\">0.039</td>\n",
              "    <td class=\"gt_row gt_right\">0.0</td>\n",
              "    <td class=\"gt_row gt_right\">2.0</td>\n",
              "  </tr>\n",
              "  <tr>\n",
              "    <td class=\"gt_row gt_left\">Fare</td>\n",
              "    <td class=\"gt_row gt_center\">Float64</td>\n",
              "    <td class=\"gt_row gt_center\">156</td>\n",
              "    <td class=\"gt_row gt_center\">28.1</td>\n",
              "    <td class=\"gt_row gt_center\">6.8</td>\n",
              "    <td class=\"gt_row gt_center\">8.0</td>\n",
              "    <td class=\"gt_row gt_center\">14.5</td>\n",
              "    <td class=\"gt_row gt_center\">30.1</td>\n",
              "    <td class=\"gt_row gt_center\">263.0</td>\n",
              "    <td class=\"gt_row gt_center\">22.0</td>\n",
              "    <td class=\"gt_row gt_center\">0.0</td>\n",
              "    <td class=\"gt_row gt_center\">16</td>\n",
              "    <td class=\"gt_row gt_center\">✓ OK</td>\n",
              "    <td class=\"gt_row gt_center\">0.029</td>\n",
              "    <td class=\"gt_row gt_right\">7.75</td>\n",
              "    <td class=\"gt_row gt_right\">63.358</td>\n",
              "  </tr>\n",
              "</tbody>\n",
              "\n",
              "\n",
              "</table>\n",
              "\n",
              "</div>\n",
              "        "
            ],
            "text/plain": [
              "GT(_tbl_data=shape: (7, 16)\n",
              "┌─────────────┬─────────┬───────┬────────┬───┬──────┬───────┬────────┬────────┐\n",
              "│ Column      ┆ Dtype   ┆ Count ┆ Mean   ┆ … ┆ P10  ┆ Q25   ┆ Q75    ┆ P90    │\n",
              "│ ---         ┆ ---     ┆ ---   ┆ ---    ┆   ┆ ---  ┆ ---   ┆ ---    ┆ ---    │\n",
              "│ str         ┆ str     ┆ i64   ┆ f64    ┆   ┆ f64  ┆ f64   ┆ f64    ┆ f64    │\n",
              "╞═════════════╪═════════╪═══════╪════════╪═══╪══════╪═══════╪════════╪════════╡\n",
              "│ PassengerId ┆ Int64   ┆ 156   ┆ 78.5   ┆ … ┆ 17.0 ┆ 40.0  ┆ 117.0  ┆ 141.0  │\n",
              "│ Survived    ┆ Int64   ┆ 156   ┆ 0.346  ┆ … ┆ 0.0  ┆ 0.0   ┆ 1.0    ┆ 1.0    │\n",
              "│ Pclass      ┆ Int64   ┆ 156   ┆ 2.423  ┆ … ┆ 1.0  ┆ 2.0   ┆ 3.0    ┆ 3.0    │\n",
              "│ Age         ┆ Float64 ┆ 126   ┆ 28.142 ┆ … ┆ 14.0 ┆ 19.0  ┆ 35.0   ┆ 49.0   │\n",
              "│ SibSp       ┆ Int64   ┆ 156   ┆ 0.615  ┆ … ┆ 0.0  ┆ 0.0   ┆ 1.0    ┆ 2.0    │\n",
              "│ Parch       ┆ Int64   ┆ 156   ┆ 0.397  ┆ … ┆ 0.0  ┆ 0.0   ┆ 0.0    ┆ 2.0    │\n",
              "│ Fare        ┆ Float64 ┆ 156   ┆ 28.11  ┆ … ┆ 7.75 ┆ 8.029 ┆ 30.071 ┆ 63.358 │\n",
              "└─────────────┴─────────┴───────┴────────┴───┴──────┴───────┴────────┴────────┘, _body=<great_tables._gt_data.Body object at 0x1199acee0>, _boxhead=Boxhead([ColInfo(var='Column', type=<ColInfoTypeEnum.default: 1>, column_label='Column', column_align='left', column_width=None), ColInfo(var='Dtype', type=<ColInfoTypeEnum.default: 1>, column_label='Dtype', column_align='center', column_width=None), ColInfo(var='Count', type=<ColInfoTypeEnum.default: 1>, column_label='Count', column_align='center', column_width=None), ColInfo(var='Mean', type=<ColInfoTypeEnum.default: 1>, column_label='Mean', column_align='center', column_width=None), ColInfo(var='Min', type=<ColInfoTypeEnum.default: 1>, column_label='Min', column_align='center', column_width=None), ColInfo(var='Q25', type=<ColInfoTypeEnum.default: 1>, column_label='Q25', column_align='center', column_width=None), ColInfo(var='Median', type=<ColInfoTypeEnum.default: 1>, column_label='Median', column_align='center', column_width=None), ColInfo(var='Q75', type=<ColInfoTypeEnum.default: 1>, column_label='Q75', column_align='center', column_width=None), ColInfo(var='Max', type=<ColInfoTypeEnum.default: 1>, column_label='Max', column_align='center', column_width=None), ColInfo(var='IQR', type=<ColInfoTypeEnum.default: 1>, column_label='IQR', column_align='center', column_width=None), ColInfo(var='Pct_Missing', type=<ColInfoTypeEnum.default: 1>, column_label='Pct_Missing', column_align='center', column_width=None), ColInfo(var='N_Outliers', type=<ColInfoTypeEnum.default: 1>, column_label='N_Outliers', column_align='center', column_width=None), ColInfo(var='Quality_Flag', type=<ColInfoTypeEnum.default: 1>, column_label='Quality_Flag', column_align='center', column_width=None), ColInfo(var='Correlation', type=<ColInfoTypeEnum.default: 1>, column_label='Correlation', column_align='center', column_width=None), ColInfo(var='P10', type=<ColInfoTypeEnum.default: 1>, column_label='P10', column_align='right', column_width=None), ColInfo(var='P90', type=<ColInfoTypeEnum.default: 1>, column_label='P90', column_align='right', column_width=None)]), _stub=<great_tables._gt_data.Stub object at 0x10dacbe80>, _spanners=Spanners([SpannerInfo(spanner_id='Basic Statistics', spanner_level=0, spanner_label='Basic Statistics', spanner_units=None, spanner_pattern=None, vars=['Dtype', 'Count', 'Mean', 'Min', 'Q25', 'Median', 'Q75', 'Max'], built=None), SpannerInfo(spanner_id='Key Metrics', spanner_level=0, spanner_label='Key Metrics', spanner_units=None, spanner_pattern=None, vars=['IQR', 'Pct_Missing', 'N_Outliers'], built=None), SpannerInfo(spanner_id='Quality', spanner_level=0, spanner_label='Quality', spanner_units=None, spanner_pattern=None, vars=['Quality_Flag'], built=None), SpannerInfo(spanner_id=\"Correlation with 'Survived'\", spanner_level=0, spanner_label=\"Correlation with 'Survived'\", spanner_units=None, spanner_pattern=None, vars=['Correlation'], built=None)]), _heading=Heading(title='🔬 DataFrame X-ray', subtitle='Dataset: 156 rows × 12 columns (14.7 KB in memory) - X-rayed in 6 ms', preheader=None), _stubhead=None, _source_notes=[], _footnotes=[], _styles=[], _locale=<great_tables._gt_data.Locale object at 0x1199ad5d0>, _formats=[<great_tables._gt_data.FormatInfo object at 0x1199adc60>, <great_tables._gt_data.FormatInfo object at 0x1199ac460>, <great_tables._gt_data.FormatInfo object at 0x1199ad390>, <great_tables._gt_data.FormatInfo object at 0x1199ad600>], _substitutions=[], _options=Options(table_id=OptionsInfo(scss=False, category='table', type='value', value=None), table_caption=OptionsInfo(scss=False, category='table', type='value', value=None), table_width=OptionsInfo(scss=True, category='table', type='px', value='auto'), table_layout=OptionsInfo(scss=True, category='table', type='value', value='fixed'), table_margin_left=OptionsInfo(scss=True, category='table', type='px', value='auto'), table_margin_right=OptionsInfo(scss=True, category='table', type='px', value='auto'), table_background_color=OptionsInfo(scss=True, category='table', type='value', value='#FFFFFF'), table_additional_css=OptionsInfo(scss=False, category='table', type='values', value=[]), table_font_names=OptionsInfo(scss=False, category='table', type='values', value=['-apple-system', 'BlinkMacSystemFont', 'Segoe UI', 'Roboto', 'Oxygen', 'Ubuntu', 'Cantarell', 'Helvetica Neue', 'Fira Sans', 'Droid Sans', 'Arial', 'sans-serif']), table_font_size=OptionsInfo(scss=True, category='table', type='px', value='13px'), table_font_weight=OptionsInfo(scss=True, category='table', type='value', value='normal'), table_font_style=OptionsInfo(scss=True, category='table', type='value', value='normal'), table_font_color=OptionsInfo(scss=True, category='table', type='value', value='#333333'), table_font_color_light=OptionsInfo(scss=True, category='table', type='value', value='#FFFFFF'), table_border_top_include=OptionsInfo(scss=False, category='table', type='boolean', value=True), table_border_top_style=OptionsInfo(scss=True, category='table', type='value', value='solid'), table_border_top_width=OptionsInfo(scss=True, category='table', type='px', value='2px'), table_border_top_color=OptionsInfo(scss=True, category='table', type='value', value='#A8A8A8'), table_border_right_style=OptionsInfo(scss=True, category='table', type='value', value='none'), table_border_right_width=OptionsInfo(scss=True, category='table', type='px', value='2px'), table_border_right_color=OptionsInfo(scss=True, category='table', type='value', value='#D3D3D3'), table_border_bottom_include=OptionsInfo(scss=False, category='table', type='boolean', value=True), table_border_bottom_style=OptionsInfo(scss=True, category='table', type='value', value='solid'), table_border_bottom_width=OptionsInfo(scss=True, category='table', type='px', value='2px'), table_border_bottom_color=OptionsInfo(scss=True, category='table', type='value', value='#A8A8A8'), table_border_left_style=OptionsInfo(scss=True, category='table', type='value', value='none'), table_border_left_width=OptionsInfo(scss=True, category='table', type='px', value='2px'), table_border_left_color=OptionsInfo(scss=True, category='table', type='value', value='#D3D3D3'), heading_background_color=OptionsInfo(scss=True, category='heading', type='value', value='#f8f9fa'), heading_align=OptionsInfo(scss=True, category='heading', type='value', value='center'), heading_title_font_size=OptionsInfo(scss=True, category='heading', type='px', value='125%'), heading_title_font_weight=OptionsInfo(scss=True, category='heading', type='value', value='initial'), heading_subtitle_font_size=OptionsInfo(scss=True, category='heading', type='px', value='85%'), heading_subtitle_font_weight=OptionsInfo(scss=True, category='heading', type='value', value='initial'), heading_padding=OptionsInfo(scss=True, category='heading', type='px', value='4px'), heading_padding_horizontal=OptionsInfo(scss=True, category='heading', type='px', value='5px'), heading_border_bottom_style=OptionsInfo(scss=True, category='heading', type='value', value='solid'), heading_border_bottom_width=OptionsInfo(scss=True, category='heading', type='px', value='2px'), heading_border_bottom_color=OptionsInfo(scss=True, category='heading', type='value', value='#D3D3D3'), heading_border_lr_style=OptionsInfo(scss=True, category='heading', type='value', value='none'), heading_border_lr_width=OptionsInfo(scss=True, category='heading', type='px', value='1px'), heading_border_lr_color=OptionsInfo(scss=True, category='heading', type='value', value='#D3D3D3'), column_labels_background_color=OptionsInfo(scss=True, category='column_labels', type='value', value='#e9ecef'), column_labels_font_size=OptionsInfo(scss=True, category='column_labels', type='px', value='100%'), column_labels_font_weight=OptionsInfo(scss=True, category='column_labels', type='value', value='normal'), column_labels_text_transform=OptionsInfo(scss=True, category='column_labels', type='value', value='inherit'), column_labels_padding=OptionsInfo(scss=True, category='column_labels', type='px', value='5px'), column_labels_padding_horizontal=OptionsInfo(scss=True, category='column_labels', type='px', value='5px'), column_labels_vlines_style=OptionsInfo(scss=True, category='table_body', type='value', value='none'), column_labels_vlines_width=OptionsInfo(scss=True, category='table_body', type='px', value='1px'), column_labels_vlines_color=OptionsInfo(scss=True, category='table_body', type='value', value='#D3D3D3'), column_labels_border_top_style=OptionsInfo(scss=True, category='column_labels', type='value', value='solid'), column_labels_border_top_width=OptionsInfo(scss=True, category='column_labels', type='px', value='2px'), column_labels_border_top_color=OptionsInfo(scss=True, category='column_labels', type='value', value='#D3D3D3'), column_labels_border_bottom_style=OptionsInfo(scss=True, category='column_labels', type='value', value='solid'), column_labels_border_bottom_width=OptionsInfo(scss=True, category='column_labels', type='px', value='2px'), column_labels_border_bottom_color=OptionsInfo(scss=True, category='column_labels', type='value', value='#D3D3D3'), column_labels_border_lr_style=OptionsInfo(scss=True, category='column_labels', type='value', value='none'), column_labels_border_lr_width=OptionsInfo(scss=True, category='column_labels', type='px', value='1px'), column_labels_border_lr_color=OptionsInfo(scss=True, category='column_labels', type='value', value='#D3D3D3'), column_labels_hidden=OptionsInfo(scss=False, category='column_labels', type='boolean', value=False), row_group_background_color=OptionsInfo(scss=True, category='row_group', type='value', value=None), row_group_font_size=OptionsInfo(scss=True, category='row_group', type='px', value='100%'), row_group_font_weight=OptionsInfo(scss=True, category='row_group', type='value', value='initial'), row_group_text_transform=OptionsInfo(scss=True, category='row_group', type='value', value='inherit'), row_group_padding=OptionsInfo(scss=True, category='row_group', type='px', value='8px'), row_group_padding_horizontal=OptionsInfo(scss=True, category='row_group', type='px', value='5px'), row_group_border_top_style=OptionsInfo(scss=True, category='row_group', type='value', value='solid'), row_group_border_top_width=OptionsInfo(scss=True, category='row_group', type='px', value='2px'), row_group_border_top_color=OptionsInfo(scss=True, category='row_group', type='value', value='#D3D3D3'), row_group_border_right_style=OptionsInfo(scss=True, category='row_group', type='value', value='none'), row_group_border_right_width=OptionsInfo(scss=True, category='row_group', type='px', value='1px'), row_group_border_right_color=OptionsInfo(scss=True, category='row_group', type='value', value='#D3D3D3'), row_group_border_bottom_style=OptionsInfo(scss=True, category='row_group', type='value', value='solid'), row_group_border_bottom_width=OptionsInfo(scss=True, category='row_group', type='px', value='2px'), row_group_border_bottom_color=OptionsInfo(scss=True, category='row_group', type='value', value='#D3D3D3'), row_group_border_left_style=OptionsInfo(scss=True, category='row_group', type='value', value='none'), row_group_border_left_width=OptionsInfo(scss=True, category='row_group', type='px', value='1px'), row_group_border_left_color=OptionsInfo(scss=True, category='row_group', type='value', value='#D3D3D3'), row_group_as_column=OptionsInfo(scss=False, category='row_group', type='boolean', value=False), table_body_hlines_style=OptionsInfo(scss=True, category='table_body', type='value', value='solid'), table_body_hlines_width=OptionsInfo(scss=True, category='table_body', type='px', value='1px'), table_body_hlines_color=OptionsInfo(scss=True, category='table_body', type='value', value='#D3D3D3'), table_body_vlines_style=OptionsInfo(scss=True, category='table_body', type='value', value='none'), table_body_vlines_width=OptionsInfo(scss=True, category='table_body', type='px', value='1px'), table_body_vlines_color=OptionsInfo(scss=True, category='table_body', type='value', value='#D3D3D3'), table_body_border_top_style=OptionsInfo(scss=True, category='table_body', type='value', value='solid'), table_body_border_top_width=OptionsInfo(scss=True, category='table_body', type='px', value='2px'), table_body_border_top_color=OptionsInfo(scss=True, category='table_body', type='value', value='#D3D3D3'), table_body_border_bottom_style=OptionsInfo(scss=True, category='table_body', type='value', value='solid'), table_body_border_bottom_width=OptionsInfo(scss=True, category='table_body', type='px', value='2px'), table_body_border_bottom_color=OptionsInfo(scss=True, category='table_body', type='value', value='#D3D3D3'), data_row_padding=OptionsInfo(scss=True, category='data_row', type='px', value='8px'), data_row_padding_horizontal=OptionsInfo(scss=True, category='data_row', type='px', value='5px'), stub_background_color=OptionsInfo(scss=True, category='stub', type='value', value=None), stub_font_size=OptionsInfo(scss=True, category='stub', type='px', value='100%'), stub_font_weight=OptionsInfo(scss=True, category='stub', type='value', value='initial'), stub_text_transform=OptionsInfo(scss=True, category='stub', type='value', value='inherit'), stub_border_style=OptionsInfo(scss=True, category='stub', type='value', value='solid'), stub_border_width=OptionsInfo(scss=True, category='stub', type='px', value='2px'), stub_border_color=OptionsInfo(scss=True, category='stub', type='value', value='#D3D3D3'), stub_row_group_background_color=OptionsInfo(scss=True, category='stub', type='value', value=None), stub_row_group_font_size=OptionsInfo(scss=True, category='stub', type='px', value='100%'), stub_row_group_font_weight=OptionsInfo(scss=True, category='stub', type='value', value='initial'), stub_row_group_text_transform=OptionsInfo(scss=True, category='stub', type='value', value='inherit'), stub_row_group_border_style=OptionsInfo(scss=True, category='stub', type='value', value='solid'), stub_row_group_border_width=OptionsInfo(scss=True, category='stub', type='px', value='2px'), stub_row_group_border_color=OptionsInfo(scss=True, category='stub', type='value', value='#D3D3D3'), source_notes_padding=OptionsInfo(scss=True, category='source_notes', type='px', value='4px'), source_notes_padding_horizontal=OptionsInfo(scss=True, category='source_notes', type='px', value='5px'), source_notes_background_color=OptionsInfo(scss=True, category='source_notes', type='value', value=None), source_notes_font_size=OptionsInfo(scss=True, category='source_notes', type='px', value='90%'), source_notes_border_bottom_style=OptionsInfo(scss=True, category='source_notes', type='value', value='none'), source_notes_border_bottom_width=OptionsInfo(scss=True, category='source_notes', type='px', value='2px'), source_notes_border_bottom_color=OptionsInfo(scss=True, category='source_notes', type='value', value='#D3D3D3'), source_notes_border_lr_style=OptionsInfo(scss=True, category='source_notes', type='value', value='none'), source_notes_border_lr_width=OptionsInfo(scss=True, category='source_notes', type='px', value='2px'), source_notes_border_lr_color=OptionsInfo(scss=True, category='source_notes', type='value', value='#D3D3D3'), source_notes_multiline=OptionsInfo(scss=False, category='source_notes', type='boolean', value=True), source_notes_sep=OptionsInfo(scss=False, category='source_notes', type='value', value=' '), row_striping_background_color=OptionsInfo(scss=True, category='row', type='value', value='rgba(128,128,128,0.05)'), row_striping_include_stub=OptionsInfo(scss=False, category='row', type='boolean', value=False), row_striping_include_table_body=OptionsInfo(scss=False, category='row', type='boolean', value=False), container_width=OptionsInfo(scss=False, category='container', type='px', value='auto'), container_height=OptionsInfo(scss=False, category='container', type='px', value='auto'), container_padding_x=OptionsInfo(scss=False, category='container', type='px', value='0px'), container_padding_y=OptionsInfo(scss=False, category='container', type='px', value='10px'), container_overflow_x=OptionsInfo(scss=False, category='container', type='overflow', value='auto'), container_overflow_y=OptionsInfo(scss=False, category='container', type='overflow', value='auto'), quarto_disable_processing=OptionsInfo(scss=False, category='quarto', type='logical', value=False), quarto_use_bootstrap=OptionsInfo(scss=False, category='quarto', type='logical', value=False)), _google_font_imports=GoogleFontImports(imports=frozenset()), _has_built=False)"
            ]
          },
          "execution_count": 6,
          "metadata": {},
          "output_type": "execute_result"
        }
      ],
      "source": [
        "# X-ray with correlation target and custom formatting\n",
        "print('🔬 X-RAY WITH CORRELATION TARGET & CUSTOM FORMATTING')\n",
        "ps.xray(\n",
        "    df, \n",
        "    corr_target='Survived',           # Show correlation to price\n",
        "    decimals=1,                    # 3 decimal places\n",
        "    compact=True,                  # Compact number formatting\n",
        "    outlier_method='iqr',          # IQR outlier detection\n",
        "    percentiles=[0.1, 0.25, 0.5, 0.75, 0.9]  # Custom percentiles\n",
        ")\n"
      ]
    },
    {
      "cell_type": "code",
      "execution_count": 8,
      "metadata": {},
      "outputs": [
        {
          "data": {
            "text/html": [
              "<div><style>\n",
              ".dataframe > thead > tr,\n",
              ".dataframe > tbody > tr {\n",
              "  text-align: right;\n",
              "  white-space: pre-wrap;\n",
              "}\n",
              "</style>\n",
              "<small>shape: (9, 13)</small><table border=\"1\" class=\"dataframe\"><thead><tr><th>statistic</th><th>PassengerId</th><th>Survived</th><th>Pclass</th><th>Name</th><th>Sex</th><th>Age</th><th>SibSp</th><th>Parch</th><th>Ticket</th><th>Fare</th><th>Cabin</th><th>Embarked</th></tr><tr><td>str</td><td>f64</td><td>f64</td><td>f64</td><td>str</td><td>str</td><td>f64</td><td>f64</td><td>f64</td><td>str</td><td>f64</td><td>str</td><td>str</td></tr></thead><tbody><tr><td>&quot;count&quot;</td><td>156.0</td><td>156.0</td><td>156.0</td><td>&quot;156&quot;</td><td>&quot;156&quot;</td><td>126.0</td><td>156.0</td><td>156.0</td><td>&quot;156&quot;</td><td>156.0</td><td>&quot;31&quot;</td><td>&quot;155&quot;</td></tr><tr><td>&quot;null_count&quot;</td><td>0.0</td><td>0.0</td><td>0.0</td><td>&quot;0&quot;</td><td>&quot;0&quot;</td><td>30.0</td><td>0.0</td><td>0.0</td><td>&quot;0&quot;</td><td>0.0</td><td>&quot;125&quot;</td><td>&quot;1&quot;</td></tr><tr><td>&quot;mean&quot;</td><td>78.5</td><td>0.346154</td><td>2.423077</td><td>null</td><td>null</td><td>28.141508</td><td>0.615385</td><td>0.397436</td><td>null</td><td>28.109587</td><td>null</td><td>null</td></tr><tr><td>&quot;std&quot;</td><td>45.177428</td><td>0.477275</td><td>0.795459</td><td>null</td><td>null</td><td>14.61388</td><td>1.056235</td><td>0.870146</td><td>null</td><td>39.401047</td><td>null</td><td>null</td></tr><tr><td>&quot;min&quot;</td><td>1.0</td><td>0.0</td><td>1.0</td><td>&quot;Ahlin, Mrs. Johan (Johanna Per…</td><td>&quot;female&quot;</td><td>0.83</td><td>0.0</td><td>0.0</td><td>&quot;110465&quot;</td><td>6.75</td><td>&quot;A5&quot;</td><td>&quot;C&quot;</td></tr><tr><td>&quot;25%&quot;</td><td>40.0</td><td>0.0</td><td>2.0</td><td>null</td><td>null</td><td>19.0</td><td>0.0</td><td>0.0</td><td>null</td><td>8.0292</td><td>null</td><td>null</td></tr><tr><td>&quot;50%&quot;</td><td>79.0</td><td>0.0</td><td>3.0</td><td>null</td><td>null</td><td>26.0</td><td>0.0</td><td>0.0</td><td>null</td><td>14.4542</td><td>null</td><td>null</td></tr><tr><td>&quot;75%&quot;</td><td>117.0</td><td>1.0</td><td>3.0</td><td>null</td><td>null</td><td>35.0</td><td>1.0</td><td>0.0</td><td>null</td><td>30.0708</td><td>null</td><td>null</td></tr><tr><td>&quot;max&quot;</td><td>156.0</td><td>1.0</td><td>3.0</td><td>&quot;van Billiard, Mr. Austin Blyle…</td><td>&quot;male&quot;</td><td>71.0</td><td>5.0</td><td>5.0</td><td>&quot;W.E.P. 5734&quot;</td><td>263.0</td><td>&quot;G6&quot;</td><td>&quot;S&quot;</td></tr></tbody></table></div>"
            ],
            "text/plain": [
              "shape: (9, 13)\n",
              "┌────────────┬─────────────┬──────────┬──────────┬───┬─────────────┬───────────┬───────┬──────────┐\n",
              "│ statistic  ┆ PassengerId ┆ Survived ┆ Pclass   ┆ … ┆ Ticket      ┆ Fare      ┆ Cabin ┆ Embarked │\n",
              "│ ---        ┆ ---         ┆ ---      ┆ ---      ┆   ┆ ---         ┆ ---       ┆ ---   ┆ ---      │\n",
              "│ str        ┆ f64         ┆ f64      ┆ f64      ┆   ┆ str         ┆ f64       ┆ str   ┆ str      │\n",
              "╞════════════╪═════════════╪══════════╪══════════╪═══╪═════════════╪═══════════╪═══════╪══════════╡\n",
              "│ count      ┆ 156.0       ┆ 156.0    ┆ 156.0    ┆ … ┆ 156         ┆ 156.0     ┆ 31    ┆ 155      │\n",
              "│ null_count ┆ 0.0         ┆ 0.0      ┆ 0.0      ┆ … ┆ 0           ┆ 0.0       ┆ 125   ┆ 1        │\n",
              "│ mean       ┆ 78.5        ┆ 0.346154 ┆ 2.423077 ┆ … ┆ null        ┆ 28.109587 ┆ null  ┆ null     │\n",
              "│ std        ┆ 45.177428   ┆ 0.477275 ┆ 0.795459 ┆ … ┆ null        ┆ 39.401047 ┆ null  ┆ null     │\n",
              "│ min        ┆ 1.0         ┆ 0.0      ┆ 1.0      ┆ … ┆ 110465      ┆ 6.75      ┆ A5    ┆ C        │\n",
              "│ 25%        ┆ 40.0        ┆ 0.0      ┆ 2.0      ┆ … ┆ null        ┆ 8.0292    ┆ null  ┆ null     │\n",
              "│ 50%        ┆ 79.0        ┆ 0.0      ┆ 3.0      ┆ … ┆ null        ┆ 14.4542   ┆ null  ┆ null     │\n",
              "│ 75%        ┆ 117.0       ┆ 1.0      ┆ 3.0      ┆ … ┆ null        ┆ 30.0708   ┆ null  ┆ null     │\n",
              "│ max        ┆ 156.0       ┆ 1.0      ┆ 3.0      ┆ … ┆ W.E.P. 5734 ┆ 263.0     ┆ G6    ┆ S        │\n",
              "└────────────┴─────────────┴──────────┴──────────┴───┴─────────────┴───────────┴───────┴──────────┘"
            ]
          },
          "execution_count": 8,
          "metadata": {},
          "output_type": "execute_result"
        }
      ],
      "source": [
        "df.describe()"
      ]
    },
    {
      "cell_type": "code",
      "execution_count": 18,
      "metadata": {},
      "outputs": [
        {
          "name": "stdout",
          "output_type": "stream",
          "text": [
            "📊 CORRELATION HEATMAP - PLOTLY (Interactive)\n"
          ]
        },
        {
          "data": {
            "application/vnd.plotly.v1+json": {
              "config": {
                "plotlyServerURL": "https://plot.ly"
              },
              "data": [
                {
                  "colorbar": {
                    "title": {
                      "text": "Pearson<br>Correlation"
                    }
                  },
                  "colorscale": [
                    [
                      0,
                      "rgb(103,0,31)"
                    ],
                    [
                      0.1,
                      "rgb(178,24,43)"
                    ],
                    [
                      0.2,
                      "rgb(214,96,77)"
                    ],
                    [
                      0.3,
                      "rgb(244,165,130)"
                    ],
                    [
                      0.4,
                      "rgb(253,219,199)"
                    ],
                    [
                      0.5,
                      "rgb(247,247,247)"
                    ],
                    [
                      0.6,
                      "rgb(209,229,240)"
                    ],
                    [
                      0.7,
                      "rgb(146,197,222)"
                    ],
                    [
                      0.8,
                      "rgb(67,147,195)"
                    ],
                    [
                      0.9,
                      "rgb(33,102,172)"
                    ],
                    [
                      1,
                      "rgb(5,48,97)"
                    ]
                  ],
                  "hovertemplate": "<b>%{y}</b> vs <b>%{x}</b><br>Pearson Correlation: %{z:.3f}<extra></extra>",
                  "text": [
                    [
                      "-0.193",
                      "-0.116",
                      "-0.120",
                      "-0.067",
                      "0.039",
                      "0.029"
                    ]
                  ],
                  "textfont": {
                    "size": 10
                  },
                  "texttemplate": "%{text}",
                  "type": "heatmap",
                  "x": [
                    "PassengerId",
                    "Pclass",
                    "Age",
                    "SibSp",
                    "Parch",
                    "Fare"
                  ],
                  "y": [
                    "Survived"
                  ],
                  "z": [
                    [
                      -0.19299128445362743,
                      -0.11633986928104578,
                      -0.12041634776813812,
                      -0.06694288369258687,
                      0.0394346298086573,
                      0.029342729528446826
                    ]
                  ],
                  "zmax": 1,
                  "zmid": 0,
                  "zmin": -1
                }
              ],
              "layout": {
                "height": 400,
                "template": {
                  "data": {
                    "bar": [
                      {
                        "error_x": {
                          "color": "#2a3f5f"
                        },
                        "error_y": {
                          "color": "#2a3f5f"
                        },
                        "marker": {
                          "line": {
                            "color": "#E5ECF6",
                            "width": 0.5
                          },
                          "pattern": {
                            "fillmode": "overlay",
                            "size": 10,
                            "solidity": 0.2
                          }
                        },
                        "type": "bar"
                      }
                    ],
                    "barpolar": [
                      {
                        "marker": {
                          "line": {
                            "color": "#E5ECF6",
                            "width": 0.5
                          },
                          "pattern": {
                            "fillmode": "overlay",
                            "size": 10,
                            "solidity": 0.2
                          }
                        },
                        "type": "barpolar"
                      }
                    ],
                    "carpet": [
                      {
                        "aaxis": {
                          "endlinecolor": "#2a3f5f",
                          "gridcolor": "white",
                          "linecolor": "white",
                          "minorgridcolor": "white",
                          "startlinecolor": "#2a3f5f"
                        },
                        "baxis": {
                          "endlinecolor": "#2a3f5f",
                          "gridcolor": "white",
                          "linecolor": "white",
                          "minorgridcolor": "white",
                          "startlinecolor": "#2a3f5f"
                        },
                        "type": "carpet"
                      }
                    ],
                    "choropleth": [
                      {
                        "colorbar": {
                          "outlinewidth": 0,
                          "ticks": ""
                        },
                        "type": "choropleth"
                      }
                    ],
                    "contour": [
                      {
                        "colorbar": {
                          "outlinewidth": 0,
                          "ticks": ""
                        },
                        "colorscale": [
                          [
                            0,
                            "#0d0887"
                          ],
                          [
                            0.1111111111111111,
                            "#46039f"
                          ],
                          [
                            0.2222222222222222,
                            "#7201a8"
                          ],
                          [
                            0.3333333333333333,
                            "#9c179e"
                          ],
                          [
                            0.4444444444444444,
                            "#bd3786"
                          ],
                          [
                            0.5555555555555556,
                            "#d8576b"
                          ],
                          [
                            0.6666666666666666,
                            "#ed7953"
                          ],
                          [
                            0.7777777777777778,
                            "#fb9f3a"
                          ],
                          [
                            0.8888888888888888,
                            "#fdca26"
                          ],
                          [
                            1,
                            "#f0f921"
                          ]
                        ],
                        "type": "contour"
                      }
                    ],
                    "contourcarpet": [
                      {
                        "colorbar": {
                          "outlinewidth": 0,
                          "ticks": ""
                        },
                        "type": "contourcarpet"
                      }
                    ],
                    "heatmap": [
                      {
                        "colorbar": {
                          "outlinewidth": 0,
                          "ticks": ""
                        },
                        "colorscale": [
                          [
                            0,
                            "#0d0887"
                          ],
                          [
                            0.1111111111111111,
                            "#46039f"
                          ],
                          [
                            0.2222222222222222,
                            "#7201a8"
                          ],
                          [
                            0.3333333333333333,
                            "#9c179e"
                          ],
                          [
                            0.4444444444444444,
                            "#bd3786"
                          ],
                          [
                            0.5555555555555556,
                            "#d8576b"
                          ],
                          [
                            0.6666666666666666,
                            "#ed7953"
                          ],
                          [
                            0.7777777777777778,
                            "#fb9f3a"
                          ],
                          [
                            0.8888888888888888,
                            "#fdca26"
                          ],
                          [
                            1,
                            "#f0f921"
                          ]
                        ],
                        "type": "heatmap"
                      }
                    ],
                    "histogram": [
                      {
                        "marker": {
                          "pattern": {
                            "fillmode": "overlay",
                            "size": 10,
                            "solidity": 0.2
                          }
                        },
                        "type": "histogram"
                      }
                    ],
                    "histogram2d": [
                      {
                        "colorbar": {
                          "outlinewidth": 0,
                          "ticks": ""
                        },
                        "colorscale": [
                          [
                            0,
                            "#0d0887"
                          ],
                          [
                            0.1111111111111111,
                            "#46039f"
                          ],
                          [
                            0.2222222222222222,
                            "#7201a8"
                          ],
                          [
                            0.3333333333333333,
                            "#9c179e"
                          ],
                          [
                            0.4444444444444444,
                            "#bd3786"
                          ],
                          [
                            0.5555555555555556,
                            "#d8576b"
                          ],
                          [
                            0.6666666666666666,
                            "#ed7953"
                          ],
                          [
                            0.7777777777777778,
                            "#fb9f3a"
                          ],
                          [
                            0.8888888888888888,
                            "#fdca26"
                          ],
                          [
                            1,
                            "#f0f921"
                          ]
                        ],
                        "type": "histogram2d"
                      }
                    ],
                    "histogram2dcontour": [
                      {
                        "colorbar": {
                          "outlinewidth": 0,
                          "ticks": ""
                        },
                        "colorscale": [
                          [
                            0,
                            "#0d0887"
                          ],
                          [
                            0.1111111111111111,
                            "#46039f"
                          ],
                          [
                            0.2222222222222222,
                            "#7201a8"
                          ],
                          [
                            0.3333333333333333,
                            "#9c179e"
                          ],
                          [
                            0.4444444444444444,
                            "#bd3786"
                          ],
                          [
                            0.5555555555555556,
                            "#d8576b"
                          ],
                          [
                            0.6666666666666666,
                            "#ed7953"
                          ],
                          [
                            0.7777777777777778,
                            "#fb9f3a"
                          ],
                          [
                            0.8888888888888888,
                            "#fdca26"
                          ],
                          [
                            1,
                            "#f0f921"
                          ]
                        ],
                        "type": "histogram2dcontour"
                      }
                    ],
                    "mesh3d": [
                      {
                        "colorbar": {
                          "outlinewidth": 0,
                          "ticks": ""
                        },
                        "type": "mesh3d"
                      }
                    ],
                    "parcoords": [
                      {
                        "line": {
                          "colorbar": {
                            "outlinewidth": 0,
                            "ticks": ""
                          }
                        },
                        "type": "parcoords"
                      }
                    ],
                    "pie": [
                      {
                        "automargin": true,
                        "type": "pie"
                      }
                    ],
                    "scatter": [
                      {
                        "fillpattern": {
                          "fillmode": "overlay",
                          "size": 10,
                          "solidity": 0.2
                        },
                        "type": "scatter"
                      }
                    ],
                    "scatter3d": [
                      {
                        "line": {
                          "colorbar": {
                            "outlinewidth": 0,
                            "ticks": ""
                          }
                        },
                        "marker": {
                          "colorbar": {
                            "outlinewidth": 0,
                            "ticks": ""
                          }
                        },
                        "type": "scatter3d"
                      }
                    ],
                    "scattercarpet": [
                      {
                        "marker": {
                          "colorbar": {
                            "outlinewidth": 0,
                            "ticks": ""
                          }
                        },
                        "type": "scattercarpet"
                      }
                    ],
                    "scattergeo": [
                      {
                        "marker": {
                          "colorbar": {
                            "outlinewidth": 0,
                            "ticks": ""
                          }
                        },
                        "type": "scattergeo"
                      }
                    ],
                    "scattergl": [
                      {
                        "marker": {
                          "colorbar": {
                            "outlinewidth": 0,
                            "ticks": ""
                          }
                        },
                        "type": "scattergl"
                      }
                    ],
                    "scattermap": [
                      {
                        "marker": {
                          "colorbar": {
                            "outlinewidth": 0,
                            "ticks": ""
                          }
                        },
                        "type": "scattermap"
                      }
                    ],
                    "scattermapbox": [
                      {
                        "marker": {
                          "colorbar": {
                            "outlinewidth": 0,
                            "ticks": ""
                          }
                        },
                        "type": "scattermapbox"
                      }
                    ],
                    "scatterpolar": [
                      {
                        "marker": {
                          "colorbar": {
                            "outlinewidth": 0,
                            "ticks": ""
                          }
                        },
                        "type": "scatterpolar"
                      }
                    ],
                    "scatterpolargl": [
                      {
                        "marker": {
                          "colorbar": {
                            "outlinewidth": 0,
                            "ticks": ""
                          }
                        },
                        "type": "scatterpolargl"
                      }
                    ],
                    "scatterternary": [
                      {
                        "marker": {
                          "colorbar": {
                            "outlinewidth": 0,
                            "ticks": ""
                          }
                        },
                        "type": "scatterternary"
                      }
                    ],
                    "surface": [
                      {
                        "colorbar": {
                          "outlinewidth": 0,
                          "ticks": ""
                        },
                        "colorscale": [
                          [
                            0,
                            "#0d0887"
                          ],
                          [
                            0.1111111111111111,
                            "#46039f"
                          ],
                          [
                            0.2222222222222222,
                            "#7201a8"
                          ],
                          [
                            0.3333333333333333,
                            "#9c179e"
                          ],
                          [
                            0.4444444444444444,
                            "#bd3786"
                          ],
                          [
                            0.5555555555555556,
                            "#d8576b"
                          ],
                          [
                            0.6666666666666666,
                            "#ed7953"
                          ],
                          [
                            0.7777777777777778,
                            "#fb9f3a"
                          ],
                          [
                            0.8888888888888888,
                            "#fdca26"
                          ],
                          [
                            1,
                            "#f0f921"
                          ]
                        ],
                        "type": "surface"
                      }
                    ],
                    "table": [
                      {
                        "cells": {
                          "fill": {
                            "color": "#EBF0F8"
                          },
                          "line": {
                            "color": "white"
                          }
                        },
                        "header": {
                          "fill": {
                            "color": "#C8D4E3"
                          },
                          "line": {
                            "color": "white"
                          }
                        },
                        "type": "table"
                      }
                    ]
                  },
                  "layout": {
                    "annotationdefaults": {
                      "arrowcolor": "#2a3f5f",
                      "arrowhead": 0,
                      "arrowwidth": 1
                    },
                    "autotypenumbers": "strict",
                    "coloraxis": {
                      "colorbar": {
                        "outlinewidth": 0,
                        "ticks": ""
                      }
                    },
                    "colorscale": {
                      "diverging": [
                        [
                          0,
                          "#8e0152"
                        ],
                        [
                          0.1,
                          "#c51b7d"
                        ],
                        [
                          0.2,
                          "#de77ae"
                        ],
                        [
                          0.3,
                          "#f1b6da"
                        ],
                        [
                          0.4,
                          "#fde0ef"
                        ],
                        [
                          0.5,
                          "#f7f7f7"
                        ],
                        [
                          0.6,
                          "#e6f5d0"
                        ],
                        [
                          0.7,
                          "#b8e186"
                        ],
                        [
                          0.8,
                          "#7fbc41"
                        ],
                        [
                          0.9,
                          "#4d9221"
                        ],
                        [
                          1,
                          "#276419"
                        ]
                      ],
                      "sequential": [
                        [
                          0,
                          "#0d0887"
                        ],
                        [
                          0.1111111111111111,
                          "#46039f"
                        ],
                        [
                          0.2222222222222222,
                          "#7201a8"
                        ],
                        [
                          0.3333333333333333,
                          "#9c179e"
                        ],
                        [
                          0.4444444444444444,
                          "#bd3786"
                        ],
                        [
                          0.5555555555555556,
                          "#d8576b"
                        ],
                        [
                          0.6666666666666666,
                          "#ed7953"
                        ],
                        [
                          0.7777777777777778,
                          "#fb9f3a"
                        ],
                        [
                          0.8888888888888888,
                          "#fdca26"
                        ],
                        [
                          1,
                          "#f0f921"
                        ]
                      ],
                      "sequentialminus": [
                        [
                          0,
                          "#0d0887"
                        ],
                        [
                          0.1111111111111111,
                          "#46039f"
                        ],
                        [
                          0.2222222222222222,
                          "#7201a8"
                        ],
                        [
                          0.3333333333333333,
                          "#9c179e"
                        ],
                        [
                          0.4444444444444444,
                          "#bd3786"
                        ],
                        [
                          0.5555555555555556,
                          "#d8576b"
                        ],
                        [
                          0.6666666666666666,
                          "#ed7953"
                        ],
                        [
                          0.7777777777777778,
                          "#fb9f3a"
                        ],
                        [
                          0.8888888888888888,
                          "#fdca26"
                        ],
                        [
                          1,
                          "#f0f921"
                        ]
                      ]
                    },
                    "colorway": [
                      "#636efa",
                      "#EF553B",
                      "#00cc96",
                      "#ab63fa",
                      "#FFA15A",
                      "#19d3f3",
                      "#FF6692",
                      "#B6E880",
                      "#FF97FF",
                      "#FECB52"
                    ],
                    "font": {
                      "color": "#2a3f5f"
                    },
                    "geo": {
                      "bgcolor": "white",
                      "lakecolor": "white",
                      "landcolor": "#E5ECF6",
                      "showlakes": true,
                      "showland": true,
                      "subunitcolor": "white"
                    },
                    "hoverlabel": {
                      "align": "left"
                    },
                    "hovermode": "closest",
                    "mapbox": {
                      "style": "light"
                    },
                    "paper_bgcolor": "white",
                    "plot_bgcolor": "#E5ECF6",
                    "polar": {
                      "angularaxis": {
                        "gridcolor": "white",
                        "linecolor": "white",
                        "ticks": ""
                      },
                      "bgcolor": "#E5ECF6",
                      "radialaxis": {
                        "gridcolor": "white",
                        "linecolor": "white",
                        "ticks": ""
                      }
                    },
                    "scene": {
                      "xaxis": {
                        "backgroundcolor": "#E5ECF6",
                        "gridcolor": "white",
                        "gridwidth": 2,
                        "linecolor": "white",
                        "showbackground": true,
                        "ticks": "",
                        "zerolinecolor": "white"
                      },
                      "yaxis": {
                        "backgroundcolor": "#E5ECF6",
                        "gridcolor": "white",
                        "gridwidth": 2,
                        "linecolor": "white",
                        "showbackground": true,
                        "ticks": "",
                        "zerolinecolor": "white"
                      },
                      "zaxis": {
                        "backgroundcolor": "#E5ECF6",
                        "gridcolor": "white",
                        "gridwidth": 2,
                        "linecolor": "white",
                        "showbackground": true,
                        "ticks": "",
                        "zerolinecolor": "white"
                      }
                    },
                    "shapedefaults": {
                      "line": {
                        "color": "#2a3f5f"
                      }
                    },
                    "ternary": {
                      "aaxis": {
                        "gridcolor": "white",
                        "linecolor": "white",
                        "ticks": ""
                      },
                      "baxis": {
                        "gridcolor": "white",
                        "linecolor": "white",
                        "ticks": ""
                      },
                      "bgcolor": "#E5ECF6",
                      "caxis": {
                        "gridcolor": "white",
                        "linecolor": "white",
                        "ticks": ""
                      }
                    },
                    "title": {
                      "x": 0.05
                    },
                    "xaxis": {
                      "automargin": true,
                      "gridcolor": "white",
                      "linecolor": "white",
                      "ticks": "",
                      "title": {
                        "standoff": 15
                      },
                      "zerolinecolor": "white",
                      "zerolinewidth": 2
                    },
                    "yaxis": {
                      "automargin": true,
                      "gridcolor": "white",
                      "linecolor": "white",
                      "ticks": "",
                      "title": {
                        "standoff": 15
                      },
                      "zerolinecolor": "white",
                      "zerolinewidth": 2
                    }
                  }
                },
                "title": {
                  "text": "Pearson Correlation with 'Survived'"
                },
                "width": 600,
                "xaxis": {
                  "side": "bottom"
                },
                "yaxis": {
                  "autorange": "reversed"
                }
              }
            }
          },
          "metadata": {},
          "output_type": "display_data"
        }
      ],
      "source": [
        "# Correlation heatmap with different backends\n",
        "numeric_df = df.select(pl.col(pl.Float64, pl.Int64))\n",
        "\n",
        "print('📊 CORRELATION HEATMAP - PLOTLY (Interactive)')\n",
        "ps.corr_heatmap(numeric_df, backend='plotly', method='pearson', target='Survived', width=600, height=400)\n"
      ]
    },
    {
      "cell_type": "code",
      "execution_count": 24,
      "metadata": {},
      "outputs": [
        {
          "name": "stdout",
          "output_type": "stream",
          "text": [
            "📈 DISTRIBUTION PLOT - PLOTLY\n"
          ]
        },
        {
          "data": {
            "application/vnd.plotly.v1+json": {
              "config": {
                "plotlyServerURL": "https://plot.ly"
              },
              "data": [
                {
                  "nbinsx": 30,
                  "type": "histogram",
                  "x": {
                    "bdata": "AAAAAAAAHUA8vVKWIdJRQDMzMzMzsx9AzczMzMyMSkCamZmZmRkgQHuDL0ym6iBAZmZmZmbuSUAzMzMzMxM1QBUdyeU/RCZAio7k8h8SPkAzMzMzM7MwQM3MzMzMjDpAmpmZmZkZIEBmZmZmZkY/QAn5oGezah9AAAAAAAAAMEAAAAAAACA9QAAAAAAAACpAAAAAAAAAMkBmZmZmZuYcQAAAAAAAADpAAAAAAAAAKkAeFmpN8w4gQAAAAAAAwEFAMzMzMzMTNUAzMzMzM2M/QGZmZmZm5hxAAAAAAABwcECjkjoBTYQfQPcGX5hMlR9A8fRKWYa4O0A4+MJkqlBiQAAAAAAAAB9AAAAAAAAAJUAJih9j7opUQAAAAAAAAEpACfmgZ7PqHECamZmZmRkgQAAAAAAAADJA6+I2GsB7JkAzMzMzM/MiQAAAAAAAADVA9wZfmEyVH0Du68A5I8pEQKOSOgFNhB9AmpmZmZkZIEAAAAAAAAAvQAAAAAAAAB9AdnEbDeCtNUDNzMzMzMwxQAAAAAAA2ENAMzMzMzMzH0CRD3o2qy5TQAAAAAAAADpAIR/0bFb9TkAAAAAAAMBBQAAAAAAAACVACfmgZ7PqHEAAAAAAAMA7QDMzMzMzc0dACfmgZ7PqHEAAAAAAAABUQGZmZmZm3lRAZmZmZmbmO0Dx9EpZhrg7QK62Yn/ZfS5AAAAAAAAAJUDi6ZWyDFEgQDMzMzMzsx9AMzMzMzNTIUAAAAAAAAAlQDMzMzMzc0dAAAAAAABgUkC4rwPnjOgsQKyt2F92P0xAmpmZmZmZHkD3Bl+YTJUfQJqZmZmZGSBAAAAAAAAAPUAzMzMzM/MoQAAAAAAAACJAAAAAAAAAI0BmZmZmZiYfQM3MzMzMjEdAAAAAAAAAJUAzMzMzM7MvQAAAAAAAMEFAmpmZmZkZIEAAAAAAAHBwQJqZmZmZGSBAmpmZmZkZIEAJ+aBns2ofQGZmZmZmlk5AMzMzMzOTNEAAAAAAAAAdQJqZmZmZGSBAiIVa07xTQUASFD/G3K1PQAAAAAAAADdAAAAAAAAAOkD3Bl+YTJUfQPcGX5hMlR9AZmZmZmZSU0AeFmpN804hQDMzMzMzsx9A9wZfmEyVH0CamZmZmZkeQJqZmZmZGR9A9wZfmEyVH0BmZmZmZiY4QAAAAAAAAEpAuK8D54zoLECamZmZmRkgQGZmZmZmpiNAe4MvTKbqLEAzMzMzM7MfQAAAAAAAAB9AAAAAAAAANUA4+MJkqvBuQGZmZmZmRj9AAAAAAABgUkCamZmZmRkgQIqO5PIfEj5AAAAAAAAAKkBmZmZmZlJTQOviNhrAeyZAAAAAAAAAH0BwXwfOGZEcQCQofoy5WzZAZmZmZmbmG0D3Bl+YTJUfQDMzMzMzMxxAAAAAAAAALUAAAAAAAAA6QAAAAAAAACpASFD8GHMXLkDx9EpZhkg6QM3MzMzMjEpAHhZqTfNuIkDNzMzMzMxTQK62Yn/ZfS5AAAAAAAAAH0AzMzMzM7MvQAAAAAAAABtAAAAAAAAAJ0AAAAAAAGBCQJCg+DHmLh9AAAAAAAAwQUAAAAAAAAA6QAAAAAAAACpAzczMzMwMKUBmZmZmZqZQQJqZmZmZGSBAAAAAAAAALUAAAAAAAEAdQFRSJ6CJsE5A",
                    "dtype": "f8"
                  }
                }
              ],
              "layout": {
                "template": {
                  "data": {
                    "bar": [
                      {
                        "error_x": {
                          "color": "#2a3f5f"
                        },
                        "error_y": {
                          "color": "#2a3f5f"
                        },
                        "marker": {
                          "line": {
                            "color": "#E5ECF6",
                            "width": 0.5
                          },
                          "pattern": {
                            "fillmode": "overlay",
                            "size": 10,
                            "solidity": 0.2
                          }
                        },
                        "type": "bar"
                      }
                    ],
                    "barpolar": [
                      {
                        "marker": {
                          "line": {
                            "color": "#E5ECF6",
                            "width": 0.5
                          },
                          "pattern": {
                            "fillmode": "overlay",
                            "size": 10,
                            "solidity": 0.2
                          }
                        },
                        "type": "barpolar"
                      }
                    ],
                    "carpet": [
                      {
                        "aaxis": {
                          "endlinecolor": "#2a3f5f",
                          "gridcolor": "white",
                          "linecolor": "white",
                          "minorgridcolor": "white",
                          "startlinecolor": "#2a3f5f"
                        },
                        "baxis": {
                          "endlinecolor": "#2a3f5f",
                          "gridcolor": "white",
                          "linecolor": "white",
                          "minorgridcolor": "white",
                          "startlinecolor": "#2a3f5f"
                        },
                        "type": "carpet"
                      }
                    ],
                    "choropleth": [
                      {
                        "colorbar": {
                          "outlinewidth": 0,
                          "ticks": ""
                        },
                        "type": "choropleth"
                      }
                    ],
                    "contour": [
                      {
                        "colorbar": {
                          "outlinewidth": 0,
                          "ticks": ""
                        },
                        "colorscale": [
                          [
                            0,
                            "#0d0887"
                          ],
                          [
                            0.1111111111111111,
                            "#46039f"
                          ],
                          [
                            0.2222222222222222,
                            "#7201a8"
                          ],
                          [
                            0.3333333333333333,
                            "#9c179e"
                          ],
                          [
                            0.4444444444444444,
                            "#bd3786"
                          ],
                          [
                            0.5555555555555556,
                            "#d8576b"
                          ],
                          [
                            0.6666666666666666,
                            "#ed7953"
                          ],
                          [
                            0.7777777777777778,
                            "#fb9f3a"
                          ],
                          [
                            0.8888888888888888,
                            "#fdca26"
                          ],
                          [
                            1,
                            "#f0f921"
                          ]
                        ],
                        "type": "contour"
                      }
                    ],
                    "contourcarpet": [
                      {
                        "colorbar": {
                          "outlinewidth": 0,
                          "ticks": ""
                        },
                        "type": "contourcarpet"
                      }
                    ],
                    "heatmap": [
                      {
                        "colorbar": {
                          "outlinewidth": 0,
                          "ticks": ""
                        },
                        "colorscale": [
                          [
                            0,
                            "#0d0887"
                          ],
                          [
                            0.1111111111111111,
                            "#46039f"
                          ],
                          [
                            0.2222222222222222,
                            "#7201a8"
                          ],
                          [
                            0.3333333333333333,
                            "#9c179e"
                          ],
                          [
                            0.4444444444444444,
                            "#bd3786"
                          ],
                          [
                            0.5555555555555556,
                            "#d8576b"
                          ],
                          [
                            0.6666666666666666,
                            "#ed7953"
                          ],
                          [
                            0.7777777777777778,
                            "#fb9f3a"
                          ],
                          [
                            0.8888888888888888,
                            "#fdca26"
                          ],
                          [
                            1,
                            "#f0f921"
                          ]
                        ],
                        "type": "heatmap"
                      }
                    ],
                    "histogram": [
                      {
                        "marker": {
                          "pattern": {
                            "fillmode": "overlay",
                            "size": 10,
                            "solidity": 0.2
                          }
                        },
                        "type": "histogram"
                      }
                    ],
                    "histogram2d": [
                      {
                        "colorbar": {
                          "outlinewidth": 0,
                          "ticks": ""
                        },
                        "colorscale": [
                          [
                            0,
                            "#0d0887"
                          ],
                          [
                            0.1111111111111111,
                            "#46039f"
                          ],
                          [
                            0.2222222222222222,
                            "#7201a8"
                          ],
                          [
                            0.3333333333333333,
                            "#9c179e"
                          ],
                          [
                            0.4444444444444444,
                            "#bd3786"
                          ],
                          [
                            0.5555555555555556,
                            "#d8576b"
                          ],
                          [
                            0.6666666666666666,
                            "#ed7953"
                          ],
                          [
                            0.7777777777777778,
                            "#fb9f3a"
                          ],
                          [
                            0.8888888888888888,
                            "#fdca26"
                          ],
                          [
                            1,
                            "#f0f921"
                          ]
                        ],
                        "type": "histogram2d"
                      }
                    ],
                    "histogram2dcontour": [
                      {
                        "colorbar": {
                          "outlinewidth": 0,
                          "ticks": ""
                        },
                        "colorscale": [
                          [
                            0,
                            "#0d0887"
                          ],
                          [
                            0.1111111111111111,
                            "#46039f"
                          ],
                          [
                            0.2222222222222222,
                            "#7201a8"
                          ],
                          [
                            0.3333333333333333,
                            "#9c179e"
                          ],
                          [
                            0.4444444444444444,
                            "#bd3786"
                          ],
                          [
                            0.5555555555555556,
                            "#d8576b"
                          ],
                          [
                            0.6666666666666666,
                            "#ed7953"
                          ],
                          [
                            0.7777777777777778,
                            "#fb9f3a"
                          ],
                          [
                            0.8888888888888888,
                            "#fdca26"
                          ],
                          [
                            1,
                            "#f0f921"
                          ]
                        ],
                        "type": "histogram2dcontour"
                      }
                    ],
                    "mesh3d": [
                      {
                        "colorbar": {
                          "outlinewidth": 0,
                          "ticks": ""
                        },
                        "type": "mesh3d"
                      }
                    ],
                    "parcoords": [
                      {
                        "line": {
                          "colorbar": {
                            "outlinewidth": 0,
                            "ticks": ""
                          }
                        },
                        "type": "parcoords"
                      }
                    ],
                    "pie": [
                      {
                        "automargin": true,
                        "type": "pie"
                      }
                    ],
                    "scatter": [
                      {
                        "fillpattern": {
                          "fillmode": "overlay",
                          "size": 10,
                          "solidity": 0.2
                        },
                        "type": "scatter"
                      }
                    ],
                    "scatter3d": [
                      {
                        "line": {
                          "colorbar": {
                            "outlinewidth": 0,
                            "ticks": ""
                          }
                        },
                        "marker": {
                          "colorbar": {
                            "outlinewidth": 0,
                            "ticks": ""
                          }
                        },
                        "type": "scatter3d"
                      }
                    ],
                    "scattercarpet": [
                      {
                        "marker": {
                          "colorbar": {
                            "outlinewidth": 0,
                            "ticks": ""
                          }
                        },
                        "type": "scattercarpet"
                      }
                    ],
                    "scattergeo": [
                      {
                        "marker": {
                          "colorbar": {
                            "outlinewidth": 0,
                            "ticks": ""
                          }
                        },
                        "type": "scattergeo"
                      }
                    ],
                    "scattergl": [
                      {
                        "marker": {
                          "colorbar": {
                            "outlinewidth": 0,
                            "ticks": ""
                          }
                        },
                        "type": "scattergl"
                      }
                    ],
                    "scattermap": [
                      {
                        "marker": {
                          "colorbar": {
                            "outlinewidth": 0,
                            "ticks": ""
                          }
                        },
                        "type": "scattermap"
                      }
                    ],
                    "scattermapbox": [
                      {
                        "marker": {
                          "colorbar": {
                            "outlinewidth": 0,
                            "ticks": ""
                          }
                        },
                        "type": "scattermapbox"
                      }
                    ],
                    "scatterpolar": [
                      {
                        "marker": {
                          "colorbar": {
                            "outlinewidth": 0,
                            "ticks": ""
                          }
                        },
                        "type": "scatterpolar"
                      }
                    ],
                    "scatterpolargl": [
                      {
                        "marker": {
                          "colorbar": {
                            "outlinewidth": 0,
                            "ticks": ""
                          }
                        },
                        "type": "scatterpolargl"
                      }
                    ],
                    "scatterternary": [
                      {
                        "marker": {
                          "colorbar": {
                            "outlinewidth": 0,
                            "ticks": ""
                          }
                        },
                        "type": "scatterternary"
                      }
                    ],
                    "surface": [
                      {
                        "colorbar": {
                          "outlinewidth": 0,
                          "ticks": ""
                        },
                        "colorscale": [
                          [
                            0,
                            "#0d0887"
                          ],
                          [
                            0.1111111111111111,
                            "#46039f"
                          ],
                          [
                            0.2222222222222222,
                            "#7201a8"
                          ],
                          [
                            0.3333333333333333,
                            "#9c179e"
                          ],
                          [
                            0.4444444444444444,
                            "#bd3786"
                          ],
                          [
                            0.5555555555555556,
                            "#d8576b"
                          ],
                          [
                            0.6666666666666666,
                            "#ed7953"
                          ],
                          [
                            0.7777777777777778,
                            "#fb9f3a"
                          ],
                          [
                            0.8888888888888888,
                            "#fdca26"
                          ],
                          [
                            1,
                            "#f0f921"
                          ]
                        ],
                        "type": "surface"
                      }
                    ],
                    "table": [
                      {
                        "cells": {
                          "fill": {
                            "color": "#EBF0F8"
                          },
                          "line": {
                            "color": "white"
                          }
                        },
                        "header": {
                          "fill": {
                            "color": "#C8D4E3"
                          },
                          "line": {
                            "color": "white"
                          }
                        },
                        "type": "table"
                      }
                    ]
                  },
                  "layout": {
                    "annotationdefaults": {
                      "arrowcolor": "#2a3f5f",
                      "arrowhead": 0,
                      "arrowwidth": 1
                    },
                    "autotypenumbers": "strict",
                    "coloraxis": {
                      "colorbar": {
                        "outlinewidth": 0,
                        "ticks": ""
                      }
                    },
                    "colorscale": {
                      "diverging": [
                        [
                          0,
                          "#8e0152"
                        ],
                        [
                          0.1,
                          "#c51b7d"
                        ],
                        [
                          0.2,
                          "#de77ae"
                        ],
                        [
                          0.3,
                          "#f1b6da"
                        ],
                        [
                          0.4,
                          "#fde0ef"
                        ],
                        [
                          0.5,
                          "#f7f7f7"
                        ],
                        [
                          0.6,
                          "#e6f5d0"
                        ],
                        [
                          0.7,
                          "#b8e186"
                        ],
                        [
                          0.8,
                          "#7fbc41"
                        ],
                        [
                          0.9,
                          "#4d9221"
                        ],
                        [
                          1,
                          "#276419"
                        ]
                      ],
                      "sequential": [
                        [
                          0,
                          "#0d0887"
                        ],
                        [
                          0.1111111111111111,
                          "#46039f"
                        ],
                        [
                          0.2222222222222222,
                          "#7201a8"
                        ],
                        [
                          0.3333333333333333,
                          "#9c179e"
                        ],
                        [
                          0.4444444444444444,
                          "#bd3786"
                        ],
                        [
                          0.5555555555555556,
                          "#d8576b"
                        ],
                        [
                          0.6666666666666666,
                          "#ed7953"
                        ],
                        [
                          0.7777777777777778,
                          "#fb9f3a"
                        ],
                        [
                          0.8888888888888888,
                          "#fdca26"
                        ],
                        [
                          1,
                          "#f0f921"
                        ]
                      ],
                      "sequentialminus": [
                        [
                          0,
                          "#0d0887"
                        ],
                        [
                          0.1111111111111111,
                          "#46039f"
                        ],
                        [
                          0.2222222222222222,
                          "#7201a8"
                        ],
                        [
                          0.3333333333333333,
                          "#9c179e"
                        ],
                        [
                          0.4444444444444444,
                          "#bd3786"
                        ],
                        [
                          0.5555555555555556,
                          "#d8576b"
                        ],
                        [
                          0.6666666666666666,
                          "#ed7953"
                        ],
                        [
                          0.7777777777777778,
                          "#fb9f3a"
                        ],
                        [
                          0.8888888888888888,
                          "#fdca26"
                        ],
                        [
                          1,
                          "#f0f921"
                        ]
                      ]
                    },
                    "colorway": [
                      "#636efa",
                      "#EF553B",
                      "#00cc96",
                      "#ab63fa",
                      "#FFA15A",
                      "#19d3f3",
                      "#FF6692",
                      "#B6E880",
                      "#FF97FF",
                      "#FECB52"
                    ],
                    "font": {
                      "color": "#2a3f5f"
                    },
                    "geo": {
                      "bgcolor": "white",
                      "lakecolor": "white",
                      "landcolor": "#E5ECF6",
                      "showlakes": true,
                      "showland": true,
                      "subunitcolor": "white"
                    },
                    "hoverlabel": {
                      "align": "left"
                    },
                    "hovermode": "closest",
                    "mapbox": {
                      "style": "light"
                    },
                    "paper_bgcolor": "white",
                    "plot_bgcolor": "#E5ECF6",
                    "polar": {
                      "angularaxis": {
                        "gridcolor": "white",
                        "linecolor": "white",
                        "ticks": ""
                      },
                      "bgcolor": "#E5ECF6",
                      "radialaxis": {
                        "gridcolor": "white",
                        "linecolor": "white",
                        "ticks": ""
                      }
                    },
                    "scene": {
                      "xaxis": {
                        "backgroundcolor": "#E5ECF6",
                        "gridcolor": "white",
                        "gridwidth": 2,
                        "linecolor": "white",
                        "showbackground": true,
                        "ticks": "",
                        "zerolinecolor": "white"
                      },
                      "yaxis": {
                        "backgroundcolor": "#E5ECF6",
                        "gridcolor": "white",
                        "gridwidth": 2,
                        "linecolor": "white",
                        "showbackground": true,
                        "ticks": "",
                        "zerolinecolor": "white"
                      },
                      "zaxis": {
                        "backgroundcolor": "#E5ECF6",
                        "gridcolor": "white",
                        "gridwidth": 2,
                        "linecolor": "white",
                        "showbackground": true,
                        "ticks": "",
                        "zerolinecolor": "white"
                      }
                    },
                    "shapedefaults": {
                      "line": {
                        "color": "#2a3f5f"
                      }
                    },
                    "ternary": {
                      "aaxis": {
                        "gridcolor": "white",
                        "linecolor": "white",
                        "ticks": ""
                      },
                      "baxis": {
                        "gridcolor": "white",
                        "linecolor": "white",
                        "ticks": ""
                      },
                      "bgcolor": "#E5ECF6",
                      "caxis": {
                        "gridcolor": "white",
                        "linecolor": "white",
                        "ticks": ""
                      }
                    },
                    "title": {
                      "x": 0.05
                    },
                    "xaxis": {
                      "automargin": true,
                      "gridcolor": "white",
                      "linecolor": "white",
                      "ticks": "",
                      "title": {
                        "standoff": 15
                      },
                      "zerolinecolor": "white",
                      "zerolinewidth": 2
                    },
                    "yaxis": {
                      "automargin": true,
                      "gridcolor": "white",
                      "linecolor": "white",
                      "ticks": "",
                      "title": {
                        "standoff": 15
                      },
                      "zerolinecolor": "white",
                      "zerolinewidth": 2
                    }
                  }
                },
                "title": {
                  "text": "Distribution: Fare"
                },
                "xaxis": {
                  "title": {
                    "text": "Fare"
                  }
                },
                "yaxis": {
                  "title": {
                    "text": "Count"
                  }
                }
              }
            }
          },
          "metadata": {},
          "output_type": "display_data"
        }
      ],
      "source": [
        "# Distribution plots with different backends\n",
        "print('📈 DISTRIBUTION PLOT - PLOTLY')\n",
        "ps.dist_plot(df, 'Fare', backend='plotly')\n"
      ]
    },
    {
      "cell_type": "code",
      "execution_count": 25,
      "metadata": {},
      "outputs": [
        {
          "name": "stdout",
          "output_type": "stream",
          "text": [
            "❓ MISSING VALUE PLOT - PLOTLY\n"
          ]
        },
        {
          "data": {
            "application/vnd.plotly.v1+json": {
              "config": {
                "plotlyServerURL": "https://plot.ly"
              },
              "data": [
                {
                  "orientation": "h",
                  "text": [
                    "125",
                    "30",
                    "1",
                    "0",
                    "0",
                    "0",
                    "0",
                    "0",
                    "0",
                    "0",
                    "0",
                    "0"
                  ],
                  "textposition": "outside",
                  "type": "bar",
                  "x": [
                    0.8012820512820513,
                    0.19230769230769232,
                    0.00641025641025641,
                    0,
                    0,
                    0,
                    0,
                    0,
                    0,
                    0,
                    0,
                    0
                  ],
                  "y": [
                    "Cabin",
                    "Age",
                    "Embarked",
                    "PassengerId",
                    "Survived",
                    "Pclass",
                    "Name",
                    "Sex",
                    "SibSp",
                    "Parch",
                    "Ticket",
                    "Fare"
                  ]
                }
              ],
              "layout": {
                "template": {
                  "data": {
                    "bar": [
                      {
                        "error_x": {
                          "color": "#2a3f5f"
                        },
                        "error_y": {
                          "color": "#2a3f5f"
                        },
                        "marker": {
                          "line": {
                            "color": "#E5ECF6",
                            "width": 0.5
                          },
                          "pattern": {
                            "fillmode": "overlay",
                            "size": 10,
                            "solidity": 0.2
                          }
                        },
                        "type": "bar"
                      }
                    ],
                    "barpolar": [
                      {
                        "marker": {
                          "line": {
                            "color": "#E5ECF6",
                            "width": 0.5
                          },
                          "pattern": {
                            "fillmode": "overlay",
                            "size": 10,
                            "solidity": 0.2
                          }
                        },
                        "type": "barpolar"
                      }
                    ],
                    "carpet": [
                      {
                        "aaxis": {
                          "endlinecolor": "#2a3f5f",
                          "gridcolor": "white",
                          "linecolor": "white",
                          "minorgridcolor": "white",
                          "startlinecolor": "#2a3f5f"
                        },
                        "baxis": {
                          "endlinecolor": "#2a3f5f",
                          "gridcolor": "white",
                          "linecolor": "white",
                          "minorgridcolor": "white",
                          "startlinecolor": "#2a3f5f"
                        },
                        "type": "carpet"
                      }
                    ],
                    "choropleth": [
                      {
                        "colorbar": {
                          "outlinewidth": 0,
                          "ticks": ""
                        },
                        "type": "choropleth"
                      }
                    ],
                    "contour": [
                      {
                        "colorbar": {
                          "outlinewidth": 0,
                          "ticks": ""
                        },
                        "colorscale": [
                          [
                            0,
                            "#0d0887"
                          ],
                          [
                            0.1111111111111111,
                            "#46039f"
                          ],
                          [
                            0.2222222222222222,
                            "#7201a8"
                          ],
                          [
                            0.3333333333333333,
                            "#9c179e"
                          ],
                          [
                            0.4444444444444444,
                            "#bd3786"
                          ],
                          [
                            0.5555555555555556,
                            "#d8576b"
                          ],
                          [
                            0.6666666666666666,
                            "#ed7953"
                          ],
                          [
                            0.7777777777777778,
                            "#fb9f3a"
                          ],
                          [
                            0.8888888888888888,
                            "#fdca26"
                          ],
                          [
                            1,
                            "#f0f921"
                          ]
                        ],
                        "type": "contour"
                      }
                    ],
                    "contourcarpet": [
                      {
                        "colorbar": {
                          "outlinewidth": 0,
                          "ticks": ""
                        },
                        "type": "contourcarpet"
                      }
                    ],
                    "heatmap": [
                      {
                        "colorbar": {
                          "outlinewidth": 0,
                          "ticks": ""
                        },
                        "colorscale": [
                          [
                            0,
                            "#0d0887"
                          ],
                          [
                            0.1111111111111111,
                            "#46039f"
                          ],
                          [
                            0.2222222222222222,
                            "#7201a8"
                          ],
                          [
                            0.3333333333333333,
                            "#9c179e"
                          ],
                          [
                            0.4444444444444444,
                            "#bd3786"
                          ],
                          [
                            0.5555555555555556,
                            "#d8576b"
                          ],
                          [
                            0.6666666666666666,
                            "#ed7953"
                          ],
                          [
                            0.7777777777777778,
                            "#fb9f3a"
                          ],
                          [
                            0.8888888888888888,
                            "#fdca26"
                          ],
                          [
                            1,
                            "#f0f921"
                          ]
                        ],
                        "type": "heatmap"
                      }
                    ],
                    "histogram": [
                      {
                        "marker": {
                          "pattern": {
                            "fillmode": "overlay",
                            "size": 10,
                            "solidity": 0.2
                          }
                        },
                        "type": "histogram"
                      }
                    ],
                    "histogram2d": [
                      {
                        "colorbar": {
                          "outlinewidth": 0,
                          "ticks": ""
                        },
                        "colorscale": [
                          [
                            0,
                            "#0d0887"
                          ],
                          [
                            0.1111111111111111,
                            "#46039f"
                          ],
                          [
                            0.2222222222222222,
                            "#7201a8"
                          ],
                          [
                            0.3333333333333333,
                            "#9c179e"
                          ],
                          [
                            0.4444444444444444,
                            "#bd3786"
                          ],
                          [
                            0.5555555555555556,
                            "#d8576b"
                          ],
                          [
                            0.6666666666666666,
                            "#ed7953"
                          ],
                          [
                            0.7777777777777778,
                            "#fb9f3a"
                          ],
                          [
                            0.8888888888888888,
                            "#fdca26"
                          ],
                          [
                            1,
                            "#f0f921"
                          ]
                        ],
                        "type": "histogram2d"
                      }
                    ],
                    "histogram2dcontour": [
                      {
                        "colorbar": {
                          "outlinewidth": 0,
                          "ticks": ""
                        },
                        "colorscale": [
                          [
                            0,
                            "#0d0887"
                          ],
                          [
                            0.1111111111111111,
                            "#46039f"
                          ],
                          [
                            0.2222222222222222,
                            "#7201a8"
                          ],
                          [
                            0.3333333333333333,
                            "#9c179e"
                          ],
                          [
                            0.4444444444444444,
                            "#bd3786"
                          ],
                          [
                            0.5555555555555556,
                            "#d8576b"
                          ],
                          [
                            0.6666666666666666,
                            "#ed7953"
                          ],
                          [
                            0.7777777777777778,
                            "#fb9f3a"
                          ],
                          [
                            0.8888888888888888,
                            "#fdca26"
                          ],
                          [
                            1,
                            "#f0f921"
                          ]
                        ],
                        "type": "histogram2dcontour"
                      }
                    ],
                    "mesh3d": [
                      {
                        "colorbar": {
                          "outlinewidth": 0,
                          "ticks": ""
                        },
                        "type": "mesh3d"
                      }
                    ],
                    "parcoords": [
                      {
                        "line": {
                          "colorbar": {
                            "outlinewidth": 0,
                            "ticks": ""
                          }
                        },
                        "type": "parcoords"
                      }
                    ],
                    "pie": [
                      {
                        "automargin": true,
                        "type": "pie"
                      }
                    ],
                    "scatter": [
                      {
                        "fillpattern": {
                          "fillmode": "overlay",
                          "size": 10,
                          "solidity": 0.2
                        },
                        "type": "scatter"
                      }
                    ],
                    "scatter3d": [
                      {
                        "line": {
                          "colorbar": {
                            "outlinewidth": 0,
                            "ticks": ""
                          }
                        },
                        "marker": {
                          "colorbar": {
                            "outlinewidth": 0,
                            "ticks": ""
                          }
                        },
                        "type": "scatter3d"
                      }
                    ],
                    "scattercarpet": [
                      {
                        "marker": {
                          "colorbar": {
                            "outlinewidth": 0,
                            "ticks": ""
                          }
                        },
                        "type": "scattercarpet"
                      }
                    ],
                    "scattergeo": [
                      {
                        "marker": {
                          "colorbar": {
                            "outlinewidth": 0,
                            "ticks": ""
                          }
                        },
                        "type": "scattergeo"
                      }
                    ],
                    "scattergl": [
                      {
                        "marker": {
                          "colorbar": {
                            "outlinewidth": 0,
                            "ticks": ""
                          }
                        },
                        "type": "scattergl"
                      }
                    ],
                    "scattermap": [
                      {
                        "marker": {
                          "colorbar": {
                            "outlinewidth": 0,
                            "ticks": ""
                          }
                        },
                        "type": "scattermap"
                      }
                    ],
                    "scattermapbox": [
                      {
                        "marker": {
                          "colorbar": {
                            "outlinewidth": 0,
                            "ticks": ""
                          }
                        },
                        "type": "scattermapbox"
                      }
                    ],
                    "scatterpolar": [
                      {
                        "marker": {
                          "colorbar": {
                            "outlinewidth": 0,
                            "ticks": ""
                          }
                        },
                        "type": "scatterpolar"
                      }
                    ],
                    "scatterpolargl": [
                      {
                        "marker": {
                          "colorbar": {
                            "outlinewidth": 0,
                            "ticks": ""
                          }
                        },
                        "type": "scatterpolargl"
                      }
                    ],
                    "scatterternary": [
                      {
                        "marker": {
                          "colorbar": {
                            "outlinewidth": 0,
                            "ticks": ""
                          }
                        },
                        "type": "scatterternary"
                      }
                    ],
                    "surface": [
                      {
                        "colorbar": {
                          "outlinewidth": 0,
                          "ticks": ""
                        },
                        "colorscale": [
                          [
                            0,
                            "#0d0887"
                          ],
                          [
                            0.1111111111111111,
                            "#46039f"
                          ],
                          [
                            0.2222222222222222,
                            "#7201a8"
                          ],
                          [
                            0.3333333333333333,
                            "#9c179e"
                          ],
                          [
                            0.4444444444444444,
                            "#bd3786"
                          ],
                          [
                            0.5555555555555556,
                            "#d8576b"
                          ],
                          [
                            0.6666666666666666,
                            "#ed7953"
                          ],
                          [
                            0.7777777777777778,
                            "#fb9f3a"
                          ],
                          [
                            0.8888888888888888,
                            "#fdca26"
                          ],
                          [
                            1,
                            "#f0f921"
                          ]
                        ],
                        "type": "surface"
                      }
                    ],
                    "table": [
                      {
                        "cells": {
                          "fill": {
                            "color": "#EBF0F8"
                          },
                          "line": {
                            "color": "white"
                          }
                        },
                        "header": {
                          "fill": {
                            "color": "#C8D4E3"
                          },
                          "line": {
                            "color": "white"
                          }
                        },
                        "type": "table"
                      }
                    ]
                  },
                  "layout": {
                    "annotationdefaults": {
                      "arrowcolor": "#2a3f5f",
                      "arrowhead": 0,
                      "arrowwidth": 1
                    },
                    "autotypenumbers": "strict",
                    "coloraxis": {
                      "colorbar": {
                        "outlinewidth": 0,
                        "ticks": ""
                      }
                    },
                    "colorscale": {
                      "diverging": [
                        [
                          0,
                          "#8e0152"
                        ],
                        [
                          0.1,
                          "#c51b7d"
                        ],
                        [
                          0.2,
                          "#de77ae"
                        ],
                        [
                          0.3,
                          "#f1b6da"
                        ],
                        [
                          0.4,
                          "#fde0ef"
                        ],
                        [
                          0.5,
                          "#f7f7f7"
                        ],
                        [
                          0.6,
                          "#e6f5d0"
                        ],
                        [
                          0.7,
                          "#b8e186"
                        ],
                        [
                          0.8,
                          "#7fbc41"
                        ],
                        [
                          0.9,
                          "#4d9221"
                        ],
                        [
                          1,
                          "#276419"
                        ]
                      ],
                      "sequential": [
                        [
                          0,
                          "#0d0887"
                        ],
                        [
                          0.1111111111111111,
                          "#46039f"
                        ],
                        [
                          0.2222222222222222,
                          "#7201a8"
                        ],
                        [
                          0.3333333333333333,
                          "#9c179e"
                        ],
                        [
                          0.4444444444444444,
                          "#bd3786"
                        ],
                        [
                          0.5555555555555556,
                          "#d8576b"
                        ],
                        [
                          0.6666666666666666,
                          "#ed7953"
                        ],
                        [
                          0.7777777777777778,
                          "#fb9f3a"
                        ],
                        [
                          0.8888888888888888,
                          "#fdca26"
                        ],
                        [
                          1,
                          "#f0f921"
                        ]
                      ],
                      "sequentialminus": [
                        [
                          0,
                          "#0d0887"
                        ],
                        [
                          0.1111111111111111,
                          "#46039f"
                        ],
                        [
                          0.2222222222222222,
                          "#7201a8"
                        ],
                        [
                          0.3333333333333333,
                          "#9c179e"
                        ],
                        [
                          0.4444444444444444,
                          "#bd3786"
                        ],
                        [
                          0.5555555555555556,
                          "#d8576b"
                        ],
                        [
                          0.6666666666666666,
                          "#ed7953"
                        ],
                        [
                          0.7777777777777778,
                          "#fb9f3a"
                        ],
                        [
                          0.8888888888888888,
                          "#fdca26"
                        ],
                        [
                          1,
                          "#f0f921"
                        ]
                      ]
                    },
                    "colorway": [
                      "#636efa",
                      "#EF553B",
                      "#00cc96",
                      "#ab63fa",
                      "#FFA15A",
                      "#19d3f3",
                      "#FF6692",
                      "#B6E880",
                      "#FF97FF",
                      "#FECB52"
                    ],
                    "font": {
                      "color": "#2a3f5f"
                    },
                    "geo": {
                      "bgcolor": "white",
                      "lakecolor": "white",
                      "landcolor": "#E5ECF6",
                      "showlakes": true,
                      "showland": true,
                      "subunitcolor": "white"
                    },
                    "hoverlabel": {
                      "align": "left"
                    },
                    "hovermode": "closest",
                    "mapbox": {
                      "style": "light"
                    },
                    "paper_bgcolor": "white",
                    "plot_bgcolor": "#E5ECF6",
                    "polar": {
                      "angularaxis": {
                        "gridcolor": "white",
                        "linecolor": "white",
                        "ticks": ""
                      },
                      "bgcolor": "#E5ECF6",
                      "radialaxis": {
                        "gridcolor": "white",
                        "linecolor": "white",
                        "ticks": ""
                      }
                    },
                    "scene": {
                      "xaxis": {
                        "backgroundcolor": "#E5ECF6",
                        "gridcolor": "white",
                        "gridwidth": 2,
                        "linecolor": "white",
                        "showbackground": true,
                        "ticks": "",
                        "zerolinecolor": "white"
                      },
                      "yaxis": {
                        "backgroundcolor": "#E5ECF6",
                        "gridcolor": "white",
                        "gridwidth": 2,
                        "linecolor": "white",
                        "showbackground": true,
                        "ticks": "",
                        "zerolinecolor": "white"
                      },
                      "zaxis": {
                        "backgroundcolor": "#E5ECF6",
                        "gridcolor": "white",
                        "gridwidth": 2,
                        "linecolor": "white",
                        "showbackground": true,
                        "ticks": "",
                        "zerolinecolor": "white"
                      }
                    },
                    "shapedefaults": {
                      "line": {
                        "color": "#2a3f5f"
                      }
                    },
                    "ternary": {
                      "aaxis": {
                        "gridcolor": "white",
                        "linecolor": "white",
                        "ticks": ""
                      },
                      "baxis": {
                        "gridcolor": "white",
                        "linecolor": "white",
                        "ticks": ""
                      },
                      "bgcolor": "#E5ECF6",
                      "caxis": {
                        "gridcolor": "white",
                        "linecolor": "white",
                        "ticks": ""
                      }
                    },
                    "title": {
                      "x": 0.05
                    },
                    "xaxis": {
                      "automargin": true,
                      "gridcolor": "white",
                      "linecolor": "white",
                      "ticks": "",
                      "title": {
                        "standoff": 15
                      },
                      "zerolinecolor": "white",
                      "zerolinewidth": 2
                    },
                    "yaxis": {
                      "automargin": true,
                      "gridcolor": "white",
                      "linecolor": "white",
                      "ticks": "",
                      "title": {
                        "standoff": 15
                      },
                      "zerolinecolor": "white",
                      "zerolinewidth": 2
                    }
                  }
                },
                "title": {
                  "text": "Missing values per column"
                },
                "xaxis": {
                  "title": {
                    "text": "Share of missing"
                  }
                },
                "yaxis": {
                  "title": {
                    "text": "Columns"
                  }
                }
              }
            }
          },
          "metadata": {},
          "output_type": "display_data"
        }
      ],
      "source": [
        "# Missing value analysis\n",
        "print('❓ MISSING VALUE PLOT - PLOTLY')\n",
        "ps.missingval_plot(df, backend='plotly')\n"
      ]
    },
    {
      "cell_type": "code",
      "execution_count": 28,
      "metadata": {},
      "outputs": [
        {
          "data": {
            "text/html": [
              "<div><style>\n",
              ".dataframe > thead > tr,\n",
              ".dataframe > tbody > tr {\n",
              "  text-align: right;\n",
              "  white-space: pre-wrap;\n",
              "}\n",
              "</style>\n",
              "<small>shape: (156, 12)</small><table border=\"1\" class=\"dataframe\"><thead><tr><th>PassengerId</th><th>Survived</th><th>Pclass</th><th>Name</th><th>Sex</th><th>Age</th><th>SibSp</th><th>Parch</th><th>Ticket</th><th>Fare</th><th>Cabin</th><th>Embarked</th></tr><tr><td>i64</td><td>i64</td><td>i64</td><td>str</td><td>str</td><td>f64</td><td>i64</td><td>i64</td><td>str</td><td>f64</td><td>str</td><td>str</td></tr></thead><tbody><tr><td>1</td><td>0</td><td>3</td><td>&quot;Braund, Mr. Owen Harris&quot;</td><td>&quot;male&quot;</td><td>22.0</td><td>1</td><td>0</td><td>&quot;A/5 21171&quot;</td><td>7.25</td><td>null</td><td>&quot;S&quot;</td></tr><tr><td>2</td><td>1</td><td>1</td><td>&quot;Cumings, Mrs. John Bradley (Fl…</td><td>&quot;female&quot;</td><td>38.0</td><td>1</td><td>0</td><td>&quot;PC 17599&quot;</td><td>71.2833</td><td>&quot;C85&quot;</td><td>&quot;C&quot;</td></tr><tr><td>3</td><td>1</td><td>3</td><td>&quot;Heikkinen, Miss. Laina&quot;</td><td>&quot;female&quot;</td><td>26.0</td><td>0</td><td>0</td><td>&quot;STON/O2. 3101282&quot;</td><td>7.925</td><td>null</td><td>&quot;S&quot;</td></tr><tr><td>4</td><td>1</td><td>1</td><td>&quot;Futrelle, Mrs. Jacques Heath (…</td><td>&quot;female&quot;</td><td>35.0</td><td>1</td><td>0</td><td>&quot;113803&quot;</td><td>53.1</td><td>&quot;C123&quot;</td><td>&quot;S&quot;</td></tr><tr><td>5</td><td>0</td><td>3</td><td>&quot;Allen, Mr. William Henry&quot;</td><td>&quot;male&quot;</td><td>35.0</td><td>0</td><td>0</td><td>&quot;373450&quot;</td><td>8.05</td><td>null</td><td>&quot;S&quot;</td></tr><tr><td>&hellip;</td><td>&hellip;</td><td>&hellip;</td><td>&hellip;</td><td>&hellip;</td><td>&hellip;</td><td>&hellip;</td><td>&hellip;</td><td>&hellip;</td><td>&hellip;</td><td>&hellip;</td><td>&hellip;</td></tr><tr><td>152</td><td>1</td><td>1</td><td>&quot;Pears, Mrs. Thomas (Edith Wear…</td><td>&quot;female&quot;</td><td>22.0</td><td>1</td><td>0</td><td>&quot;113776&quot;</td><td>66.6</td><td>&quot;C2&quot;</td><td>&quot;S&quot;</td></tr><tr><td>153</td><td>0</td><td>3</td><td>&quot;Meo, Mr. Alfonzo&quot;</td><td>&quot;male&quot;</td><td>55.5</td><td>0</td><td>0</td><td>&quot;A.5. 11206&quot;</td><td>8.05</td><td>null</td><td>&quot;S&quot;</td></tr><tr><td>154</td><td>0</td><td>3</td><td>&quot;van Billiard, Mr. Austin Blyle…</td><td>&quot;male&quot;</td><td>40.5</td><td>0</td><td>2</td><td>&quot;A/5. 851&quot;</td><td>14.5</td><td>null</td><td>&quot;S&quot;</td></tr><tr><td>155</td><td>0</td><td>3</td><td>&quot;Olsen, Mr. Ole Martin&quot;</td><td>&quot;male&quot;</td><td>null</td><td>0</td><td>0</td><td>&quot;Fa 265302&quot;</td><td>7.3125</td><td>null</td><td>&quot;S&quot;</td></tr><tr><td>156</td><td>0</td><td>1</td><td>&quot;Williams, Mr. Charles Duane&quot;</td><td>&quot;male&quot;</td><td>51.0</td><td>0</td><td>1</td><td>&quot;PC 17597&quot;</td><td>61.3792</td><td>null</td><td>&quot;C&quot;</td></tr></tbody></table></div>"
            ],
            "text/plain": [
              "shape: (156, 12)\n",
              "┌─────────────┬──────────┬────────┬──────────────────┬───┬────────────┬─────────┬───────┬──────────┐\n",
              "│ PassengerId ┆ Survived ┆ Pclass ┆ Name             ┆ … ┆ Ticket     ┆ Fare    ┆ Cabin ┆ Embarked │\n",
              "│ ---         ┆ ---      ┆ ---    ┆ ---              ┆   ┆ ---        ┆ ---     ┆ ---   ┆ ---      │\n",
              "│ i64         ┆ i64      ┆ i64    ┆ str              ┆   ┆ str        ┆ f64     ┆ str   ┆ str      │\n",
              "╞═════════════╪══════════╪════════╪══════════════════╪═══╪════════════╪═════════╪═══════╪══════════╡\n",
              "│ 1           ┆ 0        ┆ 3      ┆ Braund, Mr. Owen ┆ … ┆ A/5 21171  ┆ 7.25    ┆ null  ┆ S        │\n",
              "│             ┆          ┆        ┆ Harris           ┆   ┆            ┆         ┆       ┆          │\n",
              "│ 2           ┆ 1        ┆ 1      ┆ Cumings, Mrs.    ┆ … ┆ PC 17599   ┆ 71.2833 ┆ C85   ┆ C        │\n",
              "│             ┆          ┆        ┆ John Bradley     ┆   ┆            ┆         ┆       ┆          │\n",
              "│             ┆          ┆        ┆ (Fl…             ┆   ┆            ┆         ┆       ┆          │\n",
              "│ 3           ┆ 1        ┆ 3      ┆ Heikkinen, Miss. ┆ … ┆ STON/O2.   ┆ 7.925   ┆ null  ┆ S        │\n",
              "│             ┆          ┆        ┆ Laina            ┆   ┆ 3101282    ┆         ┆       ┆          │\n",
              "│ 4           ┆ 1        ┆ 1      ┆ Futrelle, Mrs.   ┆ … ┆ 113803     ┆ 53.1    ┆ C123  ┆ S        │\n",
              "│             ┆          ┆        ┆ Jacques Heath (… ┆   ┆            ┆         ┆       ┆          │\n",
              "│ 5           ┆ 0        ┆ 3      ┆ Allen, Mr.       ┆ … ┆ 373450     ┆ 8.05    ┆ null  ┆ S        │\n",
              "│             ┆          ┆        ┆ William Henry    ┆   ┆            ┆         ┆       ┆          │\n",
              "│ …           ┆ …        ┆ …      ┆ …                ┆ … ┆ …          ┆ …       ┆ …     ┆ …        │\n",
              "│ 152         ┆ 1        ┆ 1      ┆ Pears, Mrs.      ┆ … ┆ 113776     ┆ 66.6    ┆ C2    ┆ S        │\n",
              "│             ┆          ┆        ┆ Thomas (Edith    ┆   ┆            ┆         ┆       ┆          │\n",
              "│             ┆          ┆        ┆ Wear…            ┆   ┆            ┆         ┆       ┆          │\n",
              "│ 153         ┆ 0        ┆ 3      ┆ Meo, Mr. Alfonzo ┆ … ┆ A.5. 11206 ┆ 8.05    ┆ null  ┆ S        │\n",
              "│ 154         ┆ 0        ┆ 3      ┆ van Billiard,    ┆ … ┆ A/5. 851   ┆ 14.5    ┆ null  ┆ S        │\n",
              "│             ┆          ┆        ┆ Mr. Austin       ┆   ┆            ┆         ┆       ┆          │\n",
              "│             ┆          ┆        ┆ Blyle…           ┆   ┆            ┆         ┆       ┆          │\n",
              "│ 155         ┆ 0        ┆ 3      ┆ Olsen, Mr. Ole   ┆ … ┆ Fa 265302  ┆ 7.3125  ┆ null  ┆ S        │\n",
              "│             ┆          ┆        ┆ Martin           ┆   ┆            ┆         ┆       ┆          │\n",
              "│ 156         ┆ 0        ┆ 1      ┆ Williams, Mr.    ┆ … ┆ PC 17597   ┆ 61.3792 ┆ null  ┆ C        │\n",
              "│             ┆          ┆        ┆ Charles Duane    ┆   ┆            ┆         ┆       ┆          │\n",
              "└─────────────┴──────────┴────────┴──────────────────┴───┴────────────┴─────────┴───────┴──────────┘"
            ]
          },
          "execution_count": 28,
          "metadata": {},
          "output_type": "execute_result"
        }
      ],
      "source": [
        "df"
      ]
    },
    {
      "cell_type": "code",
      "execution_count": 34,
      "metadata": {},
      "outputs": [
        {
          "name": "stdout",
          "output_type": "stream",
          "text": [
            "📊 CATEGORICAL PLOT - PLOTLY\n"
          ]
        },
        {
          "data": {
            "text/html": [
              "\n",
              "<style>\n",
              "  #altair-viz-8da9f578775944d989bae0affc8c64b1.vega-embed {\n",
              "    width: 100%;\n",
              "    display: flex;\n",
              "  }\n",
              "\n",
              "  #altair-viz-8da9f578775944d989bae0affc8c64b1.vega-embed details,\n",
              "  #altair-viz-8da9f578775944d989bae0affc8c64b1.vega-embed details summary {\n",
              "    position: relative;\n",
              "  }\n",
              "</style>\n",
              "<div id=\"altair-viz-8da9f578775944d989bae0affc8c64b1\"></div>\n",
              "<script type=\"text/javascript\">\n",
              "  var VEGA_DEBUG = (typeof VEGA_DEBUG == \"undefined\") ? {} : VEGA_DEBUG;\n",
              "  (function(spec, embedOpt){\n",
              "    let outputDiv = document.currentScript.previousElementSibling;\n",
              "    if (outputDiv.id !== \"altair-viz-8da9f578775944d989bae0affc8c64b1\") {\n",
              "      outputDiv = document.getElementById(\"altair-viz-8da9f578775944d989bae0affc8c64b1\");\n",
              "    }\n",
              "\n",
              "    const paths = {\n",
              "      \"vega\": \"https://cdn.jsdelivr.net/npm/vega@5?noext\",\n",
              "      \"vega-lib\": \"https://cdn.jsdelivr.net/npm/vega-lib?noext\",\n",
              "      \"vega-lite\": \"https://cdn.jsdelivr.net/npm/vega-lite@5.20.1?noext\",\n",
              "      \"vega-embed\": \"https://cdn.jsdelivr.net/npm/vega-embed@6?noext\",\n",
              "    };\n",
              "\n",
              "    function maybeLoadScript(lib, version) {\n",
              "      var key = `${lib.replace(\"-\", \"\")}_version`;\n",
              "      return (VEGA_DEBUG[key] == version) ?\n",
              "        Promise.resolve(paths[lib]) :\n",
              "        new Promise(function(resolve, reject) {\n",
              "          var s = document.createElement('script');\n",
              "          document.getElementsByTagName(\"head\")[0].appendChild(s);\n",
              "          s.async = true;\n",
              "          s.onload = () => {\n",
              "            VEGA_DEBUG[key] = version;\n",
              "            return resolve(paths[lib]);\n",
              "          };\n",
              "          s.onerror = () => reject(`Error loading script: ${paths[lib]}`);\n",
              "          s.src = paths[lib];\n",
              "        });\n",
              "    }\n",
              "\n",
              "    function showError(err) {\n",
              "      outputDiv.innerHTML = `<div class=\"error\" style=\"color:red;\">${err}</div>`;\n",
              "      throw err;\n",
              "    }\n",
              "\n",
              "    function displayChart(vegaEmbed) {\n",
              "      vegaEmbed(outputDiv, spec, embedOpt)\n",
              "        .catch(err => showError(`Javascript Error: ${err.message}<br>This usually means there's a typo in your chart specification. See the javascript console for the full traceback.`));\n",
              "    }\n",
              "\n",
              "    if(typeof define === \"function\" && define.amd) {\n",
              "      requirejs.config({paths});\n",
              "      let deps = [\"vega-embed\"];\n",
              "      require(deps, displayChart, err => showError(`Error loading script: ${err.message}`));\n",
              "    } else {\n",
              "      maybeLoadScript(\"vega\", \"5\")\n",
              "        .then(() => maybeLoadScript(\"vega-lite\", \"5.20.1\"))\n",
              "        .then(() => maybeLoadScript(\"vega-embed\", \"6\"))\n",
              "        .catch(showError)\n",
              "        .then(() => displayChart(vegaEmbed));\n",
              "    }\n",
              "  })({\"config\": {\"view\": {\"continuousWidth\": 300, \"continuousHeight\": 300}}, \"data\": {\"name\": \"data-0777435f6f8fd46dc457547ae9d449f7\"}, \"mark\": {\"type\": \"bar\"}, \"encoding\": {\"color\": {\"field\": \"type\", \"legend\": {\"title\": \"Category Type\"}, \"scale\": {\"domain\": [\"top\", \"bottom\"], \"range\": [\"steelblue\", \"indianred\"]}, \"type\": \"nominal\"}, \"facet\": {\"field\": \"column\", \"title\": \"Categorical Variables\", \"type\": \"nominal\"}, \"tooltip\": [{\"field\": \"column\", \"type\": \"nominal\"}, {\"field\": \"value\", \"type\": \"nominal\"}, {\"field\": \"count\", \"type\": \"quantitative\"}, {\"field\": \"type\", \"type\": \"nominal\"}], \"x\": {\"field\": \"value\", \"title\": \"Categories\", \"type\": \"nominal\"}, \"y\": {\"field\": \"count\", \"title\": \"Count\", \"type\": \"quantitative\"}}, \"height\": 400, \"resolve\": {\"scale\": {\"x\": \"independent\"}}, \"title\": \"Categorical Value Frequencies\", \"width\": 240, \"$schema\": \"https://vega.github.io/schema/vega-lite/v5.20.1.json\", \"datasets\": {\"data-0777435f6f8fd46dc457547ae9d449f7\": [{\"column\": \"Name\", \"value\": \"Braund, Mr. Owen Harris\", \"count\": 1, \"type\": \"top\"}, {\"column\": \"Name\", \"value\": \"Cumings, Mrs. John Bradley (Florence Briggs Thayer)\", \"count\": 1, \"type\": \"top\"}, {\"column\": \"Name\", \"value\": \"Heikkinen, Miss. Laina\", \"count\": 1, \"type\": \"top\"}, {\"column\": \"Name\", \"value\": \"Futrelle, Mrs. Jacques Heath (Lily May Peel)\", \"count\": 1, \"type\": \"top\"}, {\"column\": \"Name\", \"value\": \"Allen, Mr. William Henry\", \"count\": 1, \"type\": \"top\"}, {\"column\": \"Name\", \"value\": \"Moran, Mr. James\", \"count\": 1, \"type\": \"top\"}, {\"column\": \"Name\", \"value\": \"McCarthy, Mr. Timothy J\", \"count\": 1, \"type\": \"top\"}, {\"column\": \"Name\", \"value\": \"Palsson, Master. Gosta Leonard\", \"count\": 1, \"type\": \"top\"}, {\"column\": \"Name\", \"value\": \"Johnson, Mrs. Oscar W (Elisabeth Vilhelmina Berg)\", \"count\": 1, \"type\": \"top\"}, {\"column\": \"Name\", \"value\": \"Nasser, Mrs. Nicholas (Adele Achem)\", \"count\": 1, \"type\": \"top\"}, {\"column\": \"Name\", \"value\": \"Sandstrom, Miss. Marguerite Rut\", \"count\": 1, \"type\": \"bottom\"}, {\"column\": \"Name\", \"value\": \"Bonnell, Miss. Elizabeth\", \"count\": 1, \"type\": \"bottom\"}, {\"column\": \"Name\", \"value\": \"Saundercock, Mr. William Henry\", \"count\": 1, \"type\": \"bottom\"}, {\"column\": \"Name\", \"value\": \"Andersson, Mr. Anders Johan\", \"count\": 1, \"type\": \"bottom\"}, {\"column\": \"Name\", \"value\": \"Vestrom, Miss. Hulda Amanda Adolfina\", \"count\": 1, \"type\": \"bottom\"}, {\"column\": \"Name\", \"value\": \"Hewlett, Mrs. (Mary D Kingcome) \", \"count\": 1, \"type\": \"bottom\"}, {\"column\": \"Name\", \"value\": \"Rice, Master. Eugene\", \"count\": 1, \"type\": \"bottom\"}, {\"column\": \"Name\", \"value\": \"Williams, Mr. Charles Eugene\", \"count\": 1, \"type\": \"bottom\"}, {\"column\": \"Name\", \"value\": \"Vander Planke, Mrs. Julius (Emelia Maria Vandemoortele)\", \"count\": 1, \"type\": \"bottom\"}, {\"column\": \"Name\", \"value\": \"Masselmani, Mrs. Fatima\", \"count\": 1, \"type\": \"bottom\"}, {\"column\": \"Sex\", \"value\": \"male\", \"count\": 100, \"type\": \"top\"}, {\"column\": \"Sex\", \"value\": \"female\", \"count\": 56, \"type\": \"top\"}, {\"column\": \"Ticket\", \"value\": \"113803\", \"count\": 2, \"type\": \"top\"}, {\"column\": \"Ticket\", \"value\": \"349909\", \"count\": 2, \"type\": \"top\"}, {\"column\": \"Ticket\", \"value\": \"237736\", \"count\": 2, \"type\": \"top\"}, {\"column\": \"Ticket\", \"value\": \"347082\", \"count\": 2, \"type\": \"top\"}, {\"column\": \"Ticket\", \"value\": \"19950\", \"count\": 2, \"type\": \"top\"}, {\"column\": \"Ticket\", \"value\": \"2651\", \"count\": 2, \"type\": \"top\"}, {\"column\": \"Ticket\", \"value\": \"11668\", \"count\": 2, \"type\": \"top\"}, {\"column\": \"Ticket\", \"value\": \"CA 2144\", \"count\": 2, \"type\": \"top\"}, {\"column\": \"Ticket\", \"value\": \"S.O.C. 14879\", \"count\": 2, \"type\": \"top\"}, {\"column\": \"Ticket\", \"value\": \"W./C. 6608\", \"count\": 2, \"type\": \"top\"}, {\"column\": \"Ticket\", \"value\": \"35281\", \"count\": 2, \"type\": \"bottom\"}, {\"column\": \"Ticket\", \"value\": \"A/5 21171\", \"count\": 1, \"type\": \"bottom\"}, {\"column\": \"Ticket\", \"value\": \"PC 17599\", \"count\": 1, \"type\": \"bottom\"}, {\"column\": \"Ticket\", \"value\": \"STON/O2. 3101282\", \"count\": 1, \"type\": \"bottom\"}, {\"column\": \"Ticket\", \"value\": \"373450\", \"count\": 1, \"type\": \"bottom\"}, {\"column\": \"Ticket\", \"value\": \"330877\", \"count\": 1, \"type\": \"bottom\"}, {\"column\": \"Ticket\", \"value\": \"17463\", \"count\": 1, \"type\": \"bottom\"}, {\"column\": \"Ticket\", \"value\": \"347742\", \"count\": 1, \"type\": \"bottom\"}, {\"column\": \"Ticket\", \"value\": \"PP 9549\", \"count\": 1, \"type\": \"bottom\"}, {\"column\": \"Ticket\", \"value\": \"113783\", \"count\": 1, \"type\": \"bottom\"}, {\"column\": \"Cabin\", \"value\": \"None\", \"count\": 125, \"type\": \"top\"}, {\"column\": \"Cabin\", \"value\": \"C123\", \"count\": 2, \"type\": \"top\"}, {\"column\": \"Cabin\", \"value\": \"C23 C25 C27\", \"count\": 2, \"type\": \"top\"}, {\"column\": \"Cabin\", \"value\": \"D26\", \"count\": 2, \"type\": \"top\"}, {\"column\": \"Cabin\", \"value\": \"C85\", \"count\": 1, \"type\": \"top\"}, {\"column\": \"Cabin\", \"value\": \"E46\", \"count\": 1, \"type\": \"top\"}, {\"column\": \"Cabin\", \"value\": \"G6\", \"count\": 1, \"type\": \"top\"}, {\"column\": \"Cabin\", \"value\": \"C103\", \"count\": 1, \"type\": \"top\"}, {\"column\": \"Cabin\", \"value\": \"D56\", \"count\": 1, \"type\": \"top\"}, {\"column\": \"Cabin\", \"value\": \"A6\", \"count\": 1, \"type\": \"top\"}, {\"column\": \"Cabin\", \"value\": \"B78\", \"count\": 1, \"type\": \"bottom\"}, {\"column\": \"Cabin\", \"value\": \"D33\", \"count\": 1, \"type\": \"bottom\"}, {\"column\": \"Cabin\", \"value\": \"B30\", \"count\": 1, \"type\": \"bottom\"}, {\"column\": \"Cabin\", \"value\": \"C52\", \"count\": 1, \"type\": \"bottom\"}, {\"column\": \"Cabin\", \"value\": \"B28\", \"count\": 1, \"type\": \"bottom\"}, {\"column\": \"Cabin\", \"value\": \"C83\", \"count\": 1, \"type\": \"bottom\"}, {\"column\": \"Cabin\", \"value\": \"F33\", \"count\": 1, \"type\": \"bottom\"}, {\"column\": \"Cabin\", \"value\": \"F G73\", \"count\": 1, \"type\": \"bottom\"}, {\"column\": \"Cabin\", \"value\": \"E31\", \"count\": 1, \"type\": \"bottom\"}, {\"column\": \"Cabin\", \"value\": \"A5\", \"count\": 1, \"type\": \"bottom\"}, {\"column\": \"Embarked\", \"value\": \"S\", \"count\": 110, \"type\": \"top\"}, {\"column\": \"Embarked\", \"value\": \"C\", \"count\": 32, \"type\": \"top\"}, {\"column\": \"Embarked\", \"value\": \"Q\", \"count\": 13, \"type\": \"top\"}, {\"column\": \"Embarked\", \"value\": \"None\", \"count\": 1, \"type\": \"top\"}]}}, {\"mode\": \"vega-lite\"});\n",
              "</script>"
            ],
            "text/plain": [
              "alt.Chart(...)"
            ]
          },
          "execution_count": 34,
          "metadata": {},
          "output_type": "execute_result"
        }
      ],
      "source": [
        "# Categorical analysis\n",
        "print('📊 CATEGORICAL PLOT - PLOTLY')\n",
        "ps.cat_plot(df, backend='altair', width=1200, height=400)\n"
      ]
    },
    {
      "cell_type": "markdown",
      "metadata": {},
      "source": [
        "## 🎉 Summary\n",
        "\n",
        "**Polarscope v1.0.0** - Professional data inspection and visualization toolkit for Polars\n",
        "\n",
        "✅ **Enhanced X-ray analysis** with performance metrics  \n",
        "✅ **Multi-backend visualizations** (Plotly, Seaborn, Altair)  \n",
        "✅ **Comprehensive data processing** and cleaning  \n",
        "✅ **Native Polars performance** throughout  \n",
        "✅ **Professional Great Tables** output  \n",
        "\n",
        "🔬 **Ready for production data science workflows!**\n"
      ]
    }
  ],
  "metadata": {
    "kernelspec": {
      "display_name": "polarscope-test",
      "language": "python",
      "name": "python3"
    },
    "language_info": {
      "codemirror_mode": {
        "name": "ipython",
        "version": 3
      },
      "file_extension": ".py",
      "mimetype": "text/x-python",
      "name": "python",
      "nbconvert_exporter": "python",
      "pygments_lexer": "ipython3",
      "version": "3.10.18"
    }
  },
  "nbformat": 4,
  "nbformat_minor": 2
}
